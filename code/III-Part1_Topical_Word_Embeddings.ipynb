{
 "cells": [
  {
   "cell_type": "markdown",
   "metadata": {},
   "source": [
    "# Libraries and utils"
   ]
  },
  {
   "cell_type": "code",
   "execution_count": 83,
   "metadata": {},
   "outputs": [],
   "source": [
    "import pickle\n",
    "import nltk\n",
    "from gensim.models import Word2Vec\n",
    "import multiprocessing\n",
    "import pandas as pd\n",
    "from collections import defaultdict\n",
    "\n",
    "from nltk.stem import WordNetLemmatizer\n",
    "from sklearn.manifold import TSNE\n",
    "\n",
    "import matplotlib.pyplot as plt\n",
    "\n",
    "import warnings\n",
    "warnings.filterwarnings(\"ignore\")"
   ]
  },
  {
   "cell_type": "code",
   "execution_count": 16,
   "metadata": {},
   "outputs": [],
   "source": [
    "# inspired by https://blog.cambridgespark.com/tutorial-build-your-own-embedding-and-use-it-in-a-neural-network-e9cde4a81296\n",
    "lemmatizer=WordNetLemmatizer()\n",
    "\n",
    "def word_splt(lst): \n",
    "    return list(map(lambda word:[word], lst)) \n",
    "\n",
    "def lemmatize_sent(sent):\n",
    "    return [lemmatizer.lemmatize(word.lower()) for word in sent]\n",
    "\n",
    "def embedd_by_topic(ind):   \n",
    "    text = new_df_g['post'][ind]\n",
    "    \n",
    "    text_l = text.split('.')\n",
    "    text_l=word_splt(text_l)\n",
    "    tokens = [sub.split() for subl in  text_l for sub in subl] \n",
    "    \n",
    "    lemmatized = []\n",
    "    for i in tokens:\n",
    "        lemmatized.append(lemmatize_sent(i))\n",
    "\n",
    "    \n",
    "    embedding_dim=300\n",
    "    \n",
    "    w_v = Word2Vec(lemmatized, size=embedding_dim, window=5, \n",
    "                   min_count=5, negative=15, iter=10, workers=multiprocessing.cpu_count())\n",
    "\n",
    "    word_vectors = w_v.wv\n",
    "    \n",
    "    return word_vectors\n",
    "    "
   ]
  },
  {
   "cell_type": "markdown",
   "metadata": {},
   "source": [
    "# Data preparation"
   ]
  },
  {
   "cell_type": "code",
   "execution_count": 4,
   "metadata": {},
   "outputs": [
    {
     "name": "stdout",
     "output_type": "stream",
     "text": [
      "/Users/elena/Desktop/Metis/projects/5_project/Blogger_Boost/code\r\n"
     ]
    }
   ],
   "source": [
    "!pwd"
   ]
  },
  {
   "cell_type": "code",
   "execution_count": 5,
   "metadata": {},
   "outputs": [],
   "source": [
    "with open('../../blogger_com_data_19320_6_v2.pkl', 'rb') as picklefile:\n",
    "    df = pickle.load(picklefile)"
   ]
  },
  {
   "cell_type": "code",
   "execution_count": 6,
   "metadata": {},
   "outputs": [],
   "source": [
    "with open('../../data/blogger_com_data_19320_tsne3d.pkl', 'rb') as picklefile:\n",
    "    tsne = pickle.load(picklefile)"
   ]
  },
  {
   "cell_type": "code",
   "execution_count": 7,
   "metadata": {},
   "outputs": [],
   "source": [
    "#tsne"
   ]
  },
  {
   "cell_type": "code",
   "execution_count": 8,
   "metadata": {},
   "outputs": [],
   "source": [
    "new_df = pd.merge(df, tsne,  how='left', left_on=['blogger_id'], right_on = ['blogger_id'])"
   ]
  },
  {
   "cell_type": "code",
   "execution_count": 9,
   "metadata": {},
   "outputs": [],
   "source": [
    "new_df = new_df[['blogger_id', 'post', 'prime_topic']]"
   ]
  },
  {
   "cell_type": "code",
   "execution_count": 10,
   "metadata": {},
   "outputs": [],
   "source": [
    "new_df_g = new_df.groupby(['prime_topic'])['post'].apply(' '.join).reset_index()"
   ]
  },
  {
   "cell_type": "markdown",
   "metadata": {},
   "source": [
    "# Training"
   ]
  },
  {
   "cell_type": "code",
   "execution_count": 17,
   "metadata": {},
   "outputs": [],
   "source": [
    "embds = defaultdict()\n",
    "\n",
    "for i in range(new_df_g['post'].shape[0]):\n",
    "    embds[new_df_g['prime_topic'][i]] = embedd_by_topic(i)"
   ]
  },
  {
   "cell_type": "code",
   "execution_count": 18,
   "metadata": {},
   "outputs": [
    {
     "data": {
      "text/plain": [
       "defaultdict(None,\n",
       "            {'blogging': <gensim.models.keyedvectors.Word2VecKeyedVectors at 0x7f8fff6b6710>,\n",
       "             'faith': <gensim.models.keyedvectors.Word2VecKeyedVectors at 0x7f8e9c4c7cd0>,\n",
       "             'jargon': <gensim.models.keyedvectors.Word2VecKeyedVectors at 0x7f8e78af8d10>,\n",
       "             'love_relationship': <gensim.models.keyedvectors.Word2VecKeyedVectors at 0x7f8e94933fd0>,\n",
       "             'mundane': <gensim.models.keyedvectors.Word2VecKeyedVectors at 0x7f8ec25507d0>,\n",
       "             'politics': <gensim.models.keyedvectors.Word2VecKeyedVectors at 0x7f8e33123d50>,\n",
       "             'teen_fun_days': <gensim.models.keyedvectors.Word2VecKeyedVectors at 0x7f8e90c59610>})"
      ]
     },
     "execution_count": 18,
     "metadata": {},
     "output_type": "execute_result"
    }
   ],
   "source": [
    "embds"
   ]
  },
  {
   "cell_type": "code",
   "execution_count": 49,
   "metadata": {},
   "outputs": [],
   "source": [
    "with open('../../topic_embeds.pkl', 'wb') as picklefile:\n",
    "    pickle.dump(embds, picklefile)"
   ]
  },
  {
   "cell_type": "markdown",
   "metadata": {},
   "source": [
    "# Similar by word"
   ]
  },
  {
   "cell_type": "code",
   "execution_count": 45,
   "metadata": {},
   "outputs": [
    {
     "data": {
      "text/plain": [
       "[('partner,', 0.6210938692092896),\n",
       " ('spouse', 0.6160284280776978),\n",
       " ('supervisor', 0.5585404634475708),\n",
       " ('teammate', 0.5424641370773315),\n",
       " ('boyfriend', 0.5398346781730652),\n",
       " ('boss,', 0.5386402606964111),\n",
       " ('roommate', 0.5343802571296692),\n",
       " ('classmates,', 0.5332810878753662),\n",
       " ('wife', 0.5325641632080078),\n",
       " ('girlfriend', 0.5311379432678223)]"
      ]
     },
     "execution_count": 45,
     "metadata": {},
     "output_type": "execute_result"
    }
   ],
   "source": [
    "embds['blogging'].similar_by_word('partner')"
   ]
  },
  {
   "cell_type": "code",
   "execution_count": 44,
   "metadata": {},
   "outputs": [
    {
     "data": {
      "text/plain": [
       "[('families,', 0.6554819345474243),\n",
       " ('mentor', 0.6190775632858276),\n",
       " ('equipping', 0.611336886882782),\n",
       " ('parents,', 0.6066656708717346),\n",
       " ('peer', 0.5965054035186768),\n",
       " ('role', 0.5963485836982727),\n",
       " ('children,', 0.5884504914283752),\n",
       " ('heritage', 0.5790526866912842),\n",
       " ('students,', 0.5775643587112427),\n",
       " ('husband,', 0.5733423233032227)]"
      ]
     },
     "execution_count": 44,
     "metadata": {},
     "output_type": "execute_result"
    }
   ],
   "source": [
    "embds['faith'].similar_by_word('partner')"
   ]
  },
  {
   "cell_type": "code",
   "execution_count": 106,
   "metadata": {},
   "outputs": [
    {
     "data": {
      "text/plain": [
       "dict_keys(['blogging', 'faith', 'jargon', 'love_relationship', 'mundane', 'politics', 'teen_fun_days'])"
      ]
     },
     "execution_count": 106,
     "metadata": {},
     "output_type": "execute_result"
    }
   ],
   "source": [
    "embds.keys()"
   ]
  },
  {
   "cell_type": "code",
   "execution_count": 46,
   "metadata": {},
   "outputs": [
    {
     "data": {
      "text/plain": [
       "[('parents?', 0.6192609071731567),\n",
       " ('sibling', 0.5991154909133911),\n",
       " ('life?', 0.5944355726242065),\n",
       " ('touch,', 0.5858711004257202),\n",
       " ('daughter', 0.5853942632675171),\n",
       " ('weakness', 0.581780195236206),\n",
       " ('room?', 0.5775052309036255),\n",
       " ('wife', 0.5759271383285522),\n",
       " ('campaign', 0.5754979252815247),\n",
       " ('boyfriend,', 0.5688776969909668)]"
      ]
     },
     "execution_count": 46,
     "metadata": {},
     "output_type": "execute_result"
    }
   ],
   "source": [
    "embds['teen_fun_days'].similar_by_word('partner')"
   ]
  },
  {
   "cell_type": "code",
   "execution_count": 47,
   "metadata": {},
   "outputs": [
    {
     "data": {
      "text/plain": [
       "[('spouse', 0.6131894588470459),\n",
       " ('colleague', 0.6001355051994324),\n",
       " ('employer', 0.592117190361023),\n",
       " ('countryman', 0.5882123112678528),\n",
       " ('parent', 0.5783097743988037),\n",
       " ('parents,', 0.5709174275398254),\n",
       " ('daughter,', 0.5668789744377136),\n",
       " ('employment,', 0.5556104779243469),\n",
       " ('workplace', 0.5524344444274902),\n",
       " ('profession', 0.5490902662277222)]"
      ]
     },
     "execution_count": 47,
     "metadata": {},
     "output_type": "execute_result"
    }
   ],
   "source": [
    "embds['politics'].similar_by_word('partner')"
   ]
  },
  {
   "cell_type": "code",
   "execution_count": 48,
   "metadata": {},
   "outputs": [
    {
     "data": {
      "text/plain": [
       "[('girlfriend', 0.6918103694915771),\n",
       " ('boyfriend', 0.6451742053031921),\n",
       " ('supervisor', 0.6375335454940796),\n",
       " ('beloved', 0.6353716850280762),\n",
       " ('husband', 0.6211665272712708),\n",
       " ('partner,', 0.6136278510093689),\n",
       " ('wife', 0.6073704361915588),\n",
       " ('daughter', 0.6067254543304443),\n",
       " ('buddy', 0.6054929494857788),\n",
       " ('friend', 0.6026976108551025)]"
      ]
     },
     "execution_count": 48,
     "metadata": {},
     "output_type": "execute_result"
    }
   ],
   "source": [
    "embds['jargon'].similar_by_word('partner')"
   ]
  },
  {
   "cell_type": "markdown",
   "metadata": {},
   "source": [
    "# Most similar: positive and negative"
   ]
  },
  {
   "cell_type": "code",
   "execution_count": 53,
   "metadata": {},
   "outputs": [
    {
     "name": "stdout",
     "output_type": "stream",
     "text": [
      "Most similar to \"partner\" and dissimilar to \"family\":  [('examine', 0.3897210359573364), ('ethical', 0.3734012842178345), ('establish', 0.37096452713012695), ('us', 0.3697802424430847), ('pose', 0.3692972660064697), ('authentic', 0.36855965852737427), ('self:', 0.36594876646995544), ('regarding', 0.3653610944747925), ('instrument,', 0.36514902114868164), ('serf', 0.363373339176178)]\n"
     ]
    }
   ],
   "source": [
    "result = embds['faith'].most_similar(positive=['partner'], negative=['family'])\n",
    "print('Most similar to \"partner\" and dissimilar to \"family\": ', result[:10])"
   ]
  },
  {
   "cell_type": "markdown",
   "metadata": {},
   "source": [
    "# Compare words similarity for different groups"
   ]
  },
  {
   "cell_type": "code",
   "execution_count": 59,
   "metadata": {},
   "outputs": [
    {
     "data": {
      "text/plain": [
       "0.6556965"
      ]
     },
     "execution_count": 59,
     "metadata": {},
     "output_type": "execute_result"
    }
   ],
   "source": [
    "embds['jargon'].n_similarity('love', 'friendship')"
   ]
  },
  {
   "cell_type": "code",
   "execution_count": 60,
   "metadata": {},
   "outputs": [
    {
     "data": {
      "text/plain": [
       "0.6491781"
      ]
     },
     "execution_count": 60,
     "metadata": {},
     "output_type": "execute_result"
    }
   ],
   "source": [
    "embds['politics'].n_similarity('love', 'friendship')"
   ]
  },
  {
   "cell_type": "code",
   "execution_count": 61,
   "metadata": {},
   "outputs": [
    {
     "data": {
      "text/plain": [
       "0.73877794"
      ]
     },
     "execution_count": 61,
     "metadata": {},
     "output_type": "execute_result"
    }
   ],
   "source": [
    "embds['teen_fun_days'].n_similarity('love', 'friendship')"
   ]
  },
  {
   "cell_type": "code",
   "execution_count": 64,
   "metadata": {},
   "outputs": [
    {
     "data": {
      "text/plain": [
       "0.60260856"
      ]
     },
     "execution_count": 64,
     "metadata": {},
     "output_type": "execute_result"
    }
   ],
   "source": [
    "embds['faith'].n_similarity('love', 'friendship')"
   ]
  },
  {
   "cell_type": "code",
   "execution_count": 65,
   "metadata": {},
   "outputs": [
    {
     "data": {
      "text/plain": [
       "0.594294"
      ]
     },
     "execution_count": 65,
     "metadata": {},
     "output_type": "execute_result"
    }
   ],
   "source": [
    "embds['blogging'].n_similarity('love', 'friendship')"
   ]
  },
  {
   "cell_type": "code",
   "execution_count": 69,
   "metadata": {},
   "outputs": [
    {
     "data": {
      "text/plain": [
       "[('shad', 1.6901882886886597),\n",
       " (\"'01\", 1.625874638557434),\n",
       " ('amazes', 1.6206209659576416),\n",
       " ('brings', 1.6148300170898438),\n",
       " ('0:', 1.6062898635864258),\n",
       " ('published:', 1.5981762409210205),\n",
       " ('blogs:', 1.597554326057434),\n",
       " ('sophies', 1.5913939476013184),\n",
       " ('vh-1', 1.5907223224639893),\n",
       " ('calendar)', 1.584105134010315)]"
      ]
     },
     "execution_count": 69,
     "metadata": {},
     "output_type": "execute_result"
    }
   ],
   "source": [
    "embds['blogging'].most_similar_cosmul(positive='love', negative='hate', topn=10)"
   ]
  },
  {
   "cell_type": "markdown",
   "metadata": {},
   "source": [
    "# Visualize\n",
    "\n",
    "Inspired by https://stackoverflow.com/questions/43776572/visualise-word2vec-generated-from-gensim "
   ]
  },
  {
   "cell_type": "code",
   "execution_count": 74,
   "metadata": {},
   "outputs": [],
   "source": [
    "vocab = list(embds['blogging'].wv.vocab)\n",
    "X = embds['blogging'][vocab]"
   ]
  },
  {
   "cell_type": "code",
   "execution_count": 76,
   "metadata": {},
   "outputs": [],
   "source": [
    "tsne = TSNE(n_components=2)\n",
    "X_tsne = tsne.fit_transform(X)"
   ]
  },
  {
   "cell_type": "code",
   "execution_count": 79,
   "metadata": {},
   "outputs": [],
   "source": [
    "vocab_faith = list(embds['faith'].wv.vocab)\n",
    "X_faith = embds['faith'][vocab_faith]\n",
    "tsne_faith = TSNE(n_components=2)\n",
    "X_tsne_faith = tsne_faith.fit_transform(X_faith)"
   ]
  },
  {
   "cell_type": "code",
   "execution_count": 77,
   "metadata": {},
   "outputs": [],
   "source": [
    "df = pd.DataFrame(X_tsne, index=vocab, columns=['x', 'y']) #words from vocab are indeces"
   ]
  },
  {
   "cell_type": "code",
   "execution_count": 89,
   "metadata": {},
   "outputs": [],
   "source": [
    "df_test = df.iloc[:100, :]"
   ]
  },
  {
   "cell_type": "code",
   "execution_count": 90,
   "metadata": {},
   "outputs": [
    {
     "data": {
      "image/png": "[encoded data removed]",
      "text/plain": [
       "<Figure size 432x288 with 1 Axes>"
      ]
     },
     "metadata": {
      "needs_background": "light"
     },
     "output_type": "display_data"
    }
   ],
   "source": [
    "fig = plt.figure()\n",
    "ax = fig.add_subplot(1, 1, 1)\n",
    "\n",
    "ax.scatter(df_test['x'], df_test['y'])\n",
    "for word, pos in df_test.iterrows():\n",
    "    ax.annotate(word, pos)\n",
    "    \n",
    "#fig.savefig()"
   ]
  },
  {
   "cell_type": "code",
   "execution_count": null,
   "metadata": {},
   "outputs": [],
   "source": []
  },
  {
   "cell_type": "code",
   "execution_count": null,
   "metadata": {},
   "outputs": [],
   "source": []
  }
 ],
 "metadata": {
  "kernelspec": {
   "display_name": "Python 3",
   "language": "python",
   "name": "python3"
  },
  "language_info": {
   "codemirror_mode": {
    "name": "ipython",
    "version": 3
   },
   "file_extension": ".py",
   "mimetype": "text/x-python",
   "name": "python",
   "nbconvert_exporter": "python",
   "pygments_lexer": "ipython3",
   "version": "3.7.7"
  }
 },
 "nbformat": 4,
 "nbformat_minor": 4
}
