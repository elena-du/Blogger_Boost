{
 "cells": [
  {
   "cell_type": "markdown",
   "metadata": {},
   "source": [
    "# Libraries and utils"
   ]
  },
  {
   "cell_type": "code",
   "execution_count": 12,
   "metadata": {},
   "outputs": [],
   "source": [
    "import warnings\n",
    "warnings.filterwarnings(\"ignore\")\n",
    "\n",
    "import pickle\n",
    "import nltk\n",
    "from gensim.models import Word2Vec\n",
    "import multiprocessing\n",
    "import pandas as pd\n",
    "from collections import defaultdict\n",
    "\n",
    "from nltk.stem import WordNetLemmatizer\n",
    "from sklearn.manifold import TSNE\n",
    "\n",
    "import matplotlib.pyplot as plt\n",
    "\n",
    "from collections import defaultdict\n",
    "\n",
    "import pandas as pd"
   ]
  },
  {
   "cell_type": "code",
   "execution_count": 3,
   "metadata": {},
   "outputs": [],
   "source": [
    "# inspired by https://blog.cambridgespark.com/tutorial-build-your-own-embedding-and-use-it-in-a-neural-network-e9cde4a81296\n",
    "lemmatizer=WordNetLemmatizer()\n",
    "\n",
    "def word_splt(lst): \n",
    "    return list(map(lambda word:[word], lst)) \n",
    "\n",
    "def lemmatize_sent(sent):\n",
    "    return [lemmatizer.lemmatize(word.lower()) for word in sent]\n",
    "\n",
    "def embedd_by_topic(ind):   \n",
    "    text = new_df_g['post'][ind]\n",
    "    \n",
    "    text_l = text.split('.')\n",
    "    text_l=word_splt(text_l)\n",
    "    tokens = [sub.split() for subl in  text_l for sub in subl] \n",
    "    \n",
    "    lemmatized = []\n",
    "    for i in tokens:\n",
    "        lemmatized.append(lemmatize_sent(i))\n",
    "\n",
    "    \n",
    "    embedding_dim=300\n",
    "    \n",
    "    w_v = Word2Vec(lemmatized, size=embedding_dim, window=5, \n",
    "                   min_count=5, negative=15, iter=10, workers=multiprocessing.cpu_count())\n",
    "\n",
    "    word_vectors = w_v.wv\n",
    "    \n",
    "    return word_vectors\n",
    "    "
   ]
  },
  {
   "cell_type": "markdown",
   "metadata": {},
   "source": [
    "# Data preparation"
   ]
  },
  {
   "cell_type": "code",
   "execution_count": 4,
   "metadata": {},
   "outputs": [
    {
     "name": "stdout",
     "output_type": "stream",
     "text": [
      "/Users/elena/Desktop/Metis/projects/5_project/Blogger_Boost/code\r\n"
     ]
    }
   ],
   "source": [
    "!pwd"
   ]
  },
  {
   "cell_type": "code",
   "execution_count": 5,
   "metadata": {},
   "outputs": [],
   "source": [
    "with open('../../blogger_com_data_19320_6_v2.pkl', 'rb') as picklefile:\n",
    "    df = pickle.load(picklefile)"
   ]
  },
  {
   "cell_type": "code",
   "execution_count": 6,
   "metadata": {},
   "outputs": [],
   "source": [
    "with open('../../data/blogger_com_data_19320_tsne3d.pkl', 'rb') as picklefile:\n",
    "    tsne = pickle.load(picklefile)"
   ]
  },
  {
   "cell_type": "code",
   "execution_count": 7,
   "metadata": {},
   "outputs": [],
   "source": [
    "#tsne"
   ]
  },
  {
   "cell_type": "code",
   "execution_count": 8,
   "metadata": {},
   "outputs": [],
   "source": [
    "new_df = pd.merge(df, tsne,  how='left', left_on=['blogger_id'], right_on = ['blogger_id'])"
   ]
  },
  {
   "cell_type": "code",
   "execution_count": 9,
   "metadata": {},
   "outputs": [],
   "source": [
    "new_df = new_df[['blogger_id', 'post', 'prime_topic']]"
   ]
  },
  {
   "cell_type": "code",
   "execution_count": 10,
   "metadata": {},
   "outputs": [],
   "source": [
    "new_df_g = new_df.groupby(['prime_topic'])['post'].apply(' '.join).reset_index()"
   ]
  },
  {
   "cell_type": "markdown",
   "metadata": {},
   "source": [
    "# Training"
   ]
  },
  {
   "cell_type": "code",
   "execution_count": 17,
   "metadata": {},
   "outputs": [],
   "source": [
    "embds = defaultdict()\n",
    "\n",
    "for i in range(new_df_g['post'].shape[0]):\n",
    "    embds[new_df_g['prime_topic'][i]] = embedd_by_topic(i)"
   ]
  },
  {
   "cell_type": "code",
   "execution_count": 18,
   "metadata": {},
   "outputs": [
    {
     "data": {
      "text/plain": [
       "defaultdict(None,\n",
       "            {'blogging': <gensim.models.keyedvectors.Word2VecKeyedVectors at 0x7f8fff6b6710>,\n",
       "             'faith': <gensim.models.keyedvectors.Word2VecKeyedVectors at 0x7f8e9c4c7cd0>,\n",
       "             'jargon': <gensim.models.keyedvectors.Word2VecKeyedVectors at 0x7f8e78af8d10>,\n",
       "             'love_relationship': <gensim.models.keyedvectors.Word2VecKeyedVectors at 0x7f8e94933fd0>,\n",
       "             'mundane': <gensim.models.keyedvectors.Word2VecKeyedVectors at 0x7f8ec25507d0>,\n",
       "             'politics': <gensim.models.keyedvectors.Word2VecKeyedVectors at 0x7f8e33123d50>,\n",
       "             'teen_fun_days': <gensim.models.keyedvectors.Word2VecKeyedVectors at 0x7f8e90c59610>})"
      ]
     },
     "execution_count": 18,
     "metadata": {},
     "output_type": "execute_result"
    }
   ],
   "source": [
    "embds"
   ]
  },
  {
   "cell_type": "code",
   "execution_count": 49,
   "metadata": {},
   "outputs": [],
   "source": [
    "with open('../../topic_embeds.pkl', 'wb') as picklefile:\n",
    "    pickle.dump(embds, picklefile)"
   ]
  },
  {
   "cell_type": "code",
   "execution_count": 143,
   "metadata": {},
   "outputs": [],
   "source": [
    "with open('../../topic_embeds.pkl', 'rb') as picklefile:\n",
    "    embds = pickle.load(picklefile)"
   ]
  },
  {
   "cell_type": "markdown",
   "metadata": {},
   "source": [
    "# Similar by word"
   ]
  },
  {
   "cell_type": "code",
   "execution_count": 144,
   "metadata": {},
   "outputs": [],
   "source": [
    "embds['Leisure'] = embds['blogging']   \n",
    "del embds['blogging']\n",
    "\n",
    "embds['Faith'] = embds['faith']   \n",
    "del embds['faith']\n",
    "\n",
    "embds['Slang Pleople'] = embds['jargon']   \n",
    "del embds['jargon']\n",
    "\n",
    "embds['Relationships'] = embds['love_relationship']   \n",
    "del embds['love_relationship']\n",
    "\n",
    "\n",
    "embds['Politics'] = embds['politics']   \n",
    "del embds['politics']\n",
    "\n",
    "embds['Teen Spirit'] = embds['teen_fun_days']   \n",
    "del embds['teen_fun_days']\n",
    "\n",
    "\n",
    "embds['Days of My Life'] = embds['mundane']   \n",
    "del embds['mundane']\n",
    "\n"
   ]
  },
  {
   "cell_type": "code",
   "execution_count": null,
   "metadata": {},
   "outputs": [],
   "source": [
    "old_keys = embds.keys()"
   ]
  },
  {
   "cell_type": "code",
   "execution_count": 145,
   "metadata": {},
   "outputs": [
    {
     "data": {
      "text/plain": [
       "dict_keys(['Leisure', 'Faith', 'Slang Pleople', 'Relationships', 'Politics', 'Teen Spirit', 'Days of My Life'])"
      ]
     },
     "execution_count": 145,
     "metadata": {},
     "output_type": "execute_result"
    }
   ],
   "source": [
    "embds.keys()"
   ]
  },
  {
   "cell_type": "code",
   "execution_count": 117,
   "metadata": {},
   "outputs": [
    {
     "data": {
      "text/plain": [
       "[('adore', 0.5996954441070557),\n",
       " ('loved', 0.59117591381073),\n",
       " ('hate', 0.5898413062095642),\n",
       " ('love,', 0.5669140815734863),\n",
       " ('loathe', 0.5076751708984375),\n",
       " ('appreciate', 0.4776380658149719),\n",
       " ('envy', 0.4630279541015625),\n",
       " ('admire', 0.46001961827278137),\n",
       " ('despise', 0.4539681673049927),\n",
       " ('hated', 0.43722397089004517)]"
      ]
     },
     "execution_count": 117,
     "metadata": {},
     "output_type": "execute_result"
    }
   ],
   "source": [
    "embds['blogging'].similar_by_word('happy')"
   ]
  },
  {
   "cell_type": "code",
   "execution_count": 44,
   "metadata": {},
   "outputs": [
    {
     "data": {
      "text/plain": [
       "[('families,', 0.6554819345474243),\n",
       " ('mentor', 0.6190775632858276),\n",
       " ('equipping', 0.611336886882782),\n",
       " ('parents,', 0.6066656708717346),\n",
       " ('peer', 0.5965054035186768),\n",
       " ('role', 0.5963485836982727),\n",
       " ('children,', 0.5884504914283752),\n",
       " ('heritage', 0.5790526866912842),\n",
       " ('students,', 0.5775643587112427),\n",
       " ('husband,', 0.5733423233032227)]"
      ]
     },
     "execution_count": 44,
     "metadata": {},
     "output_type": "execute_result"
    }
   ],
   "source": [
    "embds['faith'].similar_by_word('partner')"
   ]
  },
  {
   "cell_type": "code",
   "execution_count": 46,
   "metadata": {},
   "outputs": [
    {
     "data": {
      "text/plain": [
       "[('parents?', 0.6192609071731567),\n",
       " ('sibling', 0.5991154909133911),\n",
       " ('life?', 0.5944355726242065),\n",
       " ('touch,', 0.5858711004257202),\n",
       " ('daughter', 0.5853942632675171),\n",
       " ('weakness', 0.581780195236206),\n",
       " ('room?', 0.5775052309036255),\n",
       " ('wife', 0.5759271383285522),\n",
       " ('campaign', 0.5754979252815247),\n",
       " ('boyfriend,', 0.5688776969909668)]"
      ]
     },
     "execution_count": 46,
     "metadata": {},
     "output_type": "execute_result"
    }
   ],
   "source": [
    "embds['teen_fun_days'].similar_by_word('partner')"
   ]
  },
  {
   "cell_type": "code",
   "execution_count": 47,
   "metadata": {},
   "outputs": [
    {
     "data": {
      "text/plain": [
       "[('spouse', 0.6131894588470459),\n",
       " ('colleague', 0.6001355051994324),\n",
       " ('employer', 0.592117190361023),\n",
       " ('countryman', 0.5882123112678528),\n",
       " ('parent', 0.5783097743988037),\n",
       " ('parents,', 0.5709174275398254),\n",
       " ('daughter,', 0.5668789744377136),\n",
       " ('employment,', 0.5556104779243469),\n",
       " ('workplace', 0.5524344444274902),\n",
       " ('profession', 0.5490902662277222)]"
      ]
     },
     "execution_count": 47,
     "metadata": {},
     "output_type": "execute_result"
    }
   ],
   "source": [
    "embds['politics'].similar_by_word('partner')"
   ]
  },
  {
   "cell_type": "code",
   "execution_count": 48,
   "metadata": {},
   "outputs": [
    {
     "data": {
      "text/plain": [
       "[('girlfriend', 0.6918103694915771),\n",
       " ('boyfriend', 0.6451742053031921),\n",
       " ('supervisor', 0.6375335454940796),\n",
       " ('beloved', 0.6353716850280762),\n",
       " ('husband', 0.6211665272712708),\n",
       " ('partner,', 0.6136278510093689),\n",
       " ('wife', 0.6073704361915588),\n",
       " ('daughter', 0.6067254543304443),\n",
       " ('buddy', 0.6054929494857788),\n",
       " ('friend', 0.6026976108551025)]"
      ]
     },
     "execution_count": 48,
     "metadata": {},
     "output_type": "execute_result"
    }
   ],
   "source": [
    "embds['jargon'].similar_by_word('partner')"
   ]
  },
  {
   "cell_type": "code",
   "execution_count": 8,
   "metadata": {},
   "outputs": [
    {
     "data": {
      "text/plain": [
       "[('partner,', 0.6203582882881165),\n",
       " ('spouse', 0.57475745677948),\n",
       " ('husband', 0.5431606769561768),\n",
       " ('companion', 0.5348480939865112),\n",
       " ('boyfriend', 0.5324077606201172),\n",
       " ('girlfriend', 0.5263009071350098),\n",
       " ('boyfriend,', 0.5095653533935547),\n",
       " ('ex', 0.503070592880249),\n",
       " ('career', 0.4971277117729187),\n",
       " ('husband,', 0.49354708194732666)]"
      ]
     },
     "execution_count": 8,
     "metadata": {},
     "output_type": "execute_result"
    }
   ],
   "source": [
    "embds['mundane'].similar_by_word('partner')"
   ]
  },
  {
   "cell_type": "code",
   "execution_count": 13,
   "metadata": {},
   "outputs": [
    {
     "data": {
      "text/plain": [
       "[('counterpart', 0.5786188840866089),\n",
       " ('husband', 0.5766229629516602),\n",
       " ('partner', 0.57475745677948),\n",
       " ('partner,', 0.5703619718551636),\n",
       " ('actions,', 0.5566568374633789),\n",
       " ('wife,', 0.5459825992584229),\n",
       " ('wife', 0.5448347330093384),\n",
       " ('identity', 0.5368969440460205),\n",
       " ('genitals', 0.5339117050170898),\n",
       " ('parent', 0.5335367321968079)]"
      ]
     },
     "execution_count": 13,
     "metadata": {},
     "output_type": "execute_result"
    }
   ],
   "source": [
    "embds['mundane'].similar_by_word('spouse')"
   ]
  },
  {
   "cell_type": "code",
   "execution_count": 202,
   "metadata": {},
   "outputs": [],
   "source": [
    "d = defaultdict()\n",
    "\n",
    "for i in embds.keys():\n",
    "    d[i] = embds[i].n_similarity('partner', 'responsibility')\n",
    "df = pd.DataFrame([d], columns=d.keys()).T   "
   ]
  },
  {
   "cell_type": "code",
   "execution_count": 203,
   "metadata": {},
   "outputs": [],
   "source": [
    "d = defaultdict()\n",
    "\n",
    "for i in embds.keys():\n",
    "    d[i] = embds[i].n_similarity('partner', 'fun')\n",
    "df1 = pd.DataFrame([d], columns=d.keys()).T "
   ]
  },
  {
   "cell_type": "code",
   "execution_count": 204,
   "metadata": {},
   "outputs": [],
   "source": [
    "x = pd.concat([df, df1], axis=1)\n",
    "x.columns = ['responsibility', 'fun']"
   ]
  },
  {
   "cell_type": "code",
   "execution_count": 205,
   "metadata": {},
   "outputs": [],
   "source": [
    "x = x.reset_index()"
   ]
  },
  {
   "cell_type": "code",
   "execution_count": 206,
   "metadata": {},
   "outputs": [
    {
     "data": {
      "text/html": [
       "<div>\n",
       "<style scoped>\n",
       "    .dataframe tbody tr th:only-of-type {\n",
       "        vertical-align: middle;\n",
       "    }\n",
       "\n",
       "    .dataframe tbody tr th {\n",
       "        vertical-align: top;\n",
       "    }\n",
       "\n",
       "    .dataframe thead th {\n",
       "        text-align: right;\n",
       "    }\n",
       "</style>\n",
       "<table border=\"1\" class=\"dataframe\">\n",
       "  <thead>\n",
       "    <tr style=\"text-align: right;\">\n",
       "      <th></th>\n",
       "      <th>index</th>\n",
       "      <th>responsibility</th>\n",
       "      <th>fun</th>\n",
       "    </tr>\n",
       "  </thead>\n",
       "  <tbody>\n",
       "    <tr>\n",
       "      <th>0</th>\n",
       "      <td>Leisure</td>\n",
       "      <td>0.723338</td>\n",
       "      <td>0.651968</td>\n",
       "    </tr>\n",
       "    <tr>\n",
       "      <th>1</th>\n",
       "      <td>Faith</td>\n",
       "      <td>0.689937</td>\n",
       "      <td>0.516153</td>\n",
       "    </tr>\n",
       "    <tr>\n",
       "      <th>2</th>\n",
       "      <td>Slang Pleople</td>\n",
       "      <td>0.619152</td>\n",
       "      <td>0.568687</td>\n",
       "    </tr>\n",
       "    <tr>\n",
       "      <th>3</th>\n",
       "      <td>Relationships</td>\n",
       "      <td>0.742533</td>\n",
       "      <td>0.658080</td>\n",
       "    </tr>\n",
       "    <tr>\n",
       "      <th>4</th>\n",
       "      <td>Politics</td>\n",
       "      <td>0.664964</td>\n",
       "      <td>0.430363</td>\n",
       "    </tr>\n",
       "    <tr>\n",
       "      <th>5</th>\n",
       "      <td>Teen Spirit</td>\n",
       "      <td>0.711522</td>\n",
       "      <td>0.679781</td>\n",
       "    </tr>\n",
       "    <tr>\n",
       "      <th>6</th>\n",
       "      <td>Days of My Life</td>\n",
       "      <td>0.775454</td>\n",
       "      <td>0.634206</td>\n",
       "    </tr>\n",
       "  </tbody>\n",
       "</table>\n",
       "</div>"
      ],
      "text/plain": [
       "             index  responsibility       fun\n",
       "0          Leisure        0.723338  0.651968\n",
       "1            Faith        0.689937  0.516153\n",
       "2    Slang Pleople        0.619152  0.568687\n",
       "3    Relationships        0.742533  0.658080\n",
       "4         Politics        0.664964  0.430363\n",
       "5      Teen Spirit        0.711522  0.679781\n",
       "6  Days of My Life        0.775454  0.634206"
      ]
     },
     "execution_count": 206,
     "metadata": {},
     "output_type": "execute_result"
    }
   ],
   "source": [
    "x"
   ]
  },
  {
   "cell_type": "code",
   "execution_count": 67,
   "metadata": {},
   "outputs": [],
   "source": [
    "x = pd.melt(x, id_vars='index', value_vars=['love', 'business'])"
   ]
  },
  {
   "cell_type": "code",
   "execution_count": 152,
   "metadata": {},
   "outputs": [
    {
     "ename": "ValueError",
     "evalue": "Could not interpret input 'value'",
     "output_type": "error",
     "traceback": [
      "\u001b[0;31m---------------------------------------------------------------------------\u001b[0m",
      "\u001b[0;31mValueError\u001b[0m                                Traceback (most recent call last)",
      "\u001b[0;32m<ipython-input-152-c623ac8442b9>\u001b[0m in \u001b[0;36m<module>\u001b[0;34m\u001b[0m\n\u001b[1;32m      4\u001b[0m \u001b[0mplt\u001b[0m\u001b[0;34m.\u001b[0m\u001b[0mfigure\u001b[0m\u001b[0;34m(\u001b[0m\u001b[0mfigsize\u001b[0m\u001b[0;34m=\u001b[0m\u001b[0;34m(\u001b[0m\u001b[0;36m10\u001b[0m\u001b[0;34m,\u001b[0m\u001b[0;36m10\u001b[0m\u001b[0;34m)\u001b[0m\u001b[0;34m)\u001b[0m\u001b[0;34m\u001b[0m\u001b[0;34m\u001b[0m\u001b[0m\n\u001b[1;32m      5\u001b[0m \u001b[0;34m\u001b[0m\u001b[0m\n\u001b[0;32m----> 6\u001b[0;31m \u001b[0max\u001b[0m \u001b[0;34m=\u001b[0m \u001b[0msns\u001b[0m\u001b[0;34m.\u001b[0m\u001b[0mbarplot\u001b[0m\u001b[0;34m(\u001b[0m\u001b[0mx\u001b[0m\u001b[0;34m=\u001b[0m\u001b[0;34m\"index\"\u001b[0m\u001b[0;34m,\u001b[0m \u001b[0my\u001b[0m\u001b[0;34m=\u001b[0m\u001b[0;34m\"value\"\u001b[0m\u001b[0;34m,\u001b[0m \u001b[0mhue\u001b[0m\u001b[0;34m=\u001b[0m\u001b[0;34m\"variable\"\u001b[0m\u001b[0;34m,\u001b[0m \u001b[0mdata\u001b[0m\u001b[0;34m=\u001b[0m\u001b[0mx\u001b[0m\u001b[0;34m,\u001b[0m \u001b[0mpalette\u001b[0m\u001b[0;34m=\u001b[0m\u001b[0mflatui\u001b[0m\u001b[0;34m)\u001b[0m\u001b[0;34m\u001b[0m\u001b[0;34m\u001b[0m\u001b[0m\n\u001b[0m\u001b[1;32m      7\u001b[0m \u001b[0;34m\u001b[0m\u001b[0m\n\u001b[1;32m      8\u001b[0m \u001b[0mh\u001b[0m\u001b[0;34m,\u001b[0m\u001b[0ml\u001b[0m \u001b[0;34m=\u001b[0m \u001b[0max\u001b[0m\u001b[0;34m.\u001b[0m\u001b[0mget_legend_handles_labels\u001b[0m\u001b[0;34m(\u001b[0m\u001b[0;34m)\u001b[0m\u001b[0;34m\u001b[0m\u001b[0;34m\u001b[0m\u001b[0m\n",
      "\u001b[0;32m~/opt/anaconda3/lib/python3.7/site-packages/seaborn/categorical.py\u001b[0m in \u001b[0;36mbarplot\u001b[0;34m(x, y, hue, data, order, hue_order, estimator, ci, n_boot, units, seed, orient, color, palette, saturation, errcolor, errwidth, capsize, dodge, ax, **kwargs)\u001b[0m\n\u001b[1;32m   3145\u001b[0m                           \u001b[0mestimator\u001b[0m\u001b[0;34m,\u001b[0m \u001b[0mci\u001b[0m\u001b[0;34m,\u001b[0m \u001b[0mn_boot\u001b[0m\u001b[0;34m,\u001b[0m \u001b[0munits\u001b[0m\u001b[0;34m,\u001b[0m \u001b[0mseed\u001b[0m\u001b[0;34m,\u001b[0m\u001b[0;34m\u001b[0m\u001b[0;34m\u001b[0m\u001b[0m\n\u001b[1;32m   3146\u001b[0m                           \u001b[0morient\u001b[0m\u001b[0;34m,\u001b[0m \u001b[0mcolor\u001b[0m\u001b[0;34m,\u001b[0m \u001b[0mpalette\u001b[0m\u001b[0;34m,\u001b[0m \u001b[0msaturation\u001b[0m\u001b[0;34m,\u001b[0m\u001b[0;34m\u001b[0m\u001b[0;34m\u001b[0m\u001b[0m\n\u001b[0;32m-> 3147\u001b[0;31m                           errcolor, errwidth, capsize, dodge)\n\u001b[0m\u001b[1;32m   3148\u001b[0m \u001b[0;34m\u001b[0m\u001b[0m\n\u001b[1;32m   3149\u001b[0m     \u001b[0;32mif\u001b[0m \u001b[0max\u001b[0m \u001b[0;32mis\u001b[0m \u001b[0;32mNone\u001b[0m\u001b[0;34m:\u001b[0m\u001b[0;34m\u001b[0m\u001b[0;34m\u001b[0m\u001b[0m\n",
      "\u001b[0;32m~/opt/anaconda3/lib/python3.7/site-packages/seaborn/categorical.py\u001b[0m in \u001b[0;36m__init__\u001b[0;34m(self, x, y, hue, data, order, hue_order, estimator, ci, n_boot, units, seed, orient, color, palette, saturation, errcolor, errwidth, capsize, dodge)\u001b[0m\n\u001b[1;32m   1601\u001b[0m         \u001b[0;34m\"\"\"Initialize the plotter.\"\"\"\u001b[0m\u001b[0;34m\u001b[0m\u001b[0;34m\u001b[0m\u001b[0m\n\u001b[1;32m   1602\u001b[0m         self.establish_variables(x, y, hue, data, orient,\n\u001b[0;32m-> 1603\u001b[0;31m                                  order, hue_order, units)\n\u001b[0m\u001b[1;32m   1604\u001b[0m         \u001b[0mself\u001b[0m\u001b[0;34m.\u001b[0m\u001b[0mestablish_colors\u001b[0m\u001b[0;34m(\u001b[0m\u001b[0mcolor\u001b[0m\u001b[0;34m,\u001b[0m \u001b[0mpalette\u001b[0m\u001b[0;34m,\u001b[0m \u001b[0msaturation\u001b[0m\u001b[0;34m)\u001b[0m\u001b[0;34m\u001b[0m\u001b[0;34m\u001b[0m\u001b[0m\n\u001b[1;32m   1605\u001b[0m         \u001b[0mself\u001b[0m\u001b[0;34m.\u001b[0m\u001b[0mestimate_statistic\u001b[0m\u001b[0;34m(\u001b[0m\u001b[0mestimator\u001b[0m\u001b[0;34m,\u001b[0m \u001b[0mci\u001b[0m\u001b[0;34m,\u001b[0m \u001b[0mn_boot\u001b[0m\u001b[0;34m,\u001b[0m \u001b[0mseed\u001b[0m\u001b[0;34m)\u001b[0m\u001b[0;34m\u001b[0m\u001b[0;34m\u001b[0m\u001b[0m\n",
      "\u001b[0;32m~/opt/anaconda3/lib/python3.7/site-packages/seaborn/categorical.py\u001b[0m in \u001b[0;36mestablish_variables\u001b[0;34m(self, x, y, hue, data, orient, order, hue_order, units)\u001b[0m\n\u001b[1;32m    150\u001b[0m                 \u001b[0;32mif\u001b[0m \u001b[0misinstance\u001b[0m\u001b[0;34m(\u001b[0m\u001b[0mvar\u001b[0m\u001b[0;34m,\u001b[0m \u001b[0mstr\u001b[0m\u001b[0;34m)\u001b[0m\u001b[0;34m:\u001b[0m\u001b[0;34m\u001b[0m\u001b[0;34m\u001b[0m\u001b[0m\n\u001b[1;32m    151\u001b[0m                     \u001b[0merr\u001b[0m \u001b[0;34m=\u001b[0m \u001b[0;34m\"Could not interpret input '{}'\"\u001b[0m\u001b[0;34m.\u001b[0m\u001b[0mformat\u001b[0m\u001b[0;34m(\u001b[0m\u001b[0mvar\u001b[0m\u001b[0;34m)\u001b[0m\u001b[0;34m\u001b[0m\u001b[0;34m\u001b[0m\u001b[0m\n\u001b[0;32m--> 152\u001b[0;31m                     \u001b[0;32mraise\u001b[0m \u001b[0mValueError\u001b[0m\u001b[0;34m(\u001b[0m\u001b[0merr\u001b[0m\u001b[0;34m)\u001b[0m\u001b[0;34m\u001b[0m\u001b[0;34m\u001b[0m\u001b[0m\n\u001b[0m\u001b[1;32m    153\u001b[0m \u001b[0;34m\u001b[0m\u001b[0m\n\u001b[1;32m    154\u001b[0m             \u001b[0;31m# Figure out the plotting orientation\u001b[0m\u001b[0;34m\u001b[0m\u001b[0;34m\u001b[0m\u001b[0;34m\u001b[0m\u001b[0m\n",
      "\u001b[0;31mValueError\u001b[0m: Could not interpret input 'value'"
     ]
    },
    {
     "data": {
      "text/plain": [
       "<Figure size 720x720 with 0 Axes>"
      ]
     },
     "metadata": {},
     "output_type": "display_data"
    }
   ],
   "source": [
    "import numpy as np\n",
    "\n",
    "flatui = [\"#ACF2DC\", \"#757575\"]\n",
    "plt.figure(figsize=(10,10))\n",
    "\n",
    "ax = sns.barplot(x=\"index\", y=\"value\", hue=\"variable\", data=x, palette=flatui)\n",
    "\n",
    "h,l = ax.get_legend_handles_labels()\n",
    "ax.legend(h[1:], l[1:], loc='center left', bbox_to_anchor=(1, 0.81), ncol=2, fontsize=20, markerscale=3, title=False, \n",
    "         fancybox=True, shadow=True, )\n",
    "\n",
    "ax.legend(np.arange(2), labels=['home', 'work'], bbox_to_anchor=(1, 0.81), ncol=2, fontsize=20, markerscale=10, title=False,\n",
    "         fancybox=True, shadow=True)\n",
    "ax.set_title('Partner',fontsize=30, loc='left', pad=20);"
   ]
  },
  {
   "cell_type": "code",
   "execution_count": 215,
   "metadata": {
    "scrolled": true
   },
   "outputs": [
    {
     "data": {
      "image/png": "[encoded data removed]",
      "text/plain": [
       "<Figure size 1080x504 with 1 Axes>"
      ]
     },
     "metadata": {
      "needs_background": "light"
     },
     "output_type": "display_data"
    }
   ],
   "source": [
    "x = x.sort_values(by=['responsibility'], ascending=True)\n",
    "plt.figure(figsize=(15,7))\n",
    "plt.barh(x['index'], x['responsibility'], color=\"#757575\", alpha=0.4)\n",
    "plt.barh(x['index'], x['fun'], color=\"#ACF2DC\", alpha=0.4)\n",
    "#plt.bar(x['index'], x['work'], color=\"#757575\", alpha=0.7)\n",
    "plt.yticks(fontsize = 20);\n",
    "plt.legend(np.arange(2), labels=('\"Responsibility\"', '\"Fun\"'), fontsize=15, loc='lower right')\n",
    "plt.title('Partner: Responsibility or Fun', fontsize=30);\n"
   ]
  },
  {
   "cell_type": "code",
   "execution_count": 114,
   "metadata": {},
   "outputs": [
    {
     "data": {
      "text/plain": [
       "['Slang Pleople',\n",
       " 'Teen Spirit',\n",
       " 'Faith',\n",
       " 'Politics',\n",
       " 'Leisure',\n",
       " 'Relationships',\n",
       " 'Days of My Life']"
      ]
     },
     "execution_count": 114,
     "metadata": {},
     "output_type": "execute_result"
    }
   ],
   "source": [
    "list1 = ['Days of My Life','Relationships',\n",
    "                          'Leisure','Politics', 'Faith', 'Teen Spirit', \n",
    "                          'Slang Pleople']\n",
    "newlist1[::-1]"
   ]
  },
  {
   "cell_type": "code",
   "execution_count": 130,
   "metadata": {},
   "outputs": [
    {
     "data": {
      "image/png": "[encoded data removed]",
      "text/plain": [
       "<Figure size 1080x720 with 1 Axes>"
      ]
     },
     "metadata": {
      "needs_background": "light"
     },
     "output_type": "display_data"
    }
   ],
   "source": [
    "x = x.sort_values(by=['business'], ascending=True)\n",
    "plt.figure(figsize=(15,10))\n",
    "plt.barh(x['index'], x['business'], color=\"#757575\", alpha=0.7)\n",
    "plt.yticks(np.arange(7), ('Slang Pleople','Teen Spirit','Faith',\n",
    "                          'Politics', 'Leisure', 'Relationships',\n",
    "                          'Days of My Life'), fontsize = 20);\n",
    "#\n",
    "plt.title('Partner is about Work', fontsize=30);\n",
    "\n"
   ]
  },
  {
   "cell_type": "code",
   "execution_count": 68,
   "metadata": {},
   "outputs": [
    {
     "data": {
      "text/html": [
       "<div>\n",
       "<style scoped>\n",
       "    .dataframe tbody tr th:only-of-type {\n",
       "        vertical-align: middle;\n",
       "    }\n",
       "\n",
       "    .dataframe tbody tr th {\n",
       "        vertical-align: top;\n",
       "    }\n",
       "\n",
       "    .dataframe thead th {\n",
       "        text-align: right;\n",
       "    }\n",
       "</style>\n",
       "<table border=\"1\" class=\"dataframe\">\n",
       "  <thead>\n",
       "    <tr style=\"text-align: right;\">\n",
       "      <th></th>\n",
       "      <th>index</th>\n",
       "      <th>variable</th>\n",
       "      <th>value</th>\n",
       "    </tr>\n",
       "  </thead>\n",
       "  <tbody>\n",
       "    <tr>\n",
       "      <th>0</th>\n",
       "      <td>blogging</td>\n",
       "      <td>home</td>\n",
       "      <td>0.682735</td>\n",
       "    </tr>\n",
       "    <tr>\n",
       "      <th>1</th>\n",
       "      <td>faith</td>\n",
       "      <td>home</td>\n",
       "      <td>0.676519</td>\n",
       "    </tr>\n",
       "    <tr>\n",
       "      <th>2</th>\n",
       "      <td>jargon</td>\n",
       "      <td>home</td>\n",
       "      <td>0.614945</td>\n",
       "    </tr>\n",
       "    <tr>\n",
       "      <th>3</th>\n",
       "      <td>love_relationship</td>\n",
       "      <td>home</td>\n",
       "      <td>0.791464</td>\n",
       "    </tr>\n",
       "    <tr>\n",
       "      <th>4</th>\n",
       "      <td>mundane</td>\n",
       "      <td>home</td>\n",
       "      <td>0.778235</td>\n",
       "    </tr>\n",
       "    <tr>\n",
       "      <th>5</th>\n",
       "      <td>politics</td>\n",
       "      <td>home</td>\n",
       "      <td>0.772431</td>\n",
       "    </tr>\n",
       "    <tr>\n",
       "      <th>6</th>\n",
       "      <td>teen_fun_days</td>\n",
       "      <td>home</td>\n",
       "      <td>0.655142</td>\n",
       "    </tr>\n",
       "    <tr>\n",
       "      <th>7</th>\n",
       "      <td>blogging</td>\n",
       "      <td>work</td>\n",
       "      <td>0.801888</td>\n",
       "    </tr>\n",
       "    <tr>\n",
       "      <th>8</th>\n",
       "      <td>faith</td>\n",
       "      <td>work</td>\n",
       "      <td>0.707770</td>\n",
       "    </tr>\n",
       "    <tr>\n",
       "      <th>9</th>\n",
       "      <td>jargon</td>\n",
       "      <td>work</td>\n",
       "      <td>0.691449</td>\n",
       "    </tr>\n",
       "    <tr>\n",
       "      <th>10</th>\n",
       "      <td>love_relationship</td>\n",
       "      <td>work</td>\n",
       "      <td>0.820559</td>\n",
       "    </tr>\n",
       "    <tr>\n",
       "      <th>11</th>\n",
       "      <td>mundane</td>\n",
       "      <td>work</td>\n",
       "      <td>0.830957</td>\n",
       "    </tr>\n",
       "    <tr>\n",
       "      <th>12</th>\n",
       "      <td>politics</td>\n",
       "      <td>work</td>\n",
       "      <td>0.749109</td>\n",
       "    </tr>\n",
       "    <tr>\n",
       "      <th>13</th>\n",
       "      <td>teen_fun_days</td>\n",
       "      <td>work</td>\n",
       "      <td>0.707662</td>\n",
       "    </tr>\n",
       "  </tbody>\n",
       "</table>\n",
       "</div>"
      ],
      "text/plain": [
       "                index variable     value\n",
       "0            blogging     home  0.682735\n",
       "1               faith     home  0.676519\n",
       "2              jargon     home  0.614945\n",
       "3   love_relationship     home  0.791464\n",
       "4             mundane     home  0.778235\n",
       "5            politics     home  0.772431\n",
       "6       teen_fun_days     home  0.655142\n",
       "7            blogging     work  0.801888\n",
       "8               faith     work  0.707770\n",
       "9              jargon     work  0.691449\n",
       "10  love_relationship     work  0.820559\n",
       "11            mundane     work  0.830957\n",
       "12           politics     work  0.749109\n",
       "13      teen_fun_days     work  0.707662"
      ]
     },
     "execution_count": 68,
     "metadata": {},
     "output_type": "execute_result"
    }
   ],
   "source": [
    "x"
   ]
  },
  {
   "cell_type": "markdown",
   "metadata": {},
   "source": [
    "# Most similar: positive and negative"
   ]
  },
  {
   "cell_type": "code",
   "execution_count": 53,
   "metadata": {},
   "outputs": [
    {
     "name": "stdout",
     "output_type": "stream",
     "text": [
      "Most similar to \"partner\" and dissimilar to \"family\":  [('examine', 0.3897210359573364), ('ethical', 0.3734012842178345), ('establish', 0.37096452713012695), ('us', 0.3697802424430847), ('pose', 0.3692972660064697), ('authentic', 0.36855965852737427), ('self:', 0.36594876646995544), ('regarding', 0.3653610944747925), ('instrument,', 0.36514902114868164), ('serf', 0.363373339176178)]\n"
     ]
    }
   ],
   "source": [
    "result = embds['faith'].most_similar(positive=['partner'], negative=['family'])\n",
    "print('Most similar to \"partner\" and dissimilar to \"family\": ', result[:10])"
   ]
  },
  {
   "cell_type": "markdown",
   "metadata": {},
   "source": [
    "# Compare words similarity for different groups"
   ]
  },
  {
   "cell_type": "code",
   "execution_count": 59,
   "metadata": {},
   "outputs": [
    {
     "data": {
      "text/plain": [
       "0.6556965"
      ]
     },
     "execution_count": 59,
     "metadata": {},
     "output_type": "execute_result"
    }
   ],
   "source": [
    "embds['jargon'].n_similarity('love', 'friendship')"
   ]
  },
  {
   "cell_type": "code",
   "execution_count": 60,
   "metadata": {},
   "outputs": [
    {
     "data": {
      "text/plain": [
       "0.6491781"
      ]
     },
     "execution_count": 60,
     "metadata": {},
     "output_type": "execute_result"
    }
   ],
   "source": [
    "embds['politics'].n_similarity('love', 'friendship')"
   ]
  },
  {
   "cell_type": "code",
   "execution_count": 61,
   "metadata": {},
   "outputs": [
    {
     "data": {
      "text/plain": [
       "0.73877794"
      ]
     },
     "execution_count": 61,
     "metadata": {},
     "output_type": "execute_result"
    }
   ],
   "source": [
    "embds['teen_fun_days'].n_similarity('love', 'friendship')"
   ]
  },
  {
   "cell_type": "code",
   "execution_count": 64,
   "metadata": {},
   "outputs": [
    {
     "data": {
      "text/plain": [
       "0.60260856"
      ]
     },
     "execution_count": 64,
     "metadata": {},
     "output_type": "execute_result"
    }
   ],
   "source": [
    "embds['faith'].n_similarity('love', 'friendship')"
   ]
  },
  {
   "cell_type": "code",
   "execution_count": 65,
   "metadata": {},
   "outputs": [
    {
     "data": {
      "text/plain": [
       "0.594294"
      ]
     },
     "execution_count": 65,
     "metadata": {},
     "output_type": "execute_result"
    }
   ],
   "source": [
    "embds['blogging'].n_similarity('love', 'friendship')"
   ]
  },
  {
   "cell_type": "code",
   "execution_count": 69,
   "metadata": {},
   "outputs": [
    {
     "data": {
      "text/plain": [
       "[('shad', 1.6901882886886597),\n",
       " (\"'01\", 1.625874638557434),\n",
       " ('amazes', 1.6206209659576416),\n",
       " ('brings', 1.6148300170898438),\n",
       " ('0:', 1.6062898635864258),\n",
       " ('published:', 1.5981762409210205),\n",
       " ('blogs:', 1.597554326057434),\n",
       " ('sophies', 1.5913939476013184),\n",
       " ('vh-1', 1.5907223224639893),\n",
       " ('calendar)', 1.584105134010315)]"
      ]
     },
     "execution_count": 69,
     "metadata": {},
     "output_type": "execute_result"
    }
   ],
   "source": [
    "embds['blogging'].most_similar_cosmul(positive='love', negative='hate', topn=10)"
   ]
  },
  {
   "cell_type": "markdown",
   "metadata": {},
   "source": [
    "# Visualize\n",
    "\n",
    "Inspired by https://stackoverflow.com/questions/43776572/visualise-word2vec-generated-from-gensim "
   ]
  },
  {
   "cell_type": "code",
   "execution_count": 74,
   "metadata": {},
   "outputs": [],
   "source": [
    "vocab = list(embds['blogging'].wv.vocab)\n",
    "X = embds['blogging'][vocab]"
   ]
  },
  {
   "cell_type": "code",
   "execution_count": 76,
   "metadata": {},
   "outputs": [],
   "source": [
    "tsne = TSNE(n_components=2)\n",
    "X_tsne = tsne.fit_transform(X)"
   ]
  },
  {
   "cell_type": "code",
   "execution_count": 79,
   "metadata": {},
   "outputs": [],
   "source": [
    "vocab_faith = list(embds['faith'].wv.vocab)\n",
    "X_faith = embds['faith'][vocab_faith]\n",
    "tsne_faith = TSNE(n_components=2)\n",
    "X_tsne_faith = tsne_faith.fit_transform(X_faith)"
   ]
  },
  {
   "cell_type": "code",
   "execution_count": 77,
   "metadata": {},
   "outputs": [],
   "source": [
    "df = pd.DataFrame(X_tsne, index=vocab, columns=['x', 'y']) #words from vocab are indeces"
   ]
  },
  {
   "cell_type": "code",
   "execution_count": 89,
   "metadata": {},
   "outputs": [],
   "source": [
    "df_test = df.iloc[:100, :]"
   ]
  },
  {
   "cell_type": "code",
   "execution_count": 90,
   "metadata": {},
   "outputs": [
    {
     "data": {
      "image/png": "[encoded data removed]",
      "text/plain": [
       "<Figure size 432x288 with 1 Axes>"
      ]
     },
     "metadata": {
      "needs_background": "light"
     },
     "output_type": "display_data"
    }
   ],
   "source": [
    "fig = plt.figure()\n",
    "ax = fig.add_subplot(1, 1, 1)\n",
    "\n",
    "ax.scatter(df_test['x'], df_test['y'])\n",
    "for word, pos in df_test.iterrows():\n",
    "    ax.annotate(word, pos)\n",
    "    \n",
    "#fig.savefig()"
   ]
  },
  {
   "cell_type": "code",
   "execution_count": null,
   "metadata": {},
   "outputs": [],
   "source": []
  },
  {
   "cell_type": "code",
   "execution_count": null,
   "metadata": {},
   "outputs": [],
   "source": []
  }
 ],
 "metadata": {
  "kernelspec": {
   "display_name": "Python 3",
   "language": "python",
   "name": "python3"
  },
  "language_info": {
   "codemirror_mode": {
    "name": "ipython",
    "version": 3
   },
   "file_extension": ".py",
   "mimetype": "text/x-python",
   "name": "python",
   "nbconvert_exporter": "python",
   "pygments_lexer": "ipython3",
   "version": "3.7.7"
  }
 },
 "nbformat": 4,
 "nbformat_minor": 4
}
