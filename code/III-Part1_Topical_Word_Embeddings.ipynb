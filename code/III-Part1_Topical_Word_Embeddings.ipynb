{
 "cells": [
  {
   "cell_type": "markdown",
   "metadata": {},
   "source": [
    "# Libraries and utils"
   ]
  },
  {
   "cell_type": "code",
   "execution_count": 3,
   "metadata": {},
   "outputs": [
    {
     "ename": "ModuleNotFoundError",
     "evalue": "No module named 'matplotlib.pyplot'",
     "output_type": "error",
     "traceback": [
      "\u001b[0;31m---------------------------------------------------------------------------\u001b[0m",
      "\u001b[0;31mModuleNotFoundError\u001b[0m                       Traceback (most recent call last)",
      "\u001b[0;32m<ipython-input-3-03cf0a6af8d3>\u001b[0m in \u001b[0;36m<module>\u001b[0;34m\u001b[0m\n\u001b[1;32m     12\u001b[0m \u001b[0;32mfrom\u001b[0m \u001b[0msklearn\u001b[0m\u001b[0;34m.\u001b[0m\u001b[0mmanifold\u001b[0m \u001b[0;32mimport\u001b[0m \u001b[0mTSNE\u001b[0m\u001b[0;34m\u001b[0m\u001b[0;34m\u001b[0m\u001b[0m\n\u001b[1;32m     13\u001b[0m \u001b[0;34m\u001b[0m\u001b[0m\n\u001b[0;32m---> 14\u001b[0;31m \u001b[0;32mimport\u001b[0m \u001b[0mmatplotlib\u001b[0m\u001b[0;34m.\u001b[0m\u001b[0mpyplot\u001b[0m \u001b[0;32mas\u001b[0m \u001b[0mplt\u001b[0m\u001b[0;34m\u001b[0m\u001b[0;34m\u001b[0m\u001b[0m\n\u001b[0m\u001b[1;32m     15\u001b[0m \u001b[0;34m\u001b[0m\u001b[0m\n\u001b[1;32m     16\u001b[0m \u001b[0;32mfrom\u001b[0m \u001b[0mcollections\u001b[0m \u001b[0;32mimport\u001b[0m \u001b[0mdefaultdict\u001b[0m\u001b[0;34m\u001b[0m\u001b[0;34m\u001b[0m\u001b[0m\n",
      "\u001b[0;31mModuleNotFoundError\u001b[0m: No module named 'matplotlib.pyplot'"
     ]
    }
   ],
   "source": [
    "import warnings\n",
    "warnings.filterwarnings(\"ignore\")\n",
    "\n",
    "import pickle\n",
    "import nltk\n",
    "from gensim.models import Word2Vec\n",
    "import multiprocessing\n",
    "import pandas as pd\n",
    "from collections import defaultdict\n",
    "\n",
    "from nltk.stem import WordNetLemmatizer\n",
    "from sklearn.manifold import TSNE\n",
    "\n",
    "import matplotlib.pyplot as plt\n",
    "\n",
    "from collections import defaultdict\n",
    "\n",
    "import pandas as pd\n",
    "import numpy as np"
   ]
  },
  {
   "cell_type": "code",
   "execution_count": 3,
   "metadata": {},
   "outputs": [],
   "source": [
    "# inspired by https://blog.cambridgespark.com/tutorial-build-your-own-embedding-and-use-it-in-a-neural-network-e9cde4a81296\n",
    "lemmatizer=WordNetLemmatizer()\n",
    "\n",
    "def word_splt(lst): \n",
    "    return list(map(lambda word:[word], lst)) \n",
    "\n",
    "def lemmatize_sent(sent):\n",
    "    return [lemmatizer.lemmatize(word.lower()) for word in sent]\n",
    "\n",
    "def embedd_by_topic(ind):   \n",
    "    text = new_df_g['post'][ind]\n",
    "    \n",
    "    text_l = text.split('.')\n",
    "    text_l=word_splt(text_l)\n",
    "    tokens = [sub.split() for subl in  text_l for sub in subl] \n",
    "    \n",
    "    lemmatized = []\n",
    "    for i in tokens:\n",
    "        lemmatized.append(lemmatize_sent(i))\n",
    "\n",
    "    \n",
    "    embedding_dim=300\n",
    "    \n",
    "    w_v = Word2Vec(lemmatized, size=embedding_dim, window=5, \n",
    "                   min_count=5, negative=15, iter=10, workers=multiprocessing.cpu_count())\n",
    "\n",
    "    word_vectors = w_v.wv\n",
    "    \n",
    "    return word_vectors\n",
    "    "
   ]
  },
  {
   "cell_type": "markdown",
   "metadata": {},
   "source": [
    "# Data preparation"
   ]
  },
  {
   "cell_type": "code",
   "execution_count": 4,
   "metadata": {},
   "outputs": [
    {
     "name": "stdout",
     "output_type": "stream",
     "text": [
      "/Users/elena/Desktop/Metis/projects/5_project/Blogger_Boost/code\r\n"
     ]
    }
   ],
   "source": [
    "!pwd"
   ]
  },
  {
   "cell_type": "code",
   "execution_count": 5,
   "metadata": {},
   "outputs": [],
   "source": [
    "with open('../../blogger_com_data_19320_6_v2.pkl', 'rb') as picklefile:\n",
    "    df = pickle.load(picklefile)"
   ]
  },
  {
   "cell_type": "code",
   "execution_count": 6,
   "metadata": {},
   "outputs": [],
   "source": [
    "with open('../../data/blogger_com_data_19320_tsne3d.pkl', 'rb') as picklefile:\n",
    "    tsne = pickle.load(picklefile)"
   ]
  },
  {
   "cell_type": "code",
   "execution_count": 7,
   "metadata": {},
   "outputs": [],
   "source": [
    "#tsne"
   ]
  },
  {
   "cell_type": "code",
   "execution_count": 8,
   "metadata": {},
   "outputs": [],
   "source": [
    "new_df = pd.merge(df, tsne,  how='left', left_on=['blogger_id'], right_on = ['blogger_id'])"
   ]
  },
  {
   "cell_type": "code",
   "execution_count": 9,
   "metadata": {},
   "outputs": [],
   "source": [
    "new_df = new_df[['blogger_id', 'post', 'prime_topic']]"
   ]
  },
  {
   "cell_type": "code",
   "execution_count": 10,
   "metadata": {},
   "outputs": [],
   "source": [
    "new_df_g = new_df.groupby(['prime_topic'])['post'].apply(' '.join).reset_index()"
   ]
  },
  {
   "cell_type": "markdown",
   "metadata": {},
   "source": [
    "# Training"
   ]
  },
  {
   "cell_type": "code",
   "execution_count": 17,
   "metadata": {},
   "outputs": [],
   "source": [
    "embds = defaultdict()\n",
    "\n",
    "for i in range(new_df_g['post'].shape[0]):\n",
    "    embds[new_df_g['prime_topic'][i]] = embedd_by_topic(i)"
   ]
  },
  {
   "cell_type": "code",
   "execution_count": 18,
   "metadata": {},
   "outputs": [
    {
     "data": {
      "text/plain": [
       "defaultdict(None,\n",
       "            {'blogging': <gensim.models.keyedvectors.Word2VecKeyedVectors at 0x7f8fff6b6710>,\n",
       "             'faith': <gensim.models.keyedvectors.Word2VecKeyedVectors at 0x7f8e9c4c7cd0>,\n",
       "             'jargon': <gensim.models.keyedvectors.Word2VecKeyedVectors at 0x7f8e78af8d10>,\n",
       "             'love_relationship': <gensim.models.keyedvectors.Word2VecKeyedVectors at 0x7f8e94933fd0>,\n",
       "             'mundane': <gensim.models.keyedvectors.Word2VecKeyedVectors at 0x7f8ec25507d0>,\n",
       "             'politics': <gensim.models.keyedvectors.Word2VecKeyedVectors at 0x7f8e33123d50>,\n",
       "             'teen_fun_days': <gensim.models.keyedvectors.Word2VecKeyedVectors at 0x7f8e90c59610>})"
      ]
     },
     "execution_count": 18,
     "metadata": {},
     "output_type": "execute_result"
    }
   ],
   "source": [
    "embds"
   ]
  },
  {
   "cell_type": "code",
   "execution_count": 49,
   "metadata": {},
   "outputs": [],
   "source": [
    "with open('../../topic_embeds.pkl', 'wb') as picklefile:\n",
    "    pickle.dump(embds, picklefile)"
   ]
  },
  {
   "cell_type": "code",
   "execution_count": 3,
   "metadata": {},
   "outputs": [
    {
     "name": "stdout",
     "output_type": "stream",
     "text": [
      "/Users/elena/Desktop/Metis/projects/5_project/Blogger_Boost/code\r\n"
     ]
    }
   ],
   "source": [
    "!pwd"
   ]
  },
  {
   "cell_type": "code",
   "execution_count": 9,
   "metadata": {},
   "outputs": [],
   "source": [
    "with open('../../data/topic_embeds.pkl', 'rb') as picklefile:\n",
    "    embds = pickle.load(picklefile)"
   ]
  },
  {
   "cell_type": "markdown",
   "metadata": {},
   "source": [
    "# Similar by word"
   ]
  },
  {
   "cell_type": "code",
   "execution_count": 11,
   "metadata": {},
   "outputs": [],
   "source": [
    "embds['Leisure'] = embds['blogging']   \n",
    "del embds['blogging']\n",
    "\n",
    "embds['Faith'] = embds['faith']   \n",
    "del embds['faith']\n",
    "\n",
    "embds['Slang People'] = embds['jargon']   \n",
    "del embds['jargon']\n",
    "\n",
    "embds['Relationships'] = embds['love_relationship']   \n",
    "del embds['love_relationship']\n",
    "\n",
    "\n",
    "embds['Politics'] = embds['politics']   \n",
    "del embds['politics']\n",
    "\n",
    "embds['Teen Spirit'] = embds['teen_fun_days']   \n",
    "del embds['teen_fun_days']\n",
    "\n",
    "\n",
    "embds['Days of My Life'] = embds['mundane']   \n",
    "del embds['mundane']\n",
    "\n"
   ]
  },
  {
   "cell_type": "code",
   "execution_count": 13,
   "metadata": {},
   "outputs": [],
   "source": [
    "with open('../../topic_embeds.pkl', 'wb') as picklefile:\n",
    "    pickle.dump(embds, picklefile)"
   ]
  },
  {
   "cell_type": "code",
   "execution_count": 16,
   "metadata": {},
   "outputs": [],
   "source": [
    "with open('../../topic_embeds.pkl', 'rb') as picklefile:\n",
    "    embds = pickle.load(picklefile)"
   ]
  },
  {
   "cell_type": "code",
   "execution_count": null,
   "metadata": {},
   "outputs": [],
   "source": [
    "old_keys = embds.keys()"
   ]
  },
  {
   "cell_type": "code",
   "execution_count": 23,
   "metadata": {},
   "outputs": [
    {
     "data": {
      "text/plain": [
       "dict_keys(['Leisure', 'Faith', 'Slang People', 'Relationships', 'Politics', 'Teen Spirit', 'Days of My Life'])"
      ]
     },
     "execution_count": 23,
     "metadata": {},
     "output_type": "execute_result"
    }
   ],
   "source": [
    "embds.keys()"
   ]
  },
  {
   "cell_type": "code",
   "execution_count": 29,
   "metadata": {},
   "outputs": [
    {
     "data": {
      "text/plain": [
       "<gensim.models.keyedvectors.Word2VecKeyedVectors at 0x7fe642760690>"
      ]
     },
     "execution_count": 29,
     "metadata": {},
     "output_type": "execute_result"
    }
   ],
   "source": [
    "embds_n = {k.upper():v for k,v in embds.items()}\n",
    "embds_n[topic]\n",
    "words = [num[0] for num in embds_n[topic].similar_by_word(input2)]"
   ]
  },
  {
   "cell_type": "code",
   "execution_count": 30,
   "metadata": {},
   "outputs": [],
   "source": [
    "def update_output2(input2, my_community):\n",
    "    \n",
    "    topic = my_community.replace(\"You belong to \", '').replace(\" community!\", '')\n",
    "    embds_n = {k.upper():v for k,v in embds.items()}\n",
    "    words = [num[0] for num in embds_n[topic].similar_by_word(input2)]\n",
    "\n",
    "    return words"
   ]
  },
  {
   "cell_type": "code",
   "execution_count": 31,
   "metadata": {},
   "outputs": [
    {
     "data": {
      "text/plain": [
       "['fantastic',\n",
       " 'wonderful',\n",
       " 'terrific',\n",
       " 'good',\n",
       " 'fabulous',\n",
       " 'phenomenal',\n",
       " 'brilliant',\n",
       " 'awesome',\n",
       " 'superb',\n",
       " 'terrible']"
      ]
     },
     "execution_count": 31,
     "metadata": {},
     "output_type": "execute_result"
    }
   ],
   "source": [
    "update_output2('great', 'LEISURE')"
   ]
  },
  {
   "cell_type": "code",
   "execution_count": 44,
   "metadata": {},
   "outputs": [],
   "source": [
    "w = [num[0].translate(str.maketrans('', '', string.punctuation)) for num in embds['Slang People'].similar_by_word('great')]"
   ]
  },
  {
   "cell_type": "code",
   "execution_count": 43,
   "metadata": {},
   "outputs": [
    {
     "data": {
      "text/plain": [
       "['wonderful',\n",
       " 'fantastic',\n",
       " 'gr8',\n",
       " 'pleasant',\n",
       " 'good',\n",
       " 'tough',\n",
       " 'nice',\n",
       " 'terrible',\n",
       " 'horrible',\n",
       " 'fruitful']"
      ]
     },
     "execution_count": 43,
     "metadata": {},
     "output_type": "execute_result"
    }
   ],
   "source": [
    "import string\n",
    "res = [s.translate(str.maketrans('', '', string.punctuation)) for s in w]\n",
    "res"
   ]
  },
  {
   "cell_type": "code",
   "execution_count": 89,
   "metadata": {},
   "outputs": [
    {
     "data": {
      "text/plain": [
       "[('wonderful', 0.6863747835159302),\n",
       " ('fantastic', 0.5793212056159973),\n",
       " ('awesome', 0.5332973003387451),\n",
       " ('good', 0.5313011407852173),\n",
       " ('rare', 0.4821605980396271),\n",
       " ('tough', 0.4565920829772949),\n",
       " ('tremendous', 0.44538068771362305),\n",
       " ('fun', 0.4390840530395508),\n",
       " ('marvelous', 0.4311225414276123),\n",
       " ('special', 0.42732250690460205)]"
      ]
     },
     "execution_count": 89,
     "metadata": {},
     "output_type": "execute_result"
    }
   ],
   "source": [
    "embds['Faith'].similar_by_word('great')"
   ]
  },
  {
   "cell_type": "code",
   "execution_count": 91,
   "metadata": {},
   "outputs": [
    {
     "data": {
      "text/plain": [
       "[('wonderful', 0.6720200181007385),\n",
       " ('good', 0.6700670719146729),\n",
       " ('awesome', 0.5930460691452026),\n",
       " ('nice', 0.5487428903579712),\n",
       " ('great,', 0.5421803593635559),\n",
       " ('great!', 0.5278201103210449),\n",
       " ('amazing', 0.5258762836456299),\n",
       " ('horrible', 0.5257606506347656),\n",
       " ('lovely', 0.5189331769943237),\n",
       " ('terrible', 0.5112077593803406)]"
      ]
     },
     "execution_count": 91,
     "metadata": {},
     "output_type": "execute_result"
    }
   ],
   "source": [
    "embds['Teen Spirit'].similar_by_word('great')"
   ]
  },
  {
   "cell_type": "code",
   "execution_count": 47,
   "metadata": {},
   "outputs": [
    {
     "data": {
      "text/plain": [
       "[('spouse', 0.6131894588470459),\n",
       " ('colleague', 0.6001355051994324),\n",
       " ('employer', 0.592117190361023),\n",
       " ('countryman', 0.5882123112678528),\n",
       " ('parent', 0.5783097743988037),\n",
       " ('parents,', 0.5709174275398254),\n",
       " ('daughter,', 0.5668789744377136),\n",
       " ('employment,', 0.5556104779243469),\n",
       " ('workplace', 0.5524344444274902),\n",
       " ('profession', 0.5490902662277222)]"
      ]
     },
     "execution_count": 47,
     "metadata": {},
     "output_type": "execute_result"
    }
   ],
   "source": [
    "embds['politics'].similar_by_word('partner')"
   ]
  },
  {
   "cell_type": "code",
   "execution_count": 48,
   "metadata": {},
   "outputs": [
    {
     "data": {
      "text/plain": [
       "[('girlfriend', 0.6918103694915771),\n",
       " ('boyfriend', 0.6451742053031921),\n",
       " ('supervisor', 0.6375335454940796),\n",
       " ('beloved', 0.6353716850280762),\n",
       " ('husband', 0.6211665272712708),\n",
       " ('partner,', 0.6136278510093689),\n",
       " ('wife', 0.6073704361915588),\n",
       " ('daughter', 0.6067254543304443),\n",
       " ('buddy', 0.6054929494857788),\n",
       " ('friend', 0.6026976108551025)]"
      ]
     },
     "execution_count": 48,
     "metadata": {},
     "output_type": "execute_result"
    }
   ],
   "source": [
    "embds['jargon'].similar_by_word('partner')"
   ]
  },
  {
   "cell_type": "code",
   "execution_count": 8,
   "metadata": {},
   "outputs": [
    {
     "data": {
      "text/plain": [
       "[('partner,', 0.6203582882881165),\n",
       " ('spouse', 0.57475745677948),\n",
       " ('husband', 0.5431606769561768),\n",
       " ('companion', 0.5348480939865112),\n",
       " ('boyfriend', 0.5324077606201172),\n",
       " ('girlfriend', 0.5263009071350098),\n",
       " ('boyfriend,', 0.5095653533935547),\n",
       " ('ex', 0.503070592880249),\n",
       " ('career', 0.4971277117729187),\n",
       " ('husband,', 0.49354708194732666)]"
      ]
     },
     "execution_count": 8,
     "metadata": {},
     "output_type": "execute_result"
    }
   ],
   "source": [
    "embds['mundane'].similar_by_word('partner')"
   ]
  },
  {
   "cell_type": "code",
   "execution_count": 10,
   "metadata": {},
   "outputs": [
    {
     "data": {
      "text/plain": [
       "[('counterpart', 0.5786188840866089),\n",
       " ('husband', 0.5766229629516602),\n",
       " ('partner', 0.57475745677948),\n",
       " ('partner,', 0.5703619718551636),\n",
       " ('actions,', 0.5566568374633789),\n",
       " ('wife,', 0.5459825992584229),\n",
       " ('wife', 0.5448347330093384),\n",
       " ('identity', 0.5368969440460205),\n",
       " ('genitals', 0.5339117050170898),\n",
       " ('parent', 0.5335367321968079)]"
      ]
     },
     "execution_count": 10,
     "metadata": {},
     "output_type": "execute_result"
    }
   ],
   "source": [
    "embds['mundane'].similar_by_word('spouse')"
   ]
  },
  {
   "cell_type": "code",
   "execution_count": 19,
   "metadata": {},
   "outputs": [
    {
     "data": {
      "text/plain": [
       "0.5786189"
      ]
     },
     "execution_count": 19,
     "metadata": {},
     "output_type": "execute_result"
    }
   ],
   "source": [
    "embds['mundane'].n_similarity(['spouse'], ['counterpart'])"
   ]
  },
  {
   "cell_type": "code",
   "execution_count": 20,
   "metadata": {},
   "outputs": [
    {
     "data": {
      "text/plain": [
       "0.57475746"
      ]
     },
     "execution_count": 20,
     "metadata": {},
     "output_type": "execute_result"
    }
   ],
   "source": [
    "embds['mundane'].n_similarity(['spouse'], ['partner'])"
   ]
  },
  {
   "cell_type": "code",
   "execution_count": 13,
   "metadata": {},
   "outputs": [
    {
     "data": {
      "text/plain": [
       "0.6663115"
      ]
     },
     "execution_count": 13,
     "metadata": {},
     "output_type": "execute_result"
    }
   ],
   "source": [
    "embds['mundane'].n_similarity('wife', 'partner')"
   ]
  },
  {
   "cell_type": "code",
   "execution_count": 18,
   "metadata": {},
   "outputs": [
    {
     "data": {
      "text/plain": [
       "0.4086579"
      ]
     },
     "execution_count": 18,
     "metadata": {},
     "output_type": "execute_result"
    }
   ],
   "source": [
    "embds['mundane'].n_similarity('w', 'c')"
   ]
  },
  {
   "cell_type": "code",
   "execution_count": 75,
   "metadata": {},
   "outputs": [],
   "source": [
    "d = defaultdict()\n",
    "\n",
    "for i in embds.keys():\n",
    "    d[i] = embds[i].n_similarity(['partner'], ['responsibility'])\n",
    "df = pd.DataFrame([d], columns=d.keys()).T   "
   ]
  },
  {
   "cell_type": "code",
   "execution_count": 76,
   "metadata": {},
   "outputs": [],
   "source": [
    "d = defaultdict()\n",
    "\n",
    "for i in embds.keys():\n",
    "    d[i] = embds[i].n_similarity(['partner'], ['fun'])\n",
    "df1 = pd.DataFrame([d], columns=d.keys()).T "
   ]
  },
  {
   "cell_type": "code",
   "execution_count": 77,
   "metadata": {},
   "outputs": [],
   "source": [
    "x = pd.concat([df, df1], axis=1)\n",
    "x.columns = ['responsibility', 'fun']"
   ]
  },
  {
   "cell_type": "code",
   "execution_count": 78,
   "metadata": {},
   "outputs": [],
   "source": [
    "x = x.reset_index()"
   ]
  },
  {
   "cell_type": "code",
   "execution_count": 79,
   "metadata": {},
   "outputs": [
    {
     "data": {
      "text/html": [
       "<div>\n",
       "<style scoped>\n",
       "    .dataframe tbody tr th:only-of-type {\n",
       "        vertical-align: middle;\n",
       "    }\n",
       "\n",
       "    .dataframe tbody tr th {\n",
       "        vertical-align: top;\n",
       "    }\n",
       "\n",
       "    .dataframe thead th {\n",
       "        text-align: right;\n",
       "    }\n",
       "</style>\n",
       "<table border=\"1\" class=\"dataframe\">\n",
       "  <thead>\n",
       "    <tr style=\"text-align: right;\">\n",
       "      <th></th>\n",
       "      <th>index</th>\n",
       "      <th>responsibility</th>\n",
       "      <th>fun</th>\n",
       "    </tr>\n",
       "  </thead>\n",
       "  <tbody>\n",
       "    <tr>\n",
       "      <th>0</th>\n",
       "      <td>Leisure</td>\n",
       "      <td>0.304355</td>\n",
       "      <td>0.044990</td>\n",
       "    </tr>\n",
       "    <tr>\n",
       "      <th>1</th>\n",
       "      <td>Faith</td>\n",
       "      <td>0.459518</td>\n",
       "      <td>0.007469</td>\n",
       "    </tr>\n",
       "    <tr>\n",
       "      <th>2</th>\n",
       "      <td>Slang People</td>\n",
       "      <td>0.425637</td>\n",
       "      <td>0.134280</td>\n",
       "    </tr>\n",
       "    <tr>\n",
       "      <th>3</th>\n",
       "      <td>Relationships</td>\n",
       "      <td>0.358606</td>\n",
       "      <td>0.064079</td>\n",
       "    </tr>\n",
       "    <tr>\n",
       "      <th>4</th>\n",
       "      <td>Politics</td>\n",
       "      <td>0.347488</td>\n",
       "      <td>0.020316</td>\n",
       "    </tr>\n",
       "    <tr>\n",
       "      <th>5</th>\n",
       "      <td>Teen Spirit</td>\n",
       "      <td>0.319303</td>\n",
       "      <td>0.053869</td>\n",
       "    </tr>\n",
       "    <tr>\n",
       "      <th>6</th>\n",
       "      <td>Days of My Life</td>\n",
       "      <td>0.302840</td>\n",
       "      <td>0.083005</td>\n",
       "    </tr>\n",
       "  </tbody>\n",
       "</table>\n",
       "</div>"
      ],
      "text/plain": [
       "             index  responsibility       fun\n",
       "0          Leisure        0.304355  0.044990\n",
       "1            Faith        0.459518  0.007469\n",
       "2     Slang People        0.425637  0.134280\n",
       "3    Relationships        0.358606  0.064079\n",
       "4         Politics        0.347488  0.020316\n",
       "5      Teen Spirit        0.319303  0.053869\n",
       "6  Days of My Life        0.302840  0.083005"
      ]
     },
     "execution_count": 79,
     "metadata": {},
     "output_type": "execute_result"
    }
   ],
   "source": [
    "x"
   ]
  },
  {
   "cell_type": "code",
   "execution_count": 67,
   "metadata": {},
   "outputs": [],
   "source": [
    "#x = pd.melt(x, id_vars='index', value_vars=['love', 'business'])"
   ]
  },
  {
   "cell_type": "code",
   "execution_count": 81,
   "metadata": {
    "scrolled": true
   },
   "outputs": [
    {
     "data": {
      "image/png": "[encoded data removed]",
      "text/plain": [
       "<Figure size 1080x360 with 1 Axes>"
      ]
     },
     "metadata": {
      "needs_background": "light"
     },
     "output_type": "display_data"
    }
   ],
   "source": [
    "x = x.sort_values(by=['responsibility'], ascending=True)\n",
    "plt.figure(figsize=(15,5))\n",
    "plt.barh(x['index'], x['responsibility'], color=\"#757575\", alpha=0.4)\n",
    "plt.barh(x['index'], x['fun'], color=\"#ACF2DC\", alpha=0.4)\n",
    "#plt.bar(x['index'], x['work'], color=\"#757575\", alpha=0.7)\n",
    "plt.yticks(fontsize = 20);\n",
    "plt.legend(np.arange(2), labels=('\"Responsibility\"', '\"Fun\"'), fontsize=15, loc='lower right')\n",
    "plt.title('Partner: Responsibility or Fun', fontsize=30);\n"
   ]
  },
  {
   "cell_type": "code",
   "execution_count": 114,
   "metadata": {},
   "outputs": [
    {
     "data": {
      "text/plain": [
       "['Slang Pleople',\n",
       " 'Teen Spirit',\n",
       " 'Faith',\n",
       " 'Politics',\n",
       " 'Leisure',\n",
       " 'Relationships',\n",
       " 'Days of My Life']"
      ]
     },
     "execution_count": 114,
     "metadata": {},
     "output_type": "execute_result"
    }
   ],
   "source": [
    "list1 = ['Days of My Life','Relationships',\n",
    "                          'Leisure','Politics', 'Faith', 'Teen Spirit', \n",
    "                          'Slang Pleople']\n",
    "newlist1[::-1]"
   ]
  },
  {
   "cell_type": "code",
   "execution_count": 130,
   "metadata": {},
   "outputs": [
    {
     "data": {
      "image/png": "[encoded data removed]",
      "text/plain": [
       "<Figure size 1080x720 with 1 Axes>"
      ]
     },
     "metadata": {
      "needs_background": "light"
     },
     "output_type": "display_data"
    }
   ],
   "source": [
    "x = x.sort_values(by=['business'], ascending=True)\n",
    "plt.figure(figsize=(15,10))\n",
    "plt.barh(x['index'], x['business'], color=\"#757575\", alpha=0.7)\n",
    "plt.yticks(np.arange(7), ('Slang Pleople','Teen Spirit','Faith',\n",
    "                          'Politics', 'Leisure', 'Relationships',\n",
    "                          'Days of My Life'), fontsize = 20);\n",
    "#\n",
    "plt.title('Partner is about Work', fontsize=30);\n",
    "\n"
   ]
  },
  {
   "cell_type": "code",
   "execution_count": 68,
   "metadata": {},
   "outputs": [
    {
     "data": {
      "text/html": [
       "<div>\n",
       "<style scoped>\n",
       "    .dataframe tbody tr th:only-of-type {\n",
       "        vertical-align: middle;\n",
       "    }\n",
       "\n",
       "    .dataframe tbody tr th {\n",
       "        vertical-align: top;\n",
       "    }\n",
       "\n",
       "    .dataframe thead th {\n",
       "        text-align: right;\n",
       "    }\n",
       "</style>\n",
       "<table border=\"1\" class=\"dataframe\">\n",
       "  <thead>\n",
       "    <tr style=\"text-align: right;\">\n",
       "      <th></th>\n",
       "      <th>index</th>\n",
       "      <th>variable</th>\n",
       "      <th>value</th>\n",
       "    </tr>\n",
       "  </thead>\n",
       "  <tbody>\n",
       "    <tr>\n",
       "      <th>0</th>\n",
       "      <td>blogging</td>\n",
       "      <td>home</td>\n",
       "      <td>0.682735</td>\n",
       "    </tr>\n",
       "    <tr>\n",
       "      <th>1</th>\n",
       "      <td>faith</td>\n",
       "      <td>home</td>\n",
       "      <td>0.676519</td>\n",
       "    </tr>\n",
       "    <tr>\n",
       "      <th>2</th>\n",
       "      <td>jargon</td>\n",
       "      <td>home</td>\n",
       "      <td>0.614945</td>\n",
       "    </tr>\n",
       "    <tr>\n",
       "      <th>3</th>\n",
       "      <td>love_relationship</td>\n",
       "      <td>home</td>\n",
       "      <td>0.791464</td>\n",
       "    </tr>\n",
       "    <tr>\n",
       "      <th>4</th>\n",
       "      <td>mundane</td>\n",
       "      <td>home</td>\n",
       "      <td>0.778235</td>\n",
       "    </tr>\n",
       "    <tr>\n",
       "      <th>5</th>\n",
       "      <td>politics</td>\n",
       "      <td>home</td>\n",
       "      <td>0.772431</td>\n",
       "    </tr>\n",
       "    <tr>\n",
       "      <th>6</th>\n",
       "      <td>teen_fun_days</td>\n",
       "      <td>home</td>\n",
       "      <td>0.655142</td>\n",
       "    </tr>\n",
       "    <tr>\n",
       "      <th>7</th>\n",
       "      <td>blogging</td>\n",
       "      <td>work</td>\n",
       "      <td>0.801888</td>\n",
       "    </tr>\n",
       "    <tr>\n",
       "      <th>8</th>\n",
       "      <td>faith</td>\n",
       "      <td>work</td>\n",
       "      <td>0.707770</td>\n",
       "    </tr>\n",
       "    <tr>\n",
       "      <th>9</th>\n",
       "      <td>jargon</td>\n",
       "      <td>work</td>\n",
       "      <td>0.691449</td>\n",
       "    </tr>\n",
       "    <tr>\n",
       "      <th>10</th>\n",
       "      <td>love_relationship</td>\n",
       "      <td>work</td>\n",
       "      <td>0.820559</td>\n",
       "    </tr>\n",
       "    <tr>\n",
       "      <th>11</th>\n",
       "      <td>mundane</td>\n",
       "      <td>work</td>\n",
       "      <td>0.830957</td>\n",
       "    </tr>\n",
       "    <tr>\n",
       "      <th>12</th>\n",
       "      <td>politics</td>\n",
       "      <td>work</td>\n",
       "      <td>0.749109</td>\n",
       "    </tr>\n",
       "    <tr>\n",
       "      <th>13</th>\n",
       "      <td>teen_fun_days</td>\n",
       "      <td>work</td>\n",
       "      <td>0.707662</td>\n",
       "    </tr>\n",
       "  </tbody>\n",
       "</table>\n",
       "</div>"
      ],
      "text/plain": [
       "                index variable     value\n",
       "0            blogging     home  0.682735\n",
       "1               faith     home  0.676519\n",
       "2              jargon     home  0.614945\n",
       "3   love_relationship     home  0.791464\n",
       "4             mundane     home  0.778235\n",
       "5            politics     home  0.772431\n",
       "6       teen_fun_days     home  0.655142\n",
       "7            blogging     work  0.801888\n",
       "8               faith     work  0.707770\n",
       "9              jargon     work  0.691449\n",
       "10  love_relationship     work  0.820559\n",
       "11            mundane     work  0.830957\n",
       "12           politics     work  0.749109\n",
       "13      teen_fun_days     work  0.707662"
      ]
     },
     "execution_count": 68,
     "metadata": {},
     "output_type": "execute_result"
    }
   ],
   "source": [
    "x"
   ]
  },
  {
   "cell_type": "markdown",
   "metadata": {},
   "source": [
    "# Most similar: positive and negative"
   ]
  },
  {
   "cell_type": "code",
   "execution_count": 82,
   "metadata": {},
   "outputs": [
    {
     "name": "stdout",
     "output_type": "stream",
     "text": [
      "Most similar to \"partner\" and dissimilar to \"family\":  [('life,', 0.5014045238494873), ('pride', 0.45470547676086426), ('fear', 0.4404177665710449), (\"life's\", 0.4359142780303955), ('heart,', 0.43054133653640747), ('happiness', 0.4272417724132538), ('heart', 0.4208718538284302), ('emotion', 0.41114142537117004), ('brain', 0.3990476131439209), ('life?', 0.39117881655693054)]\n"
     ]
    }
   ],
   "source": [
    "result = embds['Slang People'].most_similar(positive=['life'], negative=['church'])\n",
    "print('Most similar to \"partner\" and dissimilar to \"family\": ', result[:10])"
   ]
  },
  {
   "cell_type": "markdown",
   "metadata": {},
   "source": [
    "# Compare words similarity for different groups"
   ]
  },
  {
   "cell_type": "code",
   "execution_count": 59,
   "metadata": {},
   "outputs": [
    {
     "data": {
      "text/plain": [
       "0.6556965"
      ]
     },
     "execution_count": 59,
     "metadata": {},
     "output_type": "execute_result"
    }
   ],
   "source": [
    "embds['jargon'].n_similarity('love', 'friendship')"
   ]
  },
  {
   "cell_type": "code",
   "execution_count": 60,
   "metadata": {},
   "outputs": [
    {
     "data": {
      "text/plain": [
       "0.6491781"
      ]
     },
     "execution_count": 60,
     "metadata": {},
     "output_type": "execute_result"
    }
   ],
   "source": [
    "embds['politics'].n_similarity('love', 'friendship')"
   ]
  },
  {
   "cell_type": "code",
   "execution_count": 61,
   "metadata": {},
   "outputs": [
    {
     "data": {
      "text/plain": [
       "0.73877794"
      ]
     },
     "execution_count": 61,
     "metadata": {},
     "output_type": "execute_result"
    }
   ],
   "source": [
    "embds['teen_fun_days'].n_similarity('love', 'friendship')"
   ]
  },
  {
   "cell_type": "code",
   "execution_count": 64,
   "metadata": {},
   "outputs": [
    {
     "data": {
      "text/plain": [
       "0.60260856"
      ]
     },
     "execution_count": 64,
     "metadata": {},
     "output_type": "execute_result"
    }
   ],
   "source": [
    "embds['faith'].n_similarity('love', 'friendship')"
   ]
  },
  {
   "cell_type": "code",
   "execution_count": 65,
   "metadata": {},
   "outputs": [
    {
     "data": {
      "text/plain": [
       "0.594294"
      ]
     },
     "execution_count": 65,
     "metadata": {},
     "output_type": "execute_result"
    }
   ],
   "source": [
    "embds['blogging'].n_similarity('love', 'friendship')"
   ]
  },
  {
   "cell_type": "code",
   "execution_count": 69,
   "metadata": {},
   "outputs": [
    {
     "data": {
      "text/plain": [
       "[('shad', 1.6901882886886597),\n",
       " (\"'01\", 1.625874638557434),\n",
       " ('amazes', 1.6206209659576416),\n",
       " ('brings', 1.6148300170898438),\n",
       " ('0:', 1.6062898635864258),\n",
       " ('published:', 1.5981762409210205),\n",
       " ('blogs:', 1.597554326057434),\n",
       " ('sophies', 1.5913939476013184),\n",
       " ('vh-1', 1.5907223224639893),\n",
       " ('calendar)', 1.584105134010315)]"
      ]
     },
     "execution_count": 69,
     "metadata": {},
     "output_type": "execute_result"
    }
   ],
   "source": [
    "embds['blogging'].most_similar_cosmul(positive='love', negative='hate', topn=10)"
   ]
  },
  {
   "cell_type": "markdown",
   "metadata": {},
   "source": [
    "# Visualize\n",
    "\n",
    "Inspired by https://stackoverflow.com/questions/43776572/visualise-word2vec-generated-from-gensim "
   ]
  },
  {
   "cell_type": "code",
   "execution_count": 74,
   "metadata": {},
   "outputs": [],
   "source": [
    "vocab = list(embds['blogging'].wv.vocab)\n",
    "X = embds['blogging'][vocab]"
   ]
  },
  {
   "cell_type": "code",
   "execution_count": 76,
   "metadata": {},
   "outputs": [],
   "source": [
    "tsne = TSNE(n_components=2)\n",
    "X_tsne = tsne.fit_transform(X)"
   ]
  },
  {
   "cell_type": "code",
   "execution_count": 79,
   "metadata": {},
   "outputs": [],
   "source": [
    "vocab_faith = list(embds['faith'].wv.vocab)\n",
    "X_faith = embds['faith'][vocab_faith]\n",
    "tsne_faith = TSNE(n_components=2)\n",
    "X_tsne_faith = tsne_faith.fit_transform(X_faith)"
   ]
  },
  {
   "cell_type": "code",
   "execution_count": 77,
   "metadata": {},
   "outputs": [],
   "source": [
    "df = pd.DataFrame(X_tsne, index=vocab, columns=['x', 'y']) #words from vocab are indeces"
   ]
  },
  {
   "cell_type": "code",
   "execution_count": 89,
   "metadata": {},
   "outputs": [],
   "source": [
    "df_test = df.iloc[:100, :]"
   ]
  },
  {
   "cell_type": "code",
   "execution_count": 90,
   "metadata": {},
   "outputs": [
    {
     "data": {
      "image/png": "[encoded data removed]",
      "text/plain": [
       "<Figure size 432x288 with 1 Axes>"
      ]
     },
     "metadata": {
      "needs_background": "light"
     },
     "output_type": "display_data"
    }
   ],
   "source": [
    "fig = plt.figure()\n",
    "ax = fig.add_subplot(1, 1, 1)\n",
    "\n",
    "ax.scatter(df_test['x'], df_test['y'])\n",
    "for word, pos in df_test.iterrows():\n",
    "    ax.annotate(word, pos)\n",
    "    \n",
    "#fig.savefig()"
   ]
  },
  {
   "cell_type": "code",
   "execution_count": null,
   "metadata": {},
   "outputs": [],
   "source": []
  },
  {
   "cell_type": "code",
   "execution_count": null,
   "metadata": {},
   "outputs": [],
   "source": []
  }
 ],
 "metadata": {
  "kernelspec": {
   "display_name": "Python 3",
   "language": "python",
   "name": "python3"
  },
  "language_info": {
   "codemirror_mode": {
    "name": "ipython",
    "version": 3
   },
   "file_extension": ".py",
   "mimetype": "text/x-python",
   "name": "python",
   "nbconvert_exporter": "python",
   "pygments_lexer": "ipython3",
   "version": "3.7.7"
  }
 },
 "nbformat": 4,
 "nbformat_minor": 4
}
