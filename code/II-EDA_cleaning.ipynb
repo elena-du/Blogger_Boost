{
 "cells": [
  {
   "cell_type": "code",
   "execution_count": 44,
   "metadata": {},
   "outputs": [],
   "source": [
    "from collections import defaultdict\n",
    "import pandas as pd\n",
    "#from bs4 import BeautifulSoup\n",
    "import glob, os\n",
    "import pickle\n",
    "import matplotlib.pyplot as plt\n",
    "\n",
    "import re"
   ]
  },
  {
   "cell_type": "code",
   "execution_count": 45,
   "metadata": {},
   "outputs": [
    {
     "name": "stdout",
     "output_type": "stream",
     "text": [
      "I-existing_data_to_df.ipynb\r\n",
      "II-EDA_cleaning.ipynb\r\n",
      "II-Transcript_to_df_TED.ipynb\r\n",
      "III-Topic_Modeling .ipynb\r\n",
      "III-Transcripts_Topic_Modeling2.ipynb\r\n",
      "Notes\r\n",
      "blogger_com_data_19320_6.pkl\r\n",
      "blogger_com_data_19320_6_v2.pkl\r\n",
      "blogger_com_data_330677_7.pkl\r\n",
      "\u001b[34mblogs\u001b[m\u001b[m\r\n",
      "feature_preprocessing_EDA_8162_0416.ipynb\r\n",
      "schler_springsymp06.pdf\r\n",
      "test.csv\r\n",
      "yoga_scrape_helpers.ipynb\r\n"
     ]
    }
   ],
   "source": [
    "!ls \n",
    "\n"
   ]
  },
  {
   "cell_type": "code",
   "execution_count": 46,
   "metadata": {},
   "outputs": [],
   "source": [
    "with open('blogger_com_data_19320_6_v2.pkl', 'rb') as pf:\n",
    "    data = pickle.load(pf)"
   ]
  },
  {
   "cell_type": "code",
   "execution_count": 47,
   "metadata": {},
   "outputs": [],
   "source": [
    "with open('blogger_com_data_330677_7.pkl', 'rb') as picklefile:\n",
    "    data_full = pickle.load(picklefile)"
   ]
  },
  {
   "cell_type": "code",
   "execution_count": 48,
   "metadata": {},
   "outputs": [],
   "source": [
    "#!pwd"
   ]
  },
  {
   "cell_type": "code",
   "execution_count": 49,
   "metadata": {},
   "outputs": [
    {
     "data": {
      "text/plain": [
       "(19320, 6)"
      ]
     },
     "execution_count": 49,
     "metadata": {},
     "output_type": "execute_result"
    }
   ],
   "source": [
    "data.shape"
   ]
  },
  {
   "cell_type": "code",
   "execution_count": 50,
   "metadata": {},
   "outputs": [
    {
     "name": "stdout",
     "output_type": "stream",
     "text": [
      "<class 'pandas.core.frame.DataFrame'>\n",
      "RangeIndex: 19320 entries, 0 to 19319\n",
      "Data columns (total 6 columns):\n",
      "blogger_id    19320 non-null object\n",
      "gender        19320 non-null object\n",
      "age           19320 non-null object\n",
      "occupation    19320 non-null object\n",
      "name          19320 non-null object\n",
      "post          19320 non-null object\n",
      "dtypes: object(6)\n",
      "memory usage: 905.8+ KB\n"
     ]
    }
   ],
   "source": [
    "data.info()"
   ]
  },
  {
   "cell_type": "code",
   "execution_count": 51,
   "metadata": {},
   "outputs": [
    {
     "data": {
      "text/html": [
       "<div>\n",
       "<style scoped>\n",
       "    .dataframe tbody tr th:only-of-type {\n",
       "        vertical-align: middle;\n",
       "    }\n",
       "\n",
       "    .dataframe tbody tr th {\n",
       "        vertical-align: top;\n",
       "    }\n",
       "\n",
       "    .dataframe thead th {\n",
       "        text-align: right;\n",
       "    }\n",
       "</style>\n",
       "<table border=\"1\" class=\"dataframe\">\n",
       "  <thead>\n",
       "    <tr style=\"text-align: right;\">\n",
       "      <th></th>\n",
       "      <th>blogger_id</th>\n",
       "      <th>gender</th>\n",
       "      <th>age</th>\n",
       "      <th>occupation</th>\n",
       "      <th>name</th>\n",
       "      <th>post</th>\n",
       "    </tr>\n",
       "  </thead>\n",
       "  <tbody>\n",
       "    <tr>\n",
       "      <td>0</td>\n",
       "      <td>1000331</td>\n",
       "      <td>female</td>\n",
       "      <td>37</td>\n",
       "      <td>indUnk</td>\n",
       "      <td>Leo</td>\n",
       "      <td>My four-year old never stops talking.  ...</td>\n",
       "    </tr>\n",
       "    <tr>\n",
       "      <td>1</td>\n",
       "      <td>1000866</td>\n",
       "      <td>female</td>\n",
       "      <td>17</td>\n",
       "      <td>Student</td>\n",
       "      <td>Libra</td>\n",
       "      <td>Yes, I did say goodbye to my friends an...</td>\n",
       "    </tr>\n",
       "    <tr>\n",
       "      <td>2</td>\n",
       "      <td>1004904</td>\n",
       "      <td>male</td>\n",
       "      <td>23</td>\n",
       "      <td>Arts</td>\n",
       "      <td>Capricorn</td>\n",
       "      <td>if she wants me too then I will go to h...</td>\n",
       "    </tr>\n",
       "    <tr>\n",
       "      <td>3</td>\n",
       "      <td>1005076</td>\n",
       "      <td>female</td>\n",
       "      <td>25</td>\n",
       "      <td>Arts</td>\n",
       "      <td>Cancer</td>\n",
       "      <td>The following things about last night \"...</td>\n",
       "    </tr>\n",
       "    <tr>\n",
       "      <td>4</td>\n",
       "      <td>1005545</td>\n",
       "      <td>male</td>\n",
       "      <td>25</td>\n",
       "      <td>Engineering</td>\n",
       "      <td>Sagittarius</td>\n",
       "      <td>Blogdex     Blogdex  is a research pro...</td>\n",
       "    </tr>\n",
       "  </tbody>\n",
       "</table>\n",
       "</div>"
      ],
      "text/plain": [
       "  blogger_id  gender age   occupation         name  \\\n",
       "0    1000331  female  37       indUnk          Leo   \n",
       "1    1000866  female  17      Student        Libra   \n",
       "2    1004904    male  23         Arts    Capricorn   \n",
       "3    1005076  female  25         Arts       Cancer   \n",
       "4    1005545    male  25  Engineering  Sagittarius   \n",
       "\n",
       "                                                post  \n",
       "0         My four-year old never stops talking.  ...  \n",
       "1         Yes, I did say goodbye to my friends an...  \n",
       "2         if she wants me too then I will go to h...  \n",
       "3         The following things about last night \"...  \n",
       "4          Blogdex     Blogdex  is a research pro...  "
      ]
     },
     "execution_count": 51,
     "metadata": {},
     "output_type": "execute_result"
    }
   ],
   "source": [
    "data.head()"
   ]
  },
  {
   "cell_type": "code",
   "execution_count": 52,
   "metadata": {},
   "outputs": [
    {
     "data": {
      "text/plain": [
       "gender\n",
       "female    9660\n",
       "male      9660\n",
       "Name: gender, dtype: int64"
      ]
     },
     "execution_count": 52,
     "metadata": {},
     "output_type": "execute_result"
    }
   ],
   "source": [
    "data.groupby(['gender']).gender.agg('count')#plt.bar(data['gender'],)"
   ]
  },
  {
   "cell_type": "code",
   "execution_count": 53,
   "metadata": {},
   "outputs": [
    {
     "data": {
      "image/png": "[encoded data removed]",
      "text/plain": [
       "<Figure size 432x288 with 1 Axes>"
      ]
     },
     "metadata": {
      "needs_background": "light"
     },
     "output_type": "display_data"
    }
   ],
   "source": [
    "data['age'].hist(bins=5);"
   ]
  },
  {
   "cell_type": "code",
   "execution_count": 54,
   "metadata": {},
   "outputs": [
    {
     "data": {
      "text/plain": [
       "Text(0, 0.5, 'Frequency')"
      ]
     },
     "execution_count": 54,
     "metadata": {},
     "output_type": "execute_result"
    },
    {
     "data": {
      "image/png": "[encoded data removed]",
      "text/plain": [
       "<Figure size 1008x576 with 1 Axes>"
      ]
     },
     "metadata": {
      "needs_background": "light"
     },
     "output_type": "display_data"
    }
   ],
   "source": [
    "ax = data['occupation'].value_counts().plot(kind='bar',\n",
    "                                    figsize=(14,8),\n",
    "                                    title=\"Occupations\")\n",
    "ax.set_xlabel(\"Occupation\")\n",
    "ax.set_ylabel(\"Frequency\")"
   ]
  },
  {
   "cell_type": "code",
   "execution_count": 55,
   "metadata": {},
   "outputs": [],
   "source": [
    "data['len_post'] = data['post'].apply(len)"
   ]
  },
  {
   "cell_type": "code",
   "execution_count": 56,
   "metadata": {},
   "outputs": [
    {
     "data": {
      "image/png": "[encoded data removed]",
      "text/plain": [
       "<Figure size 432x288 with 1 Axes>"
      ]
     },
     "metadata": {
      "needs_background": "light"
     },
     "output_type": "display_data"
    }
   ],
   "source": [
    "data['len_post'].hist(bins=5);"
   ]
  },
  {
   "cell_type": "code",
   "execution_count": 58,
   "metadata": {},
   "outputs": [
    {
     "data": {
      "image/png": "[encoded data removed]",
      "text/plain": [
       "<Figure size 432x288 with 1 Axes>"
      ]
     },
     "metadata": {
      "needs_background": "light"
     },
     "output_type": "display_data"
    }
   ],
   "source": [
    "data[data['len_post']<250000].hist(bins=5);"
   ]
  },
  {
   "cell_type": "code",
   "execution_count": 59,
   "metadata": {},
   "outputs": [
    {
     "data": {
      "image/png": "[encoded data removed]",
      "text/plain": [
       "<Figure size 432x288 with 1 Axes>"
      ]
     },
     "metadata": {
      "needs_background": "light"
     },
     "output_type": "display_data"
    }
   ],
   "source": [
    "data[data['len_post']<50000].hist(bins=5);"
   ]
  },
  {
   "cell_type": "code",
   "execution_count": 60,
   "metadata": {},
   "outputs": [
    {
     "data": {
      "image/png": "[encoded data removed]",
      "text/plain": [
       "<Figure size 432x288 with 1 Axes>"
      ]
     },
     "metadata": {
      "needs_background": "light"
     },
     "output_type": "display_data"
    }
   ],
   "source": [
    "data[data['len_post']<10000].hist(bins=5);"
   ]
  },
  {
   "cell_type": "code",
   "execution_count": 61,
   "metadata": {},
   "outputs": [
    {
     "data": {
      "image/png": "[encoded data removed]",
      "text/plain": [
       "<Figure size 432x288 with 1 Axes>"
      ]
     },
     "metadata": {
      "needs_background": "light"
     },
     "output_type": "display_data"
    }
   ],
   "source": [
    "data[data['len_post']<5000].hist(bins=5);"
   ]
  },
  {
   "cell_type": "code",
   "execution_count": 63,
   "metadata": {},
   "outputs": [
    {
     "data": {
      "text/html": [
       "<div>\n",
       "<style scoped>\n",
       "    .dataframe tbody tr th:only-of-type {\n",
       "        vertical-align: middle;\n",
       "    }\n",
       "\n",
       "    .dataframe tbody tr th {\n",
       "        vertical-align: top;\n",
       "    }\n",
       "\n",
       "    .dataframe thead th {\n",
       "        text-align: right;\n",
       "    }\n",
       "</style>\n",
       "<table border=\"1\" class=\"dataframe\">\n",
       "  <thead>\n",
       "    <tr style=\"text-align: right;\">\n",
       "      <th></th>\n",
       "      <th>blogger_id</th>\n",
       "      <th>gender</th>\n",
       "      <th>age</th>\n",
       "      <th>occupation</th>\n",
       "      <th>name</th>\n",
       "      <th>post</th>\n",
       "      <th>len_post</th>\n",
       "    </tr>\n",
       "  </thead>\n",
       "  <tbody>\n",
       "    <tr>\n",
       "      <td>0</td>\n",
       "      <td>1000331</td>\n",
       "      <td>female</td>\n",
       "      <td>37</td>\n",
       "      <td>indUnk</td>\n",
       "      <td>Leo</td>\n",
       "      <td>My four-year old never stops talking.  ...</td>\n",
       "      <td>4583</td>\n",
       "    </tr>\n",
       "    <tr>\n",
       "      <td>1</td>\n",
       "      <td>1000866</td>\n",
       "      <td>female</td>\n",
       "      <td>17</td>\n",
       "      <td>Student</td>\n",
       "      <td>Libra</td>\n",
       "      <td>Yes, I did say goodbye to my friends an...</td>\n",
       "      <td>335483</td>\n",
       "    </tr>\n",
       "    <tr>\n",
       "      <td>2</td>\n",
       "      <td>1004904</td>\n",
       "      <td>male</td>\n",
       "      <td>23</td>\n",
       "      <td>Arts</td>\n",
       "      <td>Capricorn</td>\n",
       "      <td>if she wants me too then I will go to h...</td>\n",
       "      <td>677</td>\n",
       "    </tr>\n",
       "    <tr>\n",
       "      <td>3</td>\n",
       "      <td>1005076</td>\n",
       "      <td>female</td>\n",
       "      <td>25</td>\n",
       "      <td>Arts</td>\n",
       "      <td>Cancer</td>\n",
       "      <td>The following things about last night \"...</td>\n",
       "      <td>15222</td>\n",
       "    </tr>\n",
       "    <tr>\n",
       "      <td>4</td>\n",
       "      <td>1005545</td>\n",
       "      <td>male</td>\n",
       "      <td>25</td>\n",
       "      <td>Engineering</td>\n",
       "      <td>Sagittarius</td>\n",
       "      <td>Blogdex     Blogdex  is a research pro...</td>\n",
       "      <td>52454</td>\n",
       "    </tr>\n",
       "    <tr>\n",
       "      <td>...</td>\n",
       "      <td>...</td>\n",
       "      <td>...</td>\n",
       "      <td>...</td>\n",
       "      <td>...</td>\n",
       "      <td>...</td>\n",
       "      <td>...</td>\n",
       "      <td>...</td>\n",
       "    </tr>\n",
       "    <tr>\n",
       "      <td>19315</td>\n",
       "      <td>996147</td>\n",
       "      <td>female</td>\n",
       "      <td>36</td>\n",
       "      <td>Telecommunications</td>\n",
       "      <td>Leo</td>\n",
       "      <td>Ho hum....  Vacationed in Haw...</td>\n",
       "      <td>57177</td>\n",
       "    </tr>\n",
       "    <tr>\n",
       "      <td>19316</td>\n",
       "      <td>997488</td>\n",
       "      <td>male</td>\n",
       "      <td>25</td>\n",
       "      <td>indUnk</td>\n",
       "      <td>Cancer</td>\n",
       "      <td>i've come back to blogs  fire truck...</td>\n",
       "      <td>863</td>\n",
       "    </tr>\n",
       "    <tr>\n",
       "      <td>19317</td>\n",
       "      <td>998237</td>\n",
       "      <td>female</td>\n",
       "      <td>16</td>\n",
       "      <td>indUnk</td>\n",
       "      <td>Virgo</td>\n",
       "      <td>well hey look who it is...  im actually...</td>\n",
       "      <td>155485</td>\n",
       "    </tr>\n",
       "    <tr>\n",
       "      <td>19318</td>\n",
       "      <td>998966</td>\n",
       "      <td>male</td>\n",
       "      <td>27</td>\n",
       "      <td>indUnk</td>\n",
       "      <td>Taurus</td>\n",
       "      <td>Finally, a green pepper is g...</td>\n",
       "      <td>1736</td>\n",
       "    </tr>\n",
       "    <tr>\n",
       "      <td>19319</td>\n",
       "      <td>999503</td>\n",
       "      <td>male</td>\n",
       "      <td>25</td>\n",
       "      <td>Internet</td>\n",
       "      <td>Cancer</td>\n",
       "      <td>I have done such a good job for s...</td>\n",
       "      <td>10873</td>\n",
       "    </tr>\n",
       "  </tbody>\n",
       "</table>\n",
       "<p>19320 rows × 7 columns</p>\n",
       "</div>"
      ],
      "text/plain": [
       "      blogger_id  gender age          occupation         name  \\\n",
       "0        1000331  female  37              indUnk          Leo   \n",
       "1        1000866  female  17             Student        Libra   \n",
       "2        1004904    male  23                Arts    Capricorn   \n",
       "3        1005076  female  25                Arts       Cancer   \n",
       "4        1005545    male  25         Engineering  Sagittarius   \n",
       "...          ...     ...  ..                 ...          ...   \n",
       "19315     996147  female  36  Telecommunications          Leo   \n",
       "19316     997488    male  25              indUnk       Cancer   \n",
       "19317     998237  female  16              indUnk        Virgo   \n",
       "19318     998966    male  27              indUnk       Taurus   \n",
       "19319     999503    male  25            Internet       Cancer   \n",
       "\n",
       "                                                    post  len_post  \n",
       "0             My four-year old never stops talking.  ...      4583  \n",
       "1             Yes, I did say goodbye to my friends an...    335483  \n",
       "2             if she wants me too then I will go to h...       677  \n",
       "3             The following things about last night \"...     15222  \n",
       "4              Blogdex     Blogdex  is a research pro...     52454  \n",
       "...                                                  ...       ...  \n",
       "19315                   Ho hum....  Vacationed in Haw...     57177  \n",
       "19316             i've come back to blogs  fire truck...       863  \n",
       "19317         well hey look who it is...  im actually...    155485  \n",
       "19318                    Finally, a green pepper is g...      1736  \n",
       "19319               I have done such a good job for s...     10873  \n",
       "\n",
       "[19320 rows x 7 columns]"
      ]
     },
     "execution_count": 63,
     "metadata": {},
     "output_type": "execute_result"
    }
   ],
   "source": [
    "data"
   ]
  },
  {
   "cell_type": "code",
   "execution_count": 88,
   "metadata": {},
   "outputs": [],
   "source": [
    "with open('blogger_com_data_19320_&_clean.pkl', 'wb') as pf:\n",
    "    pickle.dump(data, pf)"
   ]
  },
  {
   "cell_type": "markdown",
   "metadata": {},
   "source": [
    "# with time component"
   ]
  },
  {
   "cell_type": "code",
   "execution_count": 62,
   "metadata": {},
   "outputs": [
    {
     "data": {
      "text/html": [
       "<div>\n",
       "<style scoped>\n",
       "    .dataframe tbody tr th:only-of-type {\n",
       "        vertical-align: middle;\n",
       "    }\n",
       "\n",
       "    .dataframe tbody tr th {\n",
       "        vertical-align: top;\n",
       "    }\n",
       "\n",
       "    .dataframe thead th {\n",
       "        text-align: right;\n",
       "    }\n",
       "</style>\n",
       "<table border=\"1\" class=\"dataframe\">\n",
       "  <thead>\n",
       "    <tr style=\"text-align: right;\">\n",
       "      <th></th>\n",
       "      <th>date</th>\n",
       "      <th>blogger_id</th>\n",
       "      <th>gender</th>\n",
       "      <th>age</th>\n",
       "      <th>occupation</th>\n",
       "      <th>name</th>\n",
       "      <th>post</th>\n",
       "    </tr>\n",
       "  </thead>\n",
       "  <tbody>\n",
       "    <tr>\n",
       "      <td>0</td>\n",
       "      <td>19,August,2004</td>\n",
       "      <td>4162441</td>\n",
       "      <td>male</td>\n",
       "      <td>16</td>\n",
       "      <td>Student</td>\n",
       "      <td>Sagittarius</td>\n",
       "      <td>DESTINY...       you might not say a...</td>\n",
       "    </tr>\n",
       "    <tr>\n",
       "      <td>13</td>\n",
       "      <td>19,August,2004</td>\n",
       "      <td>4157968</td>\n",
       "      <td>male</td>\n",
       "      <td>16</td>\n",
       "      <td>Student</td>\n",
       "      <td>Pisces</td>\n",
       "      <td>As I strolled into the mall yesterday,...</td>\n",
       "    </tr>\n",
       "    <tr>\n",
       "      <td>17</td>\n",
       "      <td>19,August,2004</td>\n",
       "      <td>4278694</td>\n",
       "      <td>female</td>\n",
       "      <td>24</td>\n",
       "      <td>Technology</td>\n",
       "      <td>Virgo</td>\n",
       "      <td>I've never really had a blog bef...</td>\n",
       "    </tr>\n",
       "    <tr>\n",
       "      <td>69</td>\n",
       "      <td>19,August,2004</td>\n",
       "      <td>4261114</td>\n",
       "      <td>female</td>\n",
       "      <td>40</td>\n",
       "      <td>indUnk</td>\n",
       "      <td>Gemini</td>\n",
       "      <td>I love to read novels. I l...</td>\n",
       "    </tr>\n",
       "    <tr>\n",
       "      <td>79</td>\n",
       "      <td>19,August,2004</td>\n",
       "      <td>4215047</td>\n",
       "      <td>male</td>\n",
       "      <td>17</td>\n",
       "      <td>Student</td>\n",
       "      <td>Aquarius</td>\n",
       "      <td>today.. really a very sad day...</td>\n",
       "    </tr>\n",
       "    <tr>\n",
       "      <td>...</td>\n",
       "      <td>...</td>\n",
       "      <td>...</td>\n",
       "      <td>...</td>\n",
       "      <td>...</td>\n",
       "      <td>...</td>\n",
       "      <td>...</td>\n",
       "      <td>...</td>\n",
       "    </tr>\n",
       "    <tr>\n",
       "      <td>50463676</td>\n",
       "      <td>12,February,1999</td>\n",
       "      <td>2999514</td>\n",
       "      <td>male</td>\n",
       "      <td>27</td>\n",
       "      <td>Engineering</td>\n",
       "      <td>Pisces</td>\n",
       "      <td>[detail]           Propog...</td>\n",
       "    </tr>\n",
       "    <tr>\n",
       "      <td>50482996</td>\n",
       "      <td>01,April,1999</td>\n",
       "      <td>2999514</td>\n",
       "      <td>male</td>\n",
       "      <td>27</td>\n",
       "      <td>Engineering</td>\n",
       "      <td>Pisces</td>\n",
       "      <td>[detail]         I actually...</td>\n",
       "    </tr>\n",
       "    <tr>\n",
       "      <td>50502316</td>\n",
       "      <td>05,June,1999</td>\n",
       "      <td>2999514</td>\n",
       "      <td>male</td>\n",
       "      <td>27</td>\n",
       "      <td>Engineering</td>\n",
       "      <td>Pisces</td>\n",
       "      <td>[detail]           A tria...</td>\n",
       "    </tr>\n",
       "    <tr>\n",
       "      <td>50521636</td>\n",
       "      <td>16,December,1999</td>\n",
       "      <td>2999514</td>\n",
       "      <td>male</td>\n",
       "      <td>27</td>\n",
       "      <td>Engineering</td>\n",
       "      <td>Pisces</td>\n",
       "      <td>[detail]           Points...</td>\n",
       "    </tr>\n",
       "    <tr>\n",
       "      <td>50541018</td>\n",
       "      <td>23,August,2006</td>\n",
       "      <td>4246739</td>\n",
       "      <td>female</td>\n",
       "      <td>36</td>\n",
       "      <td>Arts</td>\n",
       "      <td>Scorpio</td>\n",
       "      <td>This is a picture of my mom ...</td>\n",
       "    </tr>\n",
       "  </tbody>\n",
       "</table>\n",
       "<p>330677 rows × 7 columns</p>\n",
       "</div>"
      ],
      "text/plain": [
       "                      date blogger_id  gender age   occupation         name  \\\n",
       "0           19,August,2004    4162441    male  16      Student  Sagittarius   \n",
       "13          19,August,2004    4157968    male  16      Student       Pisces   \n",
       "17          19,August,2004    4278694  female  24   Technology        Virgo   \n",
       "69          19,August,2004    4261114  female  40       indUnk       Gemini   \n",
       "79          19,August,2004    4215047    male  17      Student     Aquarius   \n",
       "...                    ...        ...     ...  ..          ...          ...   \n",
       "50463676  12,February,1999    2999514    male  27  Engineering       Pisces   \n",
       "50482996     01,April,1999    2999514    male  27  Engineering       Pisces   \n",
       "50502316      05,June,1999    2999514    male  27  Engineering       Pisces   \n",
       "50521636  16,December,1999    2999514    male  27  Engineering       Pisces   \n",
       "50541018    23,August,2006    4246739  female  36         Arts      Scorpio   \n",
       "\n",
       "                                                       post  \n",
       "0                   DESTINY...       you might not say a...  \n",
       "13                As I strolled into the mall yesterday,...  \n",
       "17                      I've never really had a blog bef...  \n",
       "69                            I love to read novels. I l...  \n",
       "79                         today.. really a very sad day...  \n",
       "...                                                     ...  \n",
       "50463676                       [detail]           Propog...  \n",
       "50482996                     [detail]         I actually...  \n",
       "50502316                       [detail]           A tria...  \n",
       "50521636                       [detail]           Points...  \n",
       "50541018                    This is a picture of my mom ...  \n",
       "\n",
       "[330677 rows x 7 columns]"
      ]
     },
     "execution_count": 62,
     "metadata": {},
     "output_type": "execute_result"
    }
   ],
   "source": [
    "data_full"
   ]
  },
  {
   "cell_type": "code",
   "execution_count": 25,
   "metadata": {},
   "outputs": [],
   "source": [
    "data_full = data_full[data_full['blogger_id'] != '113390']"
   ]
  },
  {
   "cell_type": "code",
   "execution_count": 26,
   "metadata": {},
   "outputs": [
    {
     "name": "stderr",
     "output_type": "stream",
     "text": [
      "/Users/elena/opt/anaconda3/lib/python3.7/site-packages/ipykernel_launcher.py:33: SettingWithCopyWarning: \n",
      "A value is trying to be set on a copy of a slice from a DataFrame.\n",
      "Try using .loc[row_indexer,col_indexer] = value instead\n",
      "\n",
      "See the caveats in the documentation: http://pandas.pydata.org/pandas-docs/stable/user_guide/indexing.html#returning-a-view-versus-a-copy\n"
     ]
    }
   ],
   "source": [
    "temp = data_full['date'].str.replace('mai', \n",
    "                                                  'May').str.replace('agosto',\n",
    "                                                'August').str.replace('Junho',\n",
    "                                                'June').str.replace('Juli',\n",
    "                                                'July').str.replace('juin',\n",
    "                                                'June').str.replace('juillet',\n",
    "                                                'July').str.replace('Agosto',\n",
    "                                                'August').str.replace('Julho',\n",
    "                                                'July').str.replace('Setembro',\n",
    "                                                'September').str.replace('Outubro',\n",
    "                                                'October').str.replace('Novembro',\n",
    "                                                'November').str.replace('Dezembro',\n",
    "                                                'December').str.replace('Janeiro',\n",
    "                                                'January').str.replace('Fevereiro',\n",
    "                                                'February').str.replace('Abril',\n",
    "                                                'April').str.replace('Maio',\n",
    "                                                'May').str.replace('mayo', \n",
    "                                                'May').str.replace('mei', \n",
    "                                                'May').str.replace('juli', \n",
    "                                                'July').str.replace('juni', \n",
    "                                                'July').str.replace('mars', \n",
    "                                                'March').str.replace('septembre', \n",
    "                                                'September').str.replace('octobre', \n",
    "                                                'October').str.replace('novembre', \n",
    "                                                'November').str.replace('Decembre', \n",
    "                                                'December').str.replace('janvier', \n",
    "                                                'January').str.replace('avril', \n",
    "                                                'April').str.replace('febrero', \n",
    "                                                'February').str.replace('marzo', \n",
    "                                                'March').str.replace('abril',\n",
    "                                                'April').str.replace('Julyo',\n",
    "                                                'July')\n",
    "data_full['date'] = temp"
   ]
  },
  {
   "cell_type": "code",
   "execution_count": 27,
   "metadata": {},
   "outputs": [
    {
     "name": "stderr",
     "output_type": "stream",
     "text": [
      "/Users/elena/opt/anaconda3/lib/python3.7/site-packages/ipykernel_launcher.py:41: SettingWithCopyWarning: \n",
      "A value is trying to be set on a copy of a slice from a DataFrame.\n",
      "Try using .loc[row_indexer,col_indexer] = value instead\n",
      "\n",
      "See the caveats in the documentation: http://pandas.pydata.org/pandas-docs/stable/user_guide/indexing.html#returning-a-view-versus-a-copy\n"
     ]
    }
   ],
   "source": [
    "temp = data_full['date'].str.replace('septiembre', \n",
    "                                                  'September').str.replace('June1June9June,JuneAJuneuJunegJuneuJunesJunetJune,June2June0June0June4June',\n",
    "                                                'June').str.replace('AugustJAugustuAugustnAugusteAugust',\n",
    "                                                'August').str.replace('JulyAJulyuJulygJulyuJulysJulytJuly',\n",
    "                                                'July').str.replace('NovemberJNovemberuNovemberlNovemberyNovember',\n",
    "                                                'November').str.replace('octubre',\n",
    "                                                'October').str.replace('noviembre',\n",
    "                                                'November').str.replace('diciembre',\n",
    "                                                'December').str.replace('enero',\n",
    "                                                'January').str.replace('Juni',\n",
    "                                                'June').str.replace('augustus',\n",
    "                                                'August').str.replace('desember',\n",
    "                                                'December').str.replace('augusti',\n",
    "                                                'August').str.replace('toukokuu',\n",
    "                                                'May').str.replace('maj',\n",
    "                                                'May').str.replace('Avgust',\n",
    "                                                'August').str.replace('Mai', \n",
    "                                                'May').str.replace('mei', \n",
    "                                                'May').str.replace('', \n",
    "                                                '').str.replace('Januaryyy', \n",
    "                                                'January').str.replace('maart', \n",
    "                                                'March').str.replace('septembrie', \n",
    "                                                'September').str.replace('noiembrie', \n",
    "                                                'November').str.replace('ianuarie', \n",
    "                                                'January').str.replace('februarie', \n",
    "                                                'February').str.replace('iulie', \n",
    "                                                'July').str.replace('Juuni', \n",
    "                                                'June').str.replace('Jaanuar', \n",
    "                                                'January').str.replace('Juuli', \n",
    "                                                'July').str.replace('ottobre',\n",
    "                                                'October').str.replace('luglio',\n",
    "                                                'July').str.replace('Aprill',\n",
    "                                                'April').str.replace('giugno',\n",
    "                                                'June').str.replace('lipanj',\n",
    "                                                'June').str.replace('kolovoz',\n",
    "                                                'August').str.replace('elokuu',\n",
    "                                                'August').str.replace('Dezember',\n",
    "                                                'December').str.replace('lipiec',\n",
    "                                                'July').str.replace('czerwiec',\n",
    "                                                'June')\n",
    "data_full['date'] = temp"
   ]
  },
  {
   "cell_type": "code",
   "execution_count": 28,
   "metadata": {},
   "outputs": [
    {
     "name": "stderr",
     "output_type": "stream",
     "text": [
      "/Users/elena/opt/anaconda3/lib/python3.7/site-packages/ipykernel_launcher.py:7: SettingWithCopyWarning: \n",
      "A value is trying to be set on a copy of a slice from a DataFrame.\n",
      "Try using .loc[row_indexer,col_indexer] = value instead\n",
      "\n",
      "See the caveats in the documentation: http://pandas.pydata.org/pandas-docs/stable/user_guide/indexing.html#returning-a-view-versus-a-copy\n",
      "  import sys\n",
      "/Users/elena/opt/anaconda3/lib/python3.7/site-packages/ipykernel_launcher.py:9: SettingWithCopyWarning: \n",
      "A value is trying to be set on a copy of a slice from a DataFrame.\n",
      "Try using .loc[row_indexer,col_indexer] = value instead\n",
      "\n",
      "See the caveats in the documentation: http://pandas.pydata.org/pandas-docs/stable/user_guide/indexing.html#returning-a-view-versus-a-copy\n",
      "  if __name__ == '__main__':\n"
     ]
    }
   ],
   "source": [
    "def exact_correction_Januar(string):\n",
    "    return re.sub(r'\\bJanuar\\b', 'January', string)\n",
    "def exact_correction_Februar(string):\n",
    "    return re.sub(r'\\bFebruar\\b', 'February', string)\n",
    "\n",
    "temp1 = data_full['date'].apply(exact_correction_Januar)\n",
    "data_full['date'] = temp1\n",
    "temp2 = data_full['date'].apply(exact_correction_Februar)\n",
    "data_full['date'] = temp2"
   ]
  },
  {
   "cell_type": "code",
   "execution_count": 78,
   "metadata": {},
   "outputs": [],
   "source": [
    "temp = pd.to_datetime(data_full['date'],  errors='coerce')\n",
    "data_full.loc[:,'date'] = temp"
   ]
  },
  {
   "cell_type": "code",
   "execution_count": 79,
   "metadata": {},
   "outputs": [
    {
     "name": "stdout",
     "output_type": "stream",
     "text": [
      "<class 'pandas.core.frame.DataFrame'>\n",
      "Int64Index: 330677 entries, 0 to 50541018\n",
      "Data columns (total 7 columns):\n",
      "date          328924 non-null datetime64[ns]\n",
      "blogger_id    330677 non-null object\n",
      "gender        330677 non-null object\n",
      "age           330677 non-null object\n",
      "occupation    330677 non-null object\n",
      "name          330677 non-null object\n",
      "post          330677 non-null object\n",
      "dtypes: datetime64[ns](1), object(6)\n",
      "memory usage: 20.2+ MB\n"
     ]
    }
   ],
   "source": [
    "data_full.info()"
   ]
  },
  {
   "cell_type": "code",
   "execution_count": 80,
   "metadata": {},
   "outputs": [
    {
     "data": {
      "text/html": [
       "<div>\n",
       "<style scoped>\n",
       "    .dataframe tbody tr th:only-of-type {\n",
       "        vertical-align: middle;\n",
       "    }\n",
       "\n",
       "    .dataframe tbody tr th {\n",
       "        vertical-align: top;\n",
       "    }\n",
       "\n",
       "    .dataframe thead th {\n",
       "        text-align: right;\n",
       "    }\n",
       "</style>\n",
       "<table border=\"1\" class=\"dataframe\">\n",
       "  <thead>\n",
       "    <tr style=\"text-align: right;\">\n",
       "      <th></th>\n",
       "      <th>date</th>\n",
       "      <th>blogger_id</th>\n",
       "      <th>gender</th>\n",
       "      <th>age</th>\n",
       "      <th>occupation</th>\n",
       "      <th>name</th>\n",
       "      <th>post</th>\n",
       "    </tr>\n",
       "  </thead>\n",
       "  <tbody>\n",
       "    <tr>\n",
       "      <td>0</td>\n",
       "      <td>2004-08-19</td>\n",
       "      <td>4162441</td>\n",
       "      <td>male</td>\n",
       "      <td>16</td>\n",
       "      <td>Student</td>\n",
       "      <td>Sagittarius</td>\n",
       "      <td>DESTINY...       you might not say a...</td>\n",
       "    </tr>\n",
       "    <tr>\n",
       "      <td>13</td>\n",
       "      <td>2004-08-19</td>\n",
       "      <td>4157968</td>\n",
       "      <td>male</td>\n",
       "      <td>16</td>\n",
       "      <td>Student</td>\n",
       "      <td>Pisces</td>\n",
       "      <td>As I strolled into the mall yesterday,...</td>\n",
       "    </tr>\n",
       "    <tr>\n",
       "      <td>17</td>\n",
       "      <td>2004-08-19</td>\n",
       "      <td>4278694</td>\n",
       "      <td>female</td>\n",
       "      <td>24</td>\n",
       "      <td>Technology</td>\n",
       "      <td>Virgo</td>\n",
       "      <td>I've never really had a blog bef...</td>\n",
       "    </tr>\n",
       "    <tr>\n",
       "      <td>69</td>\n",
       "      <td>2004-08-19</td>\n",
       "      <td>4261114</td>\n",
       "      <td>female</td>\n",
       "      <td>40</td>\n",
       "      <td>indUnk</td>\n",
       "      <td>Gemini</td>\n",
       "      <td>I love to read novels. I l...</td>\n",
       "    </tr>\n",
       "    <tr>\n",
       "      <td>79</td>\n",
       "      <td>2004-08-19</td>\n",
       "      <td>4215047</td>\n",
       "      <td>male</td>\n",
       "      <td>17</td>\n",
       "      <td>Student</td>\n",
       "      <td>Aquarius</td>\n",
       "      <td>today.. really a very sad day...</td>\n",
       "    </tr>\n",
       "  </tbody>\n",
       "</table>\n",
       "</div>"
      ],
      "text/plain": [
       "         date blogger_id  gender age  occupation         name  \\\n",
       "0  2004-08-19    4162441    male  16     Student  Sagittarius   \n",
       "13 2004-08-19    4157968    male  16     Student       Pisces   \n",
       "17 2004-08-19    4278694  female  24  Technology        Virgo   \n",
       "69 2004-08-19    4261114  female  40      indUnk       Gemini   \n",
       "79 2004-08-19    4215047    male  17     Student     Aquarius   \n",
       "\n",
       "                                                 post  \n",
       "0             DESTINY...       you might not say a...  \n",
       "13          As I strolled into the mall yesterday,...  \n",
       "17                I've never really had a blog bef...  \n",
       "69                      I love to read novels. I l...  \n",
       "79                   today.. really a very sad day...  "
      ]
     },
     "execution_count": 80,
     "metadata": {},
     "output_type": "execute_result"
    }
   ],
   "source": [
    "data_full.head()"
   ]
  },
  {
   "cell_type": "code",
   "execution_count": 81,
   "metadata": {},
   "outputs": [],
   "source": [
    "data_full['n_words_post'] = data_full['post'].astype(str).apply(len)"
   ]
  },
  {
   "cell_type": "code",
   "execution_count": 82,
   "metadata": {},
   "outputs": [],
   "source": [
    "sample = data_full[data_full['blogger_id'] == '4215047'].sort_values(by='date')"
   ]
  },
  {
   "cell_type": "code",
   "execution_count": 83,
   "metadata": {},
   "outputs": [
    {
     "data": {
      "image/png": "[encoded data removed]",
      "text/plain": [
       "<Figure size 432x288 with 1 Axes>"
      ]
     },
     "metadata": {
      "needs_background": "light"
     },
     "output_type": "display_data"
    }
   ],
   "source": [
    "plt.plot(sample['date'], sample['n_words_post']);"
   ]
  },
  {
   "cell_type": "code",
   "execution_count": 84,
   "metadata": {},
   "outputs": [
    {
     "data": {
      "text/html": [
       "<div>\n",
       "<style scoped>\n",
       "    .dataframe tbody tr th:only-of-type {\n",
       "        vertical-align: middle;\n",
       "    }\n",
       "\n",
       "    .dataframe tbody tr th {\n",
       "        vertical-align: top;\n",
       "    }\n",
       "\n",
       "    .dataframe thead th {\n",
       "        text-align: right;\n",
       "    }\n",
       "</style>\n",
       "<table border=\"1\" class=\"dataframe\">\n",
       "  <thead>\n",
       "    <tr style=\"text-align: right;\">\n",
       "      <th></th>\n",
       "      <th>post</th>\n",
       "    </tr>\n",
       "  </thead>\n",
       "  <tbody>\n",
       "    <tr>\n",
       "      <td>count</td>\n",
       "      <td>19320.000000</td>\n",
       "    </tr>\n",
       "    <tr>\n",
       "      <td>mean</td>\n",
       "      <td>17.115787</td>\n",
       "    </tr>\n",
       "    <tr>\n",
       "      <td>std</td>\n",
       "      <td>38.754473</td>\n",
       "    </tr>\n",
       "    <tr>\n",
       "      <td>min</td>\n",
       "      <td>1.000000</td>\n",
       "    </tr>\n",
       "    <tr>\n",
       "      <td>25%</td>\n",
       "      <td>3.000000</td>\n",
       "    </tr>\n",
       "    <tr>\n",
       "      <td>50%</td>\n",
       "      <td>6.000000</td>\n",
       "    </tr>\n",
       "    <tr>\n",
       "      <td>75%</td>\n",
       "      <td>15.000000</td>\n",
       "    </tr>\n",
       "    <tr>\n",
       "      <td>max</td>\n",
       "      <td>800.000000</td>\n",
       "    </tr>\n",
       "  </tbody>\n",
       "</table>\n",
       "</div>"
      ],
      "text/plain": [
       "               post\n",
       "count  19320.000000\n",
       "mean      17.115787\n",
       "std       38.754473\n",
       "min        1.000000\n",
       "25%        3.000000\n",
       "50%        6.000000\n",
       "75%       15.000000\n",
       "max      800.000000"
      ]
     },
     "execution_count": 84,
     "metadata": {},
     "output_type": "execute_result"
    }
   ],
   "source": [
    "data_full.groupby('blogger_id').post.agg('count').reset_index().describe()"
   ]
  },
  {
   "cell_type": "code",
   "execution_count": 85,
   "metadata": {},
   "outputs": [],
   "source": [
    "data_full_agg = data_full.groupby('blogger_id').post.agg('count').reset_index().sort_values(by='post', ascending = False)\n"
   ]
  },
  {
   "cell_type": "code",
   "execution_count": 76,
   "metadata": {},
   "outputs": [
    {
     "data": {
      "text/html": [
       "<div>\n",
       "<style scoped>\n",
       "    .dataframe tbody tr th:only-of-type {\n",
       "        vertical-align: middle;\n",
       "    }\n",
       "\n",
       "    .dataframe tbody tr th {\n",
       "        vertical-align: top;\n",
       "    }\n",
       "\n",
       "    .dataframe thead th {\n",
       "        text-align: right;\n",
       "    }\n",
       "</style>\n",
       "<table border=\"1\" class=\"dataframe\">\n",
       "  <thead>\n",
       "    <tr style=\"text-align: right;\">\n",
       "      <th></th>\n",
       "      <th>blogger_id</th>\n",
       "      <th>post</th>\n",
       "    </tr>\n",
       "  </thead>\n",
       "  <tbody>\n",
       "    <tr>\n",
       "      <td>318</td>\n",
       "      <td>1270648</td>\n",
       "      <td>800</td>\n",
       "    </tr>\n",
       "    <tr>\n",
       "      <td>18910</td>\n",
       "      <td>595404</td>\n",
       "      <td>731</td>\n",
       "    </tr>\n",
       "    <tr>\n",
       "      <td>19092</td>\n",
       "      <td>780903</td>\n",
       "      <td>709</td>\n",
       "    </tr>\n",
       "    <tr>\n",
       "      <td>969</td>\n",
       "      <td>1784456</td>\n",
       "      <td>690</td>\n",
       "    </tr>\n",
       "    <tr>\n",
       "      <td>18800</td>\n",
       "      <td>449628</td>\n",
       "      <td>671</td>\n",
       "    </tr>\n",
       "    <tr>\n",
       "      <td>...</td>\n",
       "      <td>...</td>\n",
       "      <td>...</td>\n",
       "    </tr>\n",
       "    <tr>\n",
       "      <td>12856</td>\n",
       "      <td>3912370</td>\n",
       "      <td>1</td>\n",
       "    </tr>\n",
       "    <tr>\n",
       "      <td>6380</td>\n",
       "      <td>3484466</td>\n",
       "      <td>1</td>\n",
       "    </tr>\n",
       "    <tr>\n",
       "      <td>16732</td>\n",
       "      <td>4171607</td>\n",
       "      <td>1</td>\n",
       "    </tr>\n",
       "    <tr>\n",
       "      <td>8089</td>\n",
       "      <td>3590584</td>\n",
       "      <td>1</td>\n",
       "    </tr>\n",
       "    <tr>\n",
       "      <td>9482</td>\n",
       "      <td>3688178</td>\n",
       "      <td>1</td>\n",
       "    </tr>\n",
       "  </tbody>\n",
       "</table>\n",
       "<p>19319 rows × 2 columns</p>\n",
       "</div>"
      ],
      "text/plain": [
       "      blogger_id  post\n",
       "318      1270648   800\n",
       "18910     595404   731\n",
       "19092     780903   709\n",
       "969      1784456   690\n",
       "18800     449628   671\n",
       "...          ...   ...\n",
       "12856    3912370     1\n",
       "6380     3484466     1\n",
       "16732    4171607     1\n",
       "8089     3590584     1\n",
       "9482     3688178     1\n",
       "\n",
       "[19319 rows x 2 columns]"
      ]
     },
     "execution_count": 76,
     "metadata": {},
     "output_type": "execute_result"
    }
   ],
   "source": [
    "data_full_agg"
   ]
  },
  {
   "cell_type": "code",
   "execution_count": 74,
   "metadata": {},
   "outputs": [],
   "source": [
    "writers_100_plus = data_full_agg[data_full_agg['post'] > 700]['blogger_id']"
   ]
  },
  {
   "cell_type": "code",
   "execution_count": 75,
   "metadata": {},
   "outputs": [
    {
     "data": {
      "text/plain": [
       "318      1270648\n",
       "18910     595404\n",
       "19092     780903\n",
       "Name: blogger_id, dtype: object"
      ]
     },
     "execution_count": 75,
     "metadata": {},
     "output_type": "execute_result"
    }
   ],
   "source": [
    "writers_100_plus"
   ]
  },
  {
   "cell_type": "code",
   "execution_count": 66,
   "metadata": {},
   "outputs": [
    {
     "data": {
      "text/html": [
       "<div>\n",
       "<style scoped>\n",
       "    .dataframe tbody tr th:only-of-type {\n",
       "        vertical-align: middle;\n",
       "    }\n",
       "\n",
       "    .dataframe tbody tr th {\n",
       "        vertical-align: top;\n",
       "    }\n",
       "\n",
       "    .dataframe thead th {\n",
       "        text-align: right;\n",
       "    }\n",
       "</style>\n",
       "<table border=\"1\" class=\"dataframe\">\n",
       "  <thead>\n",
       "    <tr style=\"text-align: right;\">\n",
       "      <th></th>\n",
       "      <th>date</th>\n",
       "      <th>blogger_id</th>\n",
       "      <th>gender</th>\n",
       "      <th>age</th>\n",
       "      <th>occupation</th>\n",
       "      <th>name</th>\n",
       "      <th>post</th>\n",
       "    </tr>\n",
       "  </thead>\n",
       "  <tbody>\n",
       "    <tr>\n",
       "      <td>0</td>\n",
       "      <td>19,August,2004</td>\n",
       "      <td>4162441</td>\n",
       "      <td>male</td>\n",
       "      <td>16</td>\n",
       "      <td>Student</td>\n",
       "      <td>Sagittarius</td>\n",
       "      <td>DESTINY...       you might not say a...</td>\n",
       "    </tr>\n",
       "    <tr>\n",
       "      <td>13</td>\n",
       "      <td>19,August,2004</td>\n",
       "      <td>4157968</td>\n",
       "      <td>male</td>\n",
       "      <td>16</td>\n",
       "      <td>Student</td>\n",
       "      <td>Pisces</td>\n",
       "      <td>As I strolled into the mall yesterday,...</td>\n",
       "    </tr>\n",
       "    <tr>\n",
       "      <td>17</td>\n",
       "      <td>19,August,2004</td>\n",
       "      <td>4278694</td>\n",
       "      <td>female</td>\n",
       "      <td>24</td>\n",
       "      <td>Technology</td>\n",
       "      <td>Virgo</td>\n",
       "      <td>I've never really had a blog bef...</td>\n",
       "    </tr>\n",
       "    <tr>\n",
       "      <td>69</td>\n",
       "      <td>19,August,2004</td>\n",
       "      <td>4261114</td>\n",
       "      <td>female</td>\n",
       "      <td>40</td>\n",
       "      <td>indUnk</td>\n",
       "      <td>Gemini</td>\n",
       "      <td>I love to read novels. I l...</td>\n",
       "    </tr>\n",
       "    <tr>\n",
       "      <td>79</td>\n",
       "      <td>19,August,2004</td>\n",
       "      <td>4215047</td>\n",
       "      <td>male</td>\n",
       "      <td>17</td>\n",
       "      <td>Student</td>\n",
       "      <td>Aquarius</td>\n",
       "      <td>today.. really a very sad day...</td>\n",
       "    </tr>\n",
       "    <tr>\n",
       "      <td>...</td>\n",
       "      <td>...</td>\n",
       "      <td>...</td>\n",
       "      <td>...</td>\n",
       "      <td>...</td>\n",
       "      <td>...</td>\n",
       "      <td>...</td>\n",
       "      <td>...</td>\n",
       "    </tr>\n",
       "    <tr>\n",
       "      <td>50463676</td>\n",
       "      <td>12,February,1999</td>\n",
       "      <td>2999514</td>\n",
       "      <td>male</td>\n",
       "      <td>27</td>\n",
       "      <td>Engineering</td>\n",
       "      <td>Pisces</td>\n",
       "      <td>[detail]           Propog...</td>\n",
       "    </tr>\n",
       "    <tr>\n",
       "      <td>50482996</td>\n",
       "      <td>01,April,1999</td>\n",
       "      <td>2999514</td>\n",
       "      <td>male</td>\n",
       "      <td>27</td>\n",
       "      <td>Engineering</td>\n",
       "      <td>Pisces</td>\n",
       "      <td>[detail]         I actually...</td>\n",
       "    </tr>\n",
       "    <tr>\n",
       "      <td>50502316</td>\n",
       "      <td>05,June,1999</td>\n",
       "      <td>2999514</td>\n",
       "      <td>male</td>\n",
       "      <td>27</td>\n",
       "      <td>Engineering</td>\n",
       "      <td>Pisces</td>\n",
       "      <td>[detail]           A tria...</td>\n",
       "    </tr>\n",
       "    <tr>\n",
       "      <td>50521636</td>\n",
       "      <td>16,December,1999</td>\n",
       "      <td>2999514</td>\n",
       "      <td>male</td>\n",
       "      <td>27</td>\n",
       "      <td>Engineering</td>\n",
       "      <td>Pisces</td>\n",
       "      <td>[detail]           Points...</td>\n",
       "    </tr>\n",
       "    <tr>\n",
       "      <td>50541018</td>\n",
       "      <td>23,August,2006</td>\n",
       "      <td>4246739</td>\n",
       "      <td>female</td>\n",
       "      <td>36</td>\n",
       "      <td>Arts</td>\n",
       "      <td>Scorpio</td>\n",
       "      <td>This is a picture of my mom ...</td>\n",
       "    </tr>\n",
       "  </tbody>\n",
       "</table>\n",
       "<p>330677 rows × 7 columns</p>\n",
       "</div>"
      ],
      "text/plain": [
       "                      date blogger_id  gender age   occupation         name  \\\n",
       "0           19,August,2004    4162441    male  16      Student  Sagittarius   \n",
       "13          19,August,2004    4157968    male  16      Student       Pisces   \n",
       "17          19,August,2004    4278694  female  24   Technology        Virgo   \n",
       "69          19,August,2004    4261114  female  40       indUnk       Gemini   \n",
       "79          19,August,2004    4215047    male  17      Student     Aquarius   \n",
       "...                    ...        ...     ...  ..          ...          ...   \n",
       "50463676  12,February,1999    2999514    male  27  Engineering       Pisces   \n",
       "50482996     01,April,1999    2999514    male  27  Engineering       Pisces   \n",
       "50502316      05,June,1999    2999514    male  27  Engineering       Pisces   \n",
       "50521636  16,December,1999    2999514    male  27  Engineering       Pisces   \n",
       "50541018    23,August,2006    4246739  female  36         Arts      Scorpio   \n",
       "\n",
       "                                                       post  \n",
       "0                   DESTINY...       you might not say a...  \n",
       "13                As I strolled into the mall yesterday,...  \n",
       "17                      I've never really had a blog bef...  \n",
       "69                            I love to read novels. I l...  \n",
       "79                         today.. really a very sad day...  \n",
       "...                                                     ...  \n",
       "50463676                       [detail]           Propog...  \n",
       "50482996                     [detail]         I actually...  \n",
       "50502316                       [detail]           A tria...  \n",
       "50521636                       [detail]           Points...  \n",
       "50541018                    This is a picture of my mom ...  \n",
       "\n",
       "[330677 rows x 7 columns]"
      ]
     },
     "execution_count": 66,
     "metadata": {},
     "output_type": "execute_result"
    }
   ],
   "source": [
    "data_full"
   ]
  },
  {
   "cell_type": "code",
   "execution_count": null,
   "metadata": {},
   "outputs": [],
   "source": [
    "with open('blogger_com_data_19320_&_clean.pkl', 'wb') as pf:\n",
    "    pickle.dump(data, pf)"
   ]
  },
  {
   "cell_type": "code",
   "execution_count": 87,
   "metadata": {},
   "outputs": [
    {
     "data": {
      "text/html": [
       "<div>\n",
       "<style scoped>\n",
       "    .dataframe tbody tr th:only-of-type {\n",
       "        vertical-align: middle;\n",
       "    }\n",
       "\n",
       "    .dataframe tbody tr th {\n",
       "        vertical-align: top;\n",
       "    }\n",
       "\n",
       "    .dataframe thead th {\n",
       "        text-align: right;\n",
       "    }\n",
       "</style>\n",
       "<table border=\"1\" class=\"dataframe\">\n",
       "  <thead>\n",
       "    <tr style=\"text-align: right;\">\n",
       "      <th></th>\n",
       "      <th>date</th>\n",
       "      <th>blogger_id</th>\n",
       "      <th>gender</th>\n",
       "      <th>age</th>\n",
       "      <th>occupation</th>\n",
       "      <th>name</th>\n",
       "      <th>post</th>\n",
       "      <th>n_words_post</th>\n",
       "    </tr>\n",
       "  </thead>\n",
       "  <tbody>\n",
       "    <tr>\n",
       "      <td>0</td>\n",
       "      <td>2004-08-19</td>\n",
       "      <td>4162441</td>\n",
       "      <td>male</td>\n",
       "      <td>16</td>\n",
       "      <td>Student</td>\n",
       "      <td>Sagittarius</td>\n",
       "      <td>DESTINY...       you might not say a...</td>\n",
       "      <td>849</td>\n",
       "    </tr>\n",
       "    <tr>\n",
       "      <td>13</td>\n",
       "      <td>2004-08-19</td>\n",
       "      <td>4157968</td>\n",
       "      <td>male</td>\n",
       "      <td>16</td>\n",
       "      <td>Student</td>\n",
       "      <td>Pisces</td>\n",
       "      <td>As I strolled into the mall yesterday,...</td>\n",
       "      <td>2134</td>\n",
       "    </tr>\n",
       "    <tr>\n",
       "      <td>17</td>\n",
       "      <td>2004-08-19</td>\n",
       "      <td>4278694</td>\n",
       "      <td>female</td>\n",
       "      <td>24</td>\n",
       "      <td>Technology</td>\n",
       "      <td>Virgo</td>\n",
       "      <td>I've never really had a blog bef...</td>\n",
       "      <td>896</td>\n",
       "    </tr>\n",
       "    <tr>\n",
       "      <td>69</td>\n",
       "      <td>2004-08-19</td>\n",
       "      <td>4261114</td>\n",
       "      <td>female</td>\n",
       "      <td>40</td>\n",
       "      <td>indUnk</td>\n",
       "      <td>Gemini</td>\n",
       "      <td>I love to read novels. I l...</td>\n",
       "      <td>1999</td>\n",
       "    </tr>\n",
       "    <tr>\n",
       "      <td>79</td>\n",
       "      <td>2004-08-19</td>\n",
       "      <td>4215047</td>\n",
       "      <td>male</td>\n",
       "      <td>17</td>\n",
       "      <td>Student</td>\n",
       "      <td>Aquarius</td>\n",
       "      <td>today.. really a very sad day...</td>\n",
       "      <td>4207</td>\n",
       "    </tr>\n",
       "    <tr>\n",
       "      <td>...</td>\n",
       "      <td>...</td>\n",
       "      <td>...</td>\n",
       "      <td>...</td>\n",
       "      <td>...</td>\n",
       "      <td>...</td>\n",
       "      <td>...</td>\n",
       "      <td>...</td>\n",
       "      <td>...</td>\n",
       "    </tr>\n",
       "    <tr>\n",
       "      <td>50463676</td>\n",
       "      <td>1999-02-12</td>\n",
       "      <td>2999514</td>\n",
       "      <td>male</td>\n",
       "      <td>27</td>\n",
       "      <td>Engineering</td>\n",
       "      <td>Pisces</td>\n",
       "      <td>[detail]           Propog...</td>\n",
       "      <td>263</td>\n",
       "    </tr>\n",
       "    <tr>\n",
       "      <td>50482996</td>\n",
       "      <td>1999-04-01</td>\n",
       "      <td>2999514</td>\n",
       "      <td>male</td>\n",
       "      <td>27</td>\n",
       "      <td>Engineering</td>\n",
       "      <td>Pisces</td>\n",
       "      <td>[detail]         I actually...</td>\n",
       "      <td>237</td>\n",
       "    </tr>\n",
       "    <tr>\n",
       "      <td>50502316</td>\n",
       "      <td>1999-06-05</td>\n",
       "      <td>2999514</td>\n",
       "      <td>male</td>\n",
       "      <td>27</td>\n",
       "      <td>Engineering</td>\n",
       "      <td>Pisces</td>\n",
       "      <td>[detail]           A tria...</td>\n",
       "      <td>244</td>\n",
       "    </tr>\n",
       "    <tr>\n",
       "      <td>50521636</td>\n",
       "      <td>1999-12-16</td>\n",
       "      <td>2999514</td>\n",
       "      <td>male</td>\n",
       "      <td>27</td>\n",
       "      <td>Engineering</td>\n",
       "      <td>Pisces</td>\n",
       "      <td>[detail]           Points...</td>\n",
       "      <td>425</td>\n",
       "    </tr>\n",
       "    <tr>\n",
       "      <td>50541018</td>\n",
       "      <td>2006-08-23</td>\n",
       "      <td>4246739</td>\n",
       "      <td>female</td>\n",
       "      <td>36</td>\n",
       "      <td>Arts</td>\n",
       "      <td>Scorpio</td>\n",
       "      <td>This is a picture of my mom ...</td>\n",
       "      <td>235</td>\n",
       "    </tr>\n",
       "  </tbody>\n",
       "</table>\n",
       "<p>330677 rows × 8 columns</p>\n",
       "</div>"
      ],
      "text/plain": [
       "               date blogger_id  gender age   occupation         name  \\\n",
       "0        2004-08-19    4162441    male  16      Student  Sagittarius   \n",
       "13       2004-08-19    4157968    male  16      Student       Pisces   \n",
       "17       2004-08-19    4278694  female  24   Technology        Virgo   \n",
       "69       2004-08-19    4261114  female  40       indUnk       Gemini   \n",
       "79       2004-08-19    4215047    male  17      Student     Aquarius   \n",
       "...             ...        ...     ...  ..          ...          ...   \n",
       "50463676 1999-02-12    2999514    male  27  Engineering       Pisces   \n",
       "50482996 1999-04-01    2999514    male  27  Engineering       Pisces   \n",
       "50502316 1999-06-05    2999514    male  27  Engineering       Pisces   \n",
       "50521636 1999-12-16    2999514    male  27  Engineering       Pisces   \n",
       "50541018 2006-08-23    4246739  female  36         Arts      Scorpio   \n",
       "\n",
       "                                                       post  n_words_post  \n",
       "0                   DESTINY...       you might not say a...           849  \n",
       "13                As I strolled into the mall yesterday,...          2134  \n",
       "17                      I've never really had a blog bef...           896  \n",
       "69                            I love to read novels. I l...          1999  \n",
       "79                         today.. really a very sad day...          4207  \n",
       "...                                                     ...           ...  \n",
       "50463676                       [detail]           Propog...           263  \n",
       "50482996                     [detail]         I actually...           237  \n",
       "50502316                       [detail]           A tria...           244  \n",
       "50521636                       [detail]           Points...           425  \n",
       "50541018                    This is a picture of my mom ...           235  \n",
       "\n",
       "[330677 rows x 8 columns]"
      ]
     },
     "execution_count": 87,
     "metadata": {},
     "output_type": "execute_result"
    }
   ],
   "source": [
    "data_full"
   ]
  },
  {
   "cell_type": "code",
   "execution_count": null,
   "metadata": {},
   "outputs": [],
   "source": []
  },
  {
   "cell_type": "code",
   "execution_count": 70,
   "metadata": {},
   "outputs": [],
   "source": [
    "with open('blogger_com_data_330677_7_clean.pkl', 'wb') as pf:\n",
    "    pickle.dump(data_full, pf)"
   ]
  },
  {
   "cell_type": "code",
   "execution_count": null,
   "metadata": {},
   "outputs": [],
   "source": []
  },
  {
   "cell_type": "code",
   "execution_count": null,
   "metadata": {},
   "outputs": [],
   "source": []
  },
  {
   "cell_type": "code",
   "execution_count": null,
   "metadata": {},
   "outputs": [],
   "source": []
  },
  {
   "cell_type": "code",
   "execution_count": null,
   "metadata": {},
   "outputs": [],
   "source": []
  },
  {
   "cell_type": "code",
   "execution_count": null,
   "metadata": {},
   "outputs": [],
   "source": [
    "#Watson "
   ]
  },
  {
   "cell_type": "code",
   "execution_count": 103,
   "metadata": {},
   "outputs": [
    {
     "data": {
      "text/html": [
       "<div>\n",
       "<style scoped>\n",
       "    .dataframe tbody tr th:only-of-type {\n",
       "        vertical-align: middle;\n",
       "    }\n",
       "\n",
       "    .dataframe tbody tr th {\n",
       "        vertical-align: top;\n",
       "    }\n",
       "\n",
       "    .dataframe thead th {\n",
       "        text-align: right;\n",
       "    }\n",
       "</style>\n",
       "<table border=\"1\" class=\"dataframe\">\n",
       "  <thead>\n",
       "    <tr style=\"text-align: right;\">\n",
       "      <th></th>\n",
       "      <th>date</th>\n",
       "      <th>blogger_id</th>\n",
       "      <th>gender</th>\n",
       "      <th>age</th>\n",
       "      <th>occupation</th>\n",
       "      <th>name</th>\n",
       "      <th>post</th>\n",
       "      <th>n_words_post</th>\n",
       "    </tr>\n",
       "  </thead>\n",
       "  <tbody>\n",
       "    <tr>\n",
       "      <td>0</td>\n",
       "      <td>2004-08-19</td>\n",
       "      <td>4162441</td>\n",
       "      <td>male</td>\n",
       "      <td>16</td>\n",
       "      <td>Student</td>\n",
       "      <td>Sagittarius</td>\n",
       "      <td>DESTINY...       you might not say a...</td>\n",
       "      <td>849</td>\n",
       "    </tr>\n",
       "    <tr>\n",
       "      <td>13</td>\n",
       "      <td>2004-08-19</td>\n",
       "      <td>4157968</td>\n",
       "      <td>male</td>\n",
       "      <td>16</td>\n",
       "      <td>Student</td>\n",
       "      <td>Pisces</td>\n",
       "      <td>As I strolled into the mall yesterday,...</td>\n",
       "      <td>2134</td>\n",
       "    </tr>\n",
       "    <tr>\n",
       "      <td>17</td>\n",
       "      <td>2004-08-19</td>\n",
       "      <td>4278694</td>\n",
       "      <td>female</td>\n",
       "      <td>24</td>\n",
       "      <td>Technology</td>\n",
       "      <td>Virgo</td>\n",
       "      <td>I've never really had a blog bef...</td>\n",
       "      <td>896</td>\n",
       "    </tr>\n",
       "    <tr>\n",
       "      <td>69</td>\n",
       "      <td>2004-08-19</td>\n",
       "      <td>4261114</td>\n",
       "      <td>female</td>\n",
       "      <td>40</td>\n",
       "      <td>indUnk</td>\n",
       "      <td>Gemini</td>\n",
       "      <td>I love to read novels. I l...</td>\n",
       "      <td>1999</td>\n",
       "    </tr>\n",
       "    <tr>\n",
       "      <td>79</td>\n",
       "      <td>2004-08-19</td>\n",
       "      <td>4215047</td>\n",
       "      <td>male</td>\n",
       "      <td>17</td>\n",
       "      <td>Student</td>\n",
       "      <td>Aquarius</td>\n",
       "      <td>today.. really a very sad day...</td>\n",
       "      <td>4207</td>\n",
       "    </tr>\n",
       "    <tr>\n",
       "      <td>81</td>\n",
       "      <td>2004-08-19</td>\n",
       "      <td>4154732</td>\n",
       "      <td>male</td>\n",
       "      <td>24</td>\n",
       "      <td>Internet</td>\n",
       "      <td>Capricorn</td>\n",
       "      <td>Just got out of bed. Having trouble...</td>\n",
       "      <td>1007</td>\n",
       "    </tr>\n",
       "    <tr>\n",
       "      <td>92</td>\n",
       "      <td>2004-08-19</td>\n",
       "      <td>4285708</td>\n",
       "      <td>male</td>\n",
       "      <td>17</td>\n",
       "      <td>Student</td>\n",
       "      <td>Leo</td>\n",
       "      <td>Welcome to happy land.  Here I will be ...</td>\n",
       "      <td>339</td>\n",
       "    </tr>\n",
       "    <tr>\n",
       "      <td>111</td>\n",
       "      <td>2004-08-19</td>\n",
       "      <td>4177618</td>\n",
       "      <td>female</td>\n",
       "      <td>15</td>\n",
       "      <td>indUnk</td>\n",
       "      <td>Gemini</td>\n",
       "      <td>Session Start (Wed Aug 18 22:52:31 2004...</td>\n",
       "      <td>2340</td>\n",
       "    </tr>\n",
       "    <tr>\n",
       "      <td>114</td>\n",
       "      <td>2004-08-19</td>\n",
       "      <td>4031537</td>\n",
       "      <td>male</td>\n",
       "      <td>15</td>\n",
       "      <td>Student</td>\n",
       "      <td>Leo</td>\n",
       "      <td>It's been quite a while since I've...</td>\n",
       "      <td>2413</td>\n",
       "    </tr>\n",
       "    <tr>\n",
       "      <td>140</td>\n",
       "      <td>2004-08-19</td>\n",
       "      <td>4304522</td>\n",
       "      <td>male</td>\n",
       "      <td>17</td>\n",
       "      <td>Student</td>\n",
       "      <td>Leo</td>\n",
       "      <td>Kari's parents are actually going...</td>\n",
       "      <td>358</td>\n",
       "    </tr>\n",
       "  </tbody>\n",
       "</table>\n",
       "</div>"
      ],
      "text/plain": [
       "          date blogger_id  gender age  occupation         name  \\\n",
       "0   2004-08-19    4162441    male  16     Student  Sagittarius   \n",
       "13  2004-08-19    4157968    male  16     Student       Pisces   \n",
       "17  2004-08-19    4278694  female  24  Technology        Virgo   \n",
       "69  2004-08-19    4261114  female  40      indUnk       Gemini   \n",
       "79  2004-08-19    4215047    male  17     Student     Aquarius   \n",
       "81  2004-08-19    4154732    male  24    Internet    Capricorn   \n",
       "92  2004-08-19    4285708    male  17     Student          Leo   \n",
       "111 2004-08-19    4177618  female  15      indUnk       Gemini   \n",
       "114 2004-08-19    4031537    male  15     Student          Leo   \n",
       "140 2004-08-19    4304522    male  17     Student          Leo   \n",
       "\n",
       "                                                  post  n_words_post  \n",
       "0              DESTINY...       you might not say a...           849  \n",
       "13           As I strolled into the mall yesterday,...          2134  \n",
       "17                 I've never really had a blog bef...           896  \n",
       "69                       I love to read novels. I l...          1999  \n",
       "79                    today.. really a very sad day...          4207  \n",
       "81              Just got out of bed. Having trouble...          1007  \n",
       "92          Welcome to happy land.  Here I will be ...           339  \n",
       "111         Session Start (Wed Aug 18 22:52:31 2004...          2340  \n",
       "114              It's been quite a while since I've...          2413  \n",
       "140               Kari's parents are actually going...           358  "
      ]
     },
     "execution_count": 103,
     "metadata": {},
     "output_type": "execute_result"
    }
   ],
   "source": [
    "small_data = data_full.iloc[:10,:]\n",
    "small_data"
   ]
  },
  {
   "cell_type": "code",
   "execution_count": 140,
   "metadata": {},
   "outputs": [],
   "source": [
    "#!pip install --upgrade \"ibm-watson>=4.4.0\""
   ]
  },
  {
   "cell_type": "code",
   "execution_count": null,
   "metadata": {},
   "outputs": [],
   "source": [
    "login=''\n",
    "password=''"
   ]
  },
  {
   "cell_type": "code",
   "execution_count": 100,
   "metadata": {},
   "outputs": [],
   "source": [
    "from ibm_watson import PersonalityInsightsV3\n",
    "from ibm_cloud_sdk_core.authenticators import IAMAuthenticator\n",
    "import time"
   ]
  },
  {
   "cell_type": "code",
   "execution_count": 101,
   "metadata": {},
   "outputs": [],
   "source": [
    "authenticator = IAMAuthenticator(key)\n",
    "PI = PersonalityInsightsV3(\n",
    "    version='2017-10-13',\n",
    "    authenticator=authenticator\n",
    ")\n",
    "\n",
    "personality_insights.set_service_url('https://api.us-east.personality-insights.watson.cloud.ibm.com')"
   ]
  },
  {
   "cell_type": "code",
   "execution_count": 118,
   "metadata": {},
   "outputs": [],
   "source": [
    "from ibm_watson import ApiException\n",
    "try:\n",
    "    authenticator = IAMAuthenticator(key)\n",
    "    PI = PersonalityInsightsV3(\n",
    "        version='2017-10-13',\n",
    "        authenticator=authenticator)\n",
    "except:\n",
    "    print(\"Method failed with status code \" + str(ex.code) + \": \" + ex.message)"
   ]
  },
  {
   "cell_type": "code",
   "execution_count": 122,
   "metadata": {},
   "outputs": [],
   "source": [
    "\n",
    "from ibm_watson import DiscoveryV1\n",
    "from ibm_cloud_sdk_core.authenticators import IAMAuthenticator"
   ]
  },
  {
   "cell_type": "code",
   "execution_count": 123,
   "metadata": {},
   "outputs": [],
   "source": [
    "\n",
    "# In the constructor, letting the SDK manage the token\n",
    "authenticator = IAMAuthenticator(key,\n",
    "                                 url='https://api.us-east.personality-insights.watson.cloud.ibm.com') # optional - the default value is https://iam.cloud.ibm.com/identity/token\n",
    "discovery = DiscoveryV1(version='2017-10-13',\n",
    "                        authenticator=authenticator)\n",
    "discovery.set_service_url('https://api.us-east.personality-insights.watson.cloud.ibm.com')"
   ]
  },
  {
   "cell_type": "code",
   "execution_count": 124,
   "metadata": {},
   "outputs": [],
   "source": [
    "from ibm_watson import IAMTokenManager\n",
    "\n",
    "# In your API endpoint use this to generate new bearer tokens\n",
    "iam_token_manager = IAMTokenManager(apikey=key)\n",
    "token = iam_token_manager.get_token()"
   ]
  },
  {
   "cell_type": "code",
   "execution_count": 126,
   "metadata": {},
   "outputs": [],
   "source": [
    "from ibm_watson import DiscoveryV1\n",
    "from ibm_cloud_sdk_core.authenticators import BearerTokenAuthenticator\n",
    "\n",
    "# in the constructor, assuming control of managing the token\n",
    "authenticator = BearerTokenAuthenticator(token)\n",
    "discovery = DiscoveryV1(version='2017-10-13',\n",
    "                        authenticator=authenticator)\n",
    "discovery.set_service_url('https://api.us-east.personality-insights.watson.cloud.ibm.com')"
   ]
  },
  {
   "cell_type": "code",
   "execution_count": 127,
   "metadata": {},
   "outputs": [],
   "source": [
    "from ibm_watson import DiscoveryV1\n",
    "from ibm_cloud_sdk_core.authenticators import BasicAuthenticator\n",
    "\n",
    "authenticator = BasicAuthenticator(login, password)\n",
    "discovery = DiscoveryV1(version='2017-10-13', authenticator=authenticator)\n",
    "discovery.set_service_url('https://api.us-east.personality-insights.watson.cloud.ibm.com')"
   ]
  },
  {
   "cell_type": "code",
   "execution_count": 137,
   "metadata": {},
   "outputs": [],
   "source": [
    "from ibm_watson import PersonalityInsightsV3\n",
    "from ibm_cloud_sdk_core.authenticators import IAMAuthenticator\n",
    "\n",
    "authenticator = IAMAuthenticator(key)\n",
    "personality_insights = PersonalityInsightsV3(\n",
    "    version='2017-10-13',\n",
    "    authenticator=authenticator\n",
    ")\n",
    "\n",
    "personality_insights.set_service_url('https://api.us-east.personality-insights.watson.cloud.ibm.com')\n",
    "\n",
    "personality_insights.set_disable_ssl_verification(False)"
   ]
  },
  {
   "cell_type": "code",
   "execution_count": 138,
   "metadata": {},
   "outputs": [
    {
     "data": {
      "text/plain": [
       "<ibm_cloud_sdk_core.authenticators.iam_authenticator.IAMAuthenticator at 0x7fb0a51e1f50>"
      ]
     },
     "execution_count": 138,
     "metadata": {},
     "output_type": "execute_result"
    }
   ],
   "source": [
    "authenticator"
   ]
  },
  {
   "cell_type": "code",
   "execution_count": 133,
   "metadata": {},
   "outputs": [
    {
     "name": "stderr",
     "output_type": "stream",
     "text": [
      "ERROR:root:Forbidden\n",
      "Traceback (most recent call last):\n",
      "  File \"/Users/elena/opt/anaconda3/lib/python3.7/site-packages/ibm_cloud_sdk_core/base_service.py\", line 229, in send\n",
      "    response.status_code, error_message, http_response=response)\n",
      "ibm_cloud_sdk_core.api_exception.ApiException: Error: Forbidden, Code: 403\n"
     ]
    },
    {
     "ename": "ApiException",
     "evalue": "Error: Forbidden, Code: 403",
     "output_type": "error",
     "traceback": [
      "\u001b[0;31m---------------------------------------------------------------------------\u001b[0m",
      "\u001b[0;31mApiException\u001b[0m                              Traceback (most recent call last)",
      "\u001b[0;32m<ipython-input-133-8c9b3351de2d>\u001b[0m in \u001b[0;36m<module>\u001b[0;34m\u001b[0m\n\u001b[1;32m      5\u001b[0m     authenticator=authenticator)\n\u001b[1;32m      6\u001b[0m \u001b[0;34m\u001b[0m\u001b[0m\n\u001b[0;32m----> 7\u001b[0;31m \u001b[0mresponse\u001b[0m \u001b[0;34m=\u001b[0m \u001b[0massistant\u001b[0m\u001b[0;34m.\u001b[0m\u001b[0mlist_workspaces\u001b[0m\u001b[0;34m(\u001b[0m\u001b[0mheaders\u001b[0m\u001b[0;34m=\u001b[0m\u001b[0;34m{\u001b[0m\u001b[0;34m'Custom-Header'\u001b[0m\u001b[0;34m:\u001b[0m \u001b[0;34m'custom_value'\u001b[0m\u001b[0;34m}\u001b[0m\u001b[0;34m)\u001b[0m\u001b[0;34m\u001b[0m\u001b[0;34m\u001b[0m\u001b[0m\n\u001b[0m\u001b[1;32m      8\u001b[0m \u001b[0mprint\u001b[0m\u001b[0;34m(\u001b[0m\u001b[0mresponse\u001b[0m\u001b[0;34m.\u001b[0m\u001b[0mget_result\u001b[0m\u001b[0;34m(\u001b[0m\u001b[0;34m)\u001b[0m\u001b[0;34m)\u001b[0m\u001b[0;34m\u001b[0m\u001b[0;34m\u001b[0m\u001b[0m\n\u001b[1;32m      9\u001b[0m \u001b[0mprint\u001b[0m\u001b[0;34m(\u001b[0m\u001b[0mresponse\u001b[0m\u001b[0;34m.\u001b[0m\u001b[0mget_headers\u001b[0m\u001b[0;34m(\u001b[0m\u001b[0;34m)\u001b[0m\u001b[0;34m)\u001b[0m\u001b[0;34m\u001b[0m\u001b[0;34m\u001b[0m\u001b[0m\n",
      "\u001b[0;32m~/opt/anaconda3/lib/python3.7/site-packages/ibm_watson/assistant_v1.py\u001b[0m in \u001b[0;36mlist_workspaces\u001b[0;34m(self, page_limit, sort, cursor, include_audit, **kwargs)\u001b[0m\n\u001b[1;32m    229\u001b[0m                                        params=params)\n\u001b[1;32m    230\u001b[0m \u001b[0;34m\u001b[0m\u001b[0m\n\u001b[0;32m--> 231\u001b[0;31m         \u001b[0mresponse\u001b[0m \u001b[0;34m=\u001b[0m \u001b[0mself\u001b[0m\u001b[0;34m.\u001b[0m\u001b[0msend\u001b[0m\u001b[0;34m(\u001b[0m\u001b[0mrequest\u001b[0m\u001b[0;34m)\u001b[0m\u001b[0;34m\u001b[0m\u001b[0;34m\u001b[0m\u001b[0m\n\u001b[0m\u001b[1;32m    232\u001b[0m         \u001b[0;32mreturn\u001b[0m \u001b[0mresponse\u001b[0m\u001b[0;34m\u001b[0m\u001b[0;34m\u001b[0m\u001b[0m\n\u001b[1;32m    233\u001b[0m \u001b[0;34m\u001b[0m\u001b[0m\n",
      "\u001b[0;32m~/opt/anaconda3/lib/python3.7/site-packages/ibm_cloud_sdk_core/base_service.py\u001b[0m in \u001b[0;36msend\u001b[0;34m(self, request, **kwargs)\u001b[0m\n\u001b[1;32m    227\u001b[0m                                 \u001b[0;34m'invalid credentials'\u001b[0m\u001b[0;34m\u001b[0m\u001b[0;34m\u001b[0m\u001b[0m\n\u001b[1;32m    228\u001b[0m             raise ApiException(\n\u001b[0;32m--> 229\u001b[0;31m                 response.status_code, error_message, http_response=response)\n\u001b[0m\u001b[1;32m    230\u001b[0m         \u001b[0;32mexcept\u001b[0m \u001b[0mrequests\u001b[0m\u001b[0;34m.\u001b[0m\u001b[0mexceptions\u001b[0m\u001b[0;34m.\u001b[0m\u001b[0mSSLError\u001b[0m\u001b[0;34m:\u001b[0m\u001b[0;34m\u001b[0m\u001b[0;34m\u001b[0m\u001b[0m\n\u001b[1;32m    231\u001b[0m             \u001b[0mlogging\u001b[0m\u001b[0;34m.\u001b[0m\u001b[0mexception\u001b[0m\u001b[0;34m(\u001b[0m\u001b[0mself\u001b[0m\u001b[0;34m.\u001b[0m\u001b[0mERROR_MSG_DISABLE_SSL\u001b[0m\u001b[0;34m)\u001b[0m\u001b[0;34m\u001b[0m\u001b[0;34m\u001b[0m\u001b[0m\n",
      "\u001b[0;31mApiException\u001b[0m: Error: Forbidden, Code: 403"
     ]
    }
   ],
   "source": [
    "from ibm_watson import AssistantV1\n",
    "\n",
    "assistant = AssistantV1(\n",
    "    version='2017-10-13',\n",
    "    authenticator=authenticator)\n",
    "\n",
    "response = assistant.list_workspaces(headers={'Custom-Header': 'custom_value'})\n",
    "print(response.get_result())\n",
    "print(response.get_headers())\n",
    "print(response.get_status_code())"
   ]
  },
  {
   "cell_type": "code",
   "execution_count": 136,
   "metadata": {},
   "outputs": [
    {
     "name": "stderr",
     "output_type": "stream",
     "text": [
      "ERROR:root:Forbidden\n",
      "Traceback (most recent call last):\n",
      "  File \"/Users/elena/opt/anaconda3/lib/python3.7/site-packages/ibm_cloud_sdk_core/base_service.py\", line 229, in send\n",
      "    response.status_code, error_message, http_response=response)\n",
      "ibm_cloud_sdk_core.api_exception.ApiException: Error: Forbidden, Code: 403\n"
     ]
    },
    {
     "ename": "ApiException",
     "evalue": "Error: Forbidden, Code: 403",
     "output_type": "error",
     "traceback": [
      "\u001b[0;31m---------------------------------------------------------------------------\u001b[0m",
      "\u001b[0;31mApiException\u001b[0m                              Traceback (most recent call last)",
      "\u001b[0;32m<ipython-input-136-49c75f9549b8>\u001b[0m in \u001b[0;36m<module>\u001b[0;34m\u001b[0m\n\u001b[1;32m      1\u001b[0m \u001b[0;32mwith\u001b[0m \u001b[0mopen\u001b[0m\u001b[0;34m(\u001b[0m\u001b[0;34m'Game_Center_Terms_and_Conditions.txt'\u001b[0m\u001b[0;34m)\u001b[0m \u001b[0;32mas\u001b[0m \u001b[0mf\u001b[0m\u001b[0;34m:\u001b[0m\u001b[0;34m\u001b[0m\u001b[0;34m\u001b[0m\u001b[0m\n\u001b[0;32m----> 2\u001b[0;31m         \u001b[0mprofile\u001b[0m \u001b[0;34m=\u001b[0m \u001b[0mPI\u001b[0m\u001b[0;34m.\u001b[0m\u001b[0mprofile\u001b[0m\u001b[0;34m(\u001b[0m\u001b[0mf\u001b[0m\u001b[0;34m.\u001b[0m\u001b[0mread\u001b[0m\u001b[0;34m(\u001b[0m\u001b[0;34m)\u001b[0m\u001b[0;34m,\u001b[0m  \u001b[0maccept\u001b[0m\u001b[0;34m=\u001b[0m\u001b[0;34m'application/json'\u001b[0m\u001b[0;34m)\u001b[0m\u001b[0;34m\u001b[0m\u001b[0;34m\u001b[0m\u001b[0m\n\u001b[0m\u001b[1;32m      3\u001b[0m         \u001b[0mget_result\u001b[0m\u001b[0;34m(\u001b[0m\u001b[0;34m)\u001b[0m\u001b[0;34m\u001b[0m\u001b[0;34m\u001b[0m\u001b[0m\n",
      "\u001b[0;32m~/opt/anaconda3/lib/python3.7/site-packages/ibm_watson/personality_insights_v3.py\u001b[0m in \u001b[0;36mprofile\u001b[0;34m(self, content, accept, content_type, content_language, accept_language, raw_scores, csv_headers, consumption_preferences, **kwargs)\u001b[0m\n\u001b[1;32m    219\u001b[0m                                        data=data)\n\u001b[1;32m    220\u001b[0m \u001b[0;34m\u001b[0m\u001b[0m\n\u001b[0;32m--> 221\u001b[0;31m         \u001b[0mresponse\u001b[0m \u001b[0;34m=\u001b[0m \u001b[0mself\u001b[0m\u001b[0;34m.\u001b[0m\u001b[0msend\u001b[0m\u001b[0;34m(\u001b[0m\u001b[0mrequest\u001b[0m\u001b[0;34m)\u001b[0m\u001b[0;34m\u001b[0m\u001b[0;34m\u001b[0m\u001b[0m\n\u001b[0m\u001b[1;32m    222\u001b[0m         \u001b[0;32mreturn\u001b[0m \u001b[0mresponse\u001b[0m\u001b[0;34m\u001b[0m\u001b[0;34m\u001b[0m\u001b[0m\n\u001b[1;32m    223\u001b[0m \u001b[0;34m\u001b[0m\u001b[0m\n",
      "\u001b[0;32m~/opt/anaconda3/lib/python3.7/site-packages/ibm_cloud_sdk_core/base_service.py\u001b[0m in \u001b[0;36msend\u001b[0;34m(self, request, **kwargs)\u001b[0m\n\u001b[1;32m    227\u001b[0m                                 \u001b[0;34m'invalid credentials'\u001b[0m\u001b[0;34m\u001b[0m\u001b[0;34m\u001b[0m\u001b[0m\n\u001b[1;32m    228\u001b[0m             raise ApiException(\n\u001b[0;32m--> 229\u001b[0;31m                 response.status_code, error_message, http_response=response)\n\u001b[0m\u001b[1;32m    230\u001b[0m         \u001b[0;32mexcept\u001b[0m \u001b[0mrequests\u001b[0m\u001b[0;34m.\u001b[0m\u001b[0mexceptions\u001b[0m\u001b[0;34m.\u001b[0m\u001b[0mSSLError\u001b[0m\u001b[0;34m:\u001b[0m\u001b[0;34m\u001b[0m\u001b[0;34m\u001b[0m\u001b[0m\n\u001b[1;32m    231\u001b[0m             \u001b[0mlogging\u001b[0m\u001b[0;34m.\u001b[0m\u001b[0mexception\u001b[0m\u001b[0;34m(\u001b[0m\u001b[0mself\u001b[0m\u001b[0;34m.\u001b[0m\u001b[0mERROR_MSG_DISABLE_SSL\u001b[0m\u001b[0;34m)\u001b[0m\u001b[0;34m\u001b[0m\u001b[0;34m\u001b[0m\u001b[0m\n",
      "\u001b[0;31mApiException\u001b[0m: Error: Forbidden, Code: 403"
     ]
    }
   ],
   "source": [
    "with open('Game_Center_Terms_and_Conditions.txt') as f:\n",
    "        profile = PI.profile(f.read(),  accept='application/json')\n",
    "        get_result()"
   ]
  },
  {
   "cell_type": "code",
   "execution_count": 108,
   "metadata": {},
   "outputs": [],
   "source": [
    "from ibm_watson import PersonalityInsightsV3\n",
    "from ibm_cloud_sdk_core.authenticators import BasicAuthenticator\n",
    "\n",
    "authenticator = BasicAuthenticator(login,password)\n",
    "\n",
    "personality_insights = PersonalityInsightsV3(\n",
    "    version='2017-10-13',\n",
    "    authenticator=authenticator\n",
    ")\n",
    "\n",
    "personality_insights.set_service_url('https://api.us-east.personality-insights.watson.cloud.ibm.com')\n",
    "\n"
   ]
  },
  {
   "cell_type": "code",
   "execution_count": null,
   "metadata": {},
   "outputs": [],
   "source": [
    "# get_status_code()"
   ]
  },
  {
   "cell_type": "code",
   "execution_count": 139,
   "metadata": {},
   "outputs": [
    {
     "name": "stderr",
     "output_type": "stream",
     "text": [
      "/Users/elena/opt/anaconda3/lib/python3.7/site-packages/ipykernel_launcher.py:2: DeprecationWarning: time.clock has been deprecated in Python 3.3 and will be removed from Python 3.8: use time.perf_counter or time.process_time instead\n",
      "  \n",
      "ERROR:root:Forbidden\n",
      "Traceback (most recent call last):\n",
      "  File \"/Users/elena/opt/anaconda3/lib/python3.7/site-packages/ibm_cloud_sdk_core/base_service.py\", line 229, in send\n",
      "    response.status_code, error_message, http_response=response)\n",
      "ibm_cloud_sdk_core.api_exception.ApiException: Error: Forbidden, Code: 403\n"
     ]
    },
    {
     "ename": "ApiException",
     "evalue": "Error: Forbidden, Code: 403",
     "output_type": "error",
     "traceback": [
      "\u001b[0;31m---------------------------------------------------------------------------\u001b[0m",
      "\u001b[0;31mApiException\u001b[0m                              Traceback (most recent call last)",
      "\u001b[0;32m<ipython-input-139-86c0bbe39991>\u001b[0m in \u001b[0;36m<module>\u001b[0;34m\u001b[0m\n\u001b[1;32m     15\u001b[0m         \u001b[0;31m#Enough words to feed into PI\u001b[0m\u001b[0;34m\u001b[0m\u001b[0;34m\u001b[0m\u001b[0;34m\u001b[0m\u001b[0m\n\u001b[1;32m     16\u001b[0m         \u001b[0;31m#Pass on the review to PI\u001b[0m\u001b[0;34m\u001b[0m\u001b[0;34m\u001b[0m\u001b[0;34m\u001b[0m\u001b[0m\n\u001b[0;32m---> 17\u001b[0;31m         \u001b[0mjson_output\u001b[0m \u001b[0;34m=\u001b[0m \u001b[0mPI\u001b[0m\u001b[0;34m.\u001b[0m\u001b[0mprofile\u001b[0m\u001b[0;34m(\u001b[0m\u001b[0mcontent\u001b[0m\u001b[0;34m=\u001b[0m\u001b[0mreview\u001b[0m\u001b[0;34m,\u001b[0m\u001b[0maccept\u001b[0m\u001b[0;34m=\u001b[0m\u001b[0;34m'test'\u001b[0m\u001b[0;34m,\u001b[0m \u001b[0mcontent_type\u001b[0m\u001b[0;34m=\u001b[0m\u001b[0;34m'text/plain'\u001b[0m\u001b[0;34m)\u001b[0m\u001b[0;34m\u001b[0m\u001b[0;34m\u001b[0m\u001b[0m\n\u001b[0m\u001b[1;32m     18\u001b[0m \u001b[0;34m\u001b[0m\u001b[0m\n\u001b[1;32m     19\u001b[0m         \u001b[0;31m#Iterate over the result (having heirarchy)\u001b[0m\u001b[0;34m\u001b[0m\u001b[0;34m\u001b[0m\u001b[0;34m\u001b[0m\u001b[0m\n",
      "\u001b[0;32m~/opt/anaconda3/lib/python3.7/site-packages/ibm_watson/personality_insights_v3.py\u001b[0m in \u001b[0;36mprofile\u001b[0;34m(self, content, accept, content_type, content_language, accept_language, raw_scores, csv_headers, consumption_preferences, **kwargs)\u001b[0m\n\u001b[1;32m    219\u001b[0m                                        data=data)\n\u001b[1;32m    220\u001b[0m \u001b[0;34m\u001b[0m\u001b[0m\n\u001b[0;32m--> 221\u001b[0;31m         \u001b[0mresponse\u001b[0m \u001b[0;34m=\u001b[0m \u001b[0mself\u001b[0m\u001b[0;34m.\u001b[0m\u001b[0msend\u001b[0m\u001b[0;34m(\u001b[0m\u001b[0mrequest\u001b[0m\u001b[0;34m)\u001b[0m\u001b[0;34m\u001b[0m\u001b[0;34m\u001b[0m\u001b[0m\n\u001b[0m\u001b[1;32m    222\u001b[0m         \u001b[0;32mreturn\u001b[0m \u001b[0mresponse\u001b[0m\u001b[0;34m\u001b[0m\u001b[0;34m\u001b[0m\u001b[0m\n\u001b[1;32m    223\u001b[0m \u001b[0;34m\u001b[0m\u001b[0m\n",
      "\u001b[0;32m~/opt/anaconda3/lib/python3.7/site-packages/ibm_cloud_sdk_core/base_service.py\u001b[0m in \u001b[0;36msend\u001b[0;34m(self, request, **kwargs)\u001b[0m\n\u001b[1;32m    227\u001b[0m                                 \u001b[0;34m'invalid credentials'\u001b[0m\u001b[0;34m\u001b[0m\u001b[0;34m\u001b[0m\u001b[0m\n\u001b[1;32m    228\u001b[0m             raise ApiException(\n\u001b[0;32m--> 229\u001b[0;31m                 response.status_code, error_message, http_response=response)\n\u001b[0m\u001b[1;32m    230\u001b[0m         \u001b[0;32mexcept\u001b[0m \u001b[0mrequests\u001b[0m\u001b[0;34m.\u001b[0m\u001b[0mexceptions\u001b[0m\u001b[0;34m.\u001b[0m\u001b[0mSSLError\u001b[0m\u001b[0;34m:\u001b[0m\u001b[0;34m\u001b[0m\u001b[0;34m\u001b[0m\u001b[0m\n\u001b[1;32m    231\u001b[0m             \u001b[0mlogging\u001b[0m\u001b[0;34m.\u001b[0m\u001b[0mexception\u001b[0m\u001b[0;34m(\u001b[0m\u001b[0mself\u001b[0m\u001b[0;34m.\u001b[0m\u001b[0mERROR_MSG_DISABLE_SSL\u001b[0m\u001b[0;34m)\u001b[0m\u001b[0;34m\u001b[0m\u001b[0;34m\u001b[0m\u001b[0m\n",
      "\u001b[0;31mApiException\u001b[0m: Error: Forbidden, Code: 403"
     ]
    }
   ],
   "source": [
    "# #Get the current time on the clock\n",
    "# time_start = time.clock()\n",
    "\n",
    "# #-------------------------------------------------------------------------\n",
    "# #Iterate Over All the Reviews and Append the Result:\n",
    "# #-------------------------------------------------------------------------    \n",
    "# for index, review in small_data['post'].iteritems():\n",
    "    \n",
    "#     #Get the words in the review\n",
    "#     count = len(review.split()) \n",
    "    \n",
    "#     #Check if it's greater than 100\n",
    "#     if count >= 100:\n",
    "    \n",
    "#         #Enough words to feed into PI\n",
    "#         #Pass on the review to PI\n",
    "#         json_output = PI.profile(content=review,accept='test', content_type='text/plain')\n",
    "\n",
    "#         #Iterate over the result (having heirarchy)\n",
    "#         for i in json_output['personality']:\n",
    "#             for j in i['children']:\n",
    "#                 #Append the attributes to the data\n",
    "#                 small_data.set_value(index, j['name'], j['percentile']) \n",
    "                        \n",
    "#         for i in json_output['needs']:\n",
    "#             #Append the attributes to the data\n",
    "#             small_data.set_value(index, i['name'], i['percentile']) \n",
    "            \n",
    "#         for i in json_output['values']:\n",
    "#             #Append the attributes to the data\n",
    "#             small_data.set_value(index, i['name'], i['percentile']) \n",
    "# #-------------------------------------------------------------------------\n",
    "\n",
    "# #Get the current time again and subract from \n",
    "# #previous to measure the time taken        \n",
    "# time_end = time.clock() - time_start\n",
    "\n",
    "# #Print the time taken\n",
    "# print(time_end)"
   ]
  },
  {
   "cell_type": "code",
   "execution_count": null,
   "metadata": {},
   "outputs": [],
   "source": [
    "# def generatePersonalDescription(request):\n",
    "#     import requests\n",
    "#     from requests.auth import HTTPBasicAuth\n",
    "#     IBM_API_URL = \"https://gateway.watsonplatform.net/personality-insights/api/v2/profile\"\n",
    "#     top_level_url = \"https://gateway.watsonplatform.net/personality-insights/api\"\n",
    "#     username = \"\"\n",
    "#     password = \"\"\n",
    "\n",
    "#     JSON_OBJ = {'contentItems': [{'content' : 'strcontent' , 'contenttype': 'application/json','sourceid': 'blog123','language': 'en'}]}\n",
    "\n",
    "#     json_data = json.dumps(JSON_OBJ)\n",
    "\n",
    "#     resp = requests.get(IBM_API_URL, auth=(username, password))\n",
    "\n",
    "#     return HttpResponse(resp)"
   ]
  },
  {
   "cell_type": "code",
   "execution_count": null,
   "metadata": {},
   "outputs": [],
   "source": [
    "# #Save the enriched data to another CSV File\n",
    "# small_data.to_csv('OutputPI.csv')"
   ]
  }
 ],
 "metadata": {
  "kernelspec": {
   "display_name": "Python 3",
   "language": "python",
   "name": "python3"
  },
  "language_info": {
   "codemirror_mode": {
    "name": "ipython",
    "version": 3
   },
   "file_extension": ".py",
   "mimetype": "text/x-python",
   "name": "python",
   "nbconvert_exporter": "python",
   "pygments_lexer": "ipython3",
   "version": "3.7.4"
  }
 },
 "nbformat": 4,
 "nbformat_minor": 2
}
