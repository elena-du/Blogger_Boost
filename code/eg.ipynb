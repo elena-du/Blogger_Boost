{
 "cells": [
  {
   "cell_type": "code",
   "execution_count": 2,
   "metadata": {},
   "outputs": [
    {
     "name": "stdout",
     "output_type": "stream",
     "text": [
      "   Col_A_date  Col_B_hour  Col_C  Col_value\n",
      "0  2018-09-04           7      1        1.9    Col_A_date  Col_B_hour  Col_C  Col_value\n",
      "2  2018-09-04           8      2        2.6    Col_A_date  Col_B_hour  Col_C  Col_value\n",
      "1  2018-09-05           7      1        2.2    Col_A_date  Col_B_hour  Col_C  Col_value\n",
      "3  2018-09-05           8      2        3.8\n"
     ]
    }
   ],
   "source": [
    "import pandas as pd\n",
    "import plotly\n",
    "import plotly.graph_objs as go\n",
    "\n",
    "# Create DataFrame\n",
    "df = pd.DataFrame({\"Col_A_date\":[\"2018-09-04\",\"2018-09-05\",\"2018-09-04\",\"2018-09-05\"],\n",
    "                   \"Col_B_hour\":[7,7,8,8],\n",
    "                   \"Col_C\":[1,1,2,2],\n",
    "                   \"Col_value\":[1.9,2.2,2.6,3.8]\n",
    "                   })\n",
    "# create four df for traces\n",
    "df1 = df.loc[(df[\"Col_A_date\"] == \"2018-09-04\") & (df[\"Col_C\"] == 1)]\n",
    "df2 = df.loc[(df[\"Col_A_date\"] == \"2018-09-04\") & (df[\"Col_C\"] == 2)]\n",
    "df3 = df.loc[(df[\"Col_A_date\"] == \"2018-09-05\") & (df[\"Col_C\"] == 1)]\n",
    "df4 = df.loc[(df[\"Col_A_date\"] == \"2018-09-05\") & (df[\"Col_C\"] == 2)]\n",
    "print(df1,df2,df3,df4)"
   ]
  },
  {
   "cell_type": "code",
   "execution_count": 3,
   "metadata": {},
   "outputs": [
    {
     "data": {
      "text/html": [
       "<div>\n",
       "<style scoped>\n",
       "    .dataframe tbody tr th:only-of-type {\n",
       "        vertical-align: middle;\n",
       "    }\n",
       "\n",
       "    .dataframe tbody tr th {\n",
       "        vertical-align: top;\n",
       "    }\n",
       "\n",
       "    .dataframe thead th {\n",
       "        text-align: right;\n",
       "    }\n",
       "</style>\n",
       "<table border=\"1\" class=\"dataframe\">\n",
       "  <thead>\n",
       "    <tr style=\"text-align: right;\">\n",
       "      <th></th>\n",
       "      <th>Col_A_date</th>\n",
       "      <th>Col_B_hour</th>\n",
       "      <th>Col_C</th>\n",
       "      <th>Col_value</th>\n",
       "    </tr>\n",
       "  </thead>\n",
       "  <tbody>\n",
       "    <tr>\n",
       "      <th>0</th>\n",
       "      <td>2018-09-04</td>\n",
       "      <td>7</td>\n",
       "      <td>1</td>\n",
       "      <td>1.9</td>\n",
       "    </tr>\n",
       "    <tr>\n",
       "      <th>1</th>\n",
       "      <td>2018-09-05</td>\n",
       "      <td>7</td>\n",
       "      <td>1</td>\n",
       "      <td>2.2</td>\n",
       "    </tr>\n",
       "    <tr>\n",
       "      <th>2</th>\n",
       "      <td>2018-09-04</td>\n",
       "      <td>8</td>\n",
       "      <td>2</td>\n",
       "      <td>2.6</td>\n",
       "    </tr>\n",
       "    <tr>\n",
       "      <th>3</th>\n",
       "      <td>2018-09-05</td>\n",
       "      <td>8</td>\n",
       "      <td>2</td>\n",
       "      <td>3.8</td>\n",
       "    </tr>\n",
       "  </tbody>\n",
       "</table>\n",
       "</div>"
      ],
      "text/plain": [
       "   Col_A_date  Col_B_hour  Col_C  Col_value\n",
       "0  2018-09-04           7      1        1.9\n",
       "1  2018-09-05           7      1        2.2\n",
       "2  2018-09-04           8      2        2.6\n",
       "3  2018-09-05           8      2        3.8"
      ]
     },
     "execution_count": 3,
     "metadata": {},
     "output_type": "execute_result"
    }
   ],
   "source": [
    "df"
   ]
  },
  {
   "cell_type": "code",
   "execution_count": 1,
   "metadata": {},
   "outputs": [
    {
     "name": "stdout",
     "output_type": "stream",
     "text": [
      "   Col_A_date  Col_B_hour  Col_C  Col_value\n",
      "0  2018-09-04           7      1        1.9    Col_A_date  Col_B_hour  Col_C  Col_value\n",
      "2  2018-09-04           8      2        2.6    Col_A_date  Col_B_hour  Col_C  Col_value\n",
      "1  2018-09-05           7      1        2.2    Col_A_date  Col_B_hour  Col_C  Col_value\n",
      "3  2018-09-05           8      2        3.8\n"
     ]
    },
    {
     "data": {
      "text/plain": [
       "'update_dropdown.html'"
      ]
     },
     "execution_count": 1,
     "metadata": {},
     "output_type": "execute_result"
    }
   ],
   "source": [
    "# import libraries\n",
    "import pandas as pd\n",
    "import plotly\n",
    "import plotly.graph_objs as go\n",
    "\n",
    "# Create DataFrame\n",
    "df = pd.DataFrame({\"Col_A_date\":[\"2018-09-04\",\"2018-09-05\",\"2018-09-04\",\"2018-09-05\"],\n",
    "                   \"Col_B_hour\":[7,7,8,8],\n",
    "                   \"Col_C\":[1,1,2,2],\n",
    "                   \"Col_value\":[1.9,2.2,2.6,3.8]\n",
    "                   })\n",
    "# create four df for traces\n",
    "df1 = df.loc[(df[\"Col_A_date\"] == \"2018-09-04\") & (df[\"Col_C\"] == 1)]\n",
    "df2 = df.loc[(df[\"Col_A_date\"] == \"2018-09-04\") & (df[\"Col_C\"] == 2)]\n",
    "df3 = df.loc[(df[\"Col_A_date\"] == \"2018-09-05\") & (df[\"Col_C\"] == 1)]\n",
    "df4 = df.loc[(df[\"Col_A_date\"] == \"2018-09-05\") & (df[\"Col_C\"] == 2)]\n",
    "print(df1,df2,df3,df4)\n",
    "# Create traces\n",
    "trace1 = go.Bar(x=list(df1[\"Col_B_hour\"]),\n",
    "                y=list(df1[\"Col_value\"]),\n",
    "                name=\"1\",\n",
    "                text = list(df1[\"Col_value\"]),\n",
    "                textposition=\"auto\",\n",
    "                hoverinfo=\"name\",\n",
    "                marker=dict(color=\"rgb(0,102,204)\")\n",
    "                )\n",
    "trace2 = go.Bar(x=list(df2[\"Col_B_hour\"]),\n",
    "                y=list(df2[\"Col_value\"]),\n",
    "                name=\"2\",\n",
    "                text=list(df2[\"Col_value\"]),\n",
    "                textposition=\"auto\",\n",
    "                hoverinfo=\"name\",\n",
    "                marker=dict(color=\"rgb(255,128,0)\")\n",
    "                )\n",
    "trace3 = go.Bar(x=list(df3[\"Col_B_hour\"]),\n",
    "                y=list(df3[\"Col_value\"]),\n",
    "                name=\"3\",\n",
    "                text = list(df3[\"Col_value\"]),\n",
    "                textposition=\"auto\",\n",
    "                hoverinfo=\"name\",\n",
    "                marker=dict(color=\"rgb(255,178,102)\")\n",
    "                )\n",
    "trace4 = go.Bar(x=list(df4[\"Col_B_hour\"]),\n",
    "                y=list(df4[\"Col_value\"]),\n",
    "                name=\"4\",\n",
    "                text=list(df4[\"Col_value\"]),\n",
    "                textposition=\"auto\",\n",
    "                hoverinfo=\"name\",\n",
    "                marker=dict(color=\"rgb(255,255,153)\")\n",
    "                )\n",
    "# Pull traces to data\n",
    "data = [trace1,trace2,trace3,trace4]\n",
    "# Specify dropout parameters\n",
    "updatemenus = list([\n",
    "    dict(active=-1,\n",
    "         buttons=list([   \n",
    "            dict(label = \"4 Aug 1\",\n",
    "                 method = \"update\",\n",
    "                 args = [{\"visible\": [True, False, False, False]},\n",
    "                         {\"title\": \"4 Aug 1\"}]),\n",
    "            dict(label = \"4 Aug 2\",\n",
    "                 method = \"update\",\n",
    "                 args = [{\"visible\": [False, True, False, False]},\n",
    "                         {\"title\": \"4 Aug 2\"}]),\n",
    "            dict(label = \"5 Aug 1\",\n",
    "                 method = \"update\",\n",
    "                 args = [{\"visible\": [False, False, True, False]},\n",
    "                         {\"title\": \"5 Aug 1\"}]),\n",
    "            dict(label = \"5 Aug 2\",\n",
    "                 method = \"update\",\n",
    "                 args = [{\"visible\": [False, False, False, True]},\n",
    "                         {\"title\": \"5 Aug 2\"}]),\n",
    "            dict(label = \"All\",\n",
    "                 method = \"update\",\n",
    "                 args = [{\"visible\": [True, True, True, True]},\n",
    "                         {\"title\": \"All\"}]),\n",
    "            dict(label = \"Reset\",\n",
    "                 method = \"update\",\n",
    "                 args = [{\"visible\": [False, False, False, False]},\n",
    "                         {\"title\": \"Reset\"}])\n",
    "        ]),\n",
    "    )\n",
    "])\n",
    "# Set layout\n",
    "layout = dict(title=\"Dropdown\",\n",
    "              showlegend=False,\n",
    "              xaxis=dict(title=\"Hours\"),\n",
    "              yaxis=dict(title=\"Number\"),\n",
    "              updatemenus=updatemenus)\n",
    "# Create fig\n",
    "fig = dict(data=data, layout=layout)\n",
    "# Plot the plotly plot\n",
    "plotly.offline.plot(fig, filename=\"update_dropdown.html\")"
   ]
  }
 ],
 "metadata": {
  "kernelspec": {
   "display_name": "Python 3",
   "language": "python",
   "name": "python3"
  },
  "language_info": {
   "codemirror_mode": {
    "name": "ipython",
    "version": 3
   },
   "file_extension": ".py",
   "mimetype": "text/x-python",
   "name": "python",
   "nbconvert_exporter": "python",
   "pygments_lexer": "ipython3",
   "version": "3.7.7"
  }
 },
 "nbformat": 4,
 "nbformat_minor": 4
}
