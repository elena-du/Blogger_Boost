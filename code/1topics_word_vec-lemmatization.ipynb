{
 "cells": [
  {
   "cell_type": "code",
   "execution_count": 1,
   "metadata": {},
   "outputs": [],
   "source": [
    "import pickle\n",
    "import nltk\n",
    "from gensim.models import Word2Vec\n",
    "import multiprocessing\n",
    "import pandas as pd"
   ]
  },
  {
   "cell_type": "code",
   "execution_count": 19,
   "metadata": {},
   "outputs": [],
   "source": [
    "from nltk.stem import WordNetLemmatizer"
   ]
  },
  {
   "cell_type": "code",
   "execution_count": 23,
   "metadata": {},
   "outputs": [],
   "source": [
    "def word_splt(lst): \n",
    "    return list(map(lambda el:[el], lst)) "
   ]
  },
  {
   "cell_type": "code",
   "execution_count": 2,
   "metadata": {},
   "outputs": [
    {
     "name": "stdout",
     "output_type": "stream",
     "text": [
      "/Users/elena/Desktop/Metis/projects/5_project/Blogger_Boost/code\r\n"
     ]
    }
   ],
   "source": [
    "!pwd"
   ]
  },
  {
   "cell_type": "code",
   "execution_count": 3,
   "metadata": {},
   "outputs": [],
   "source": [
    "with open('../../blogger_com_data_19320_6_v2.pkl', 'rb') as picklefile:\n",
    "    df = pickle.load(picklefile)"
   ]
  },
  {
   "cell_type": "code",
   "execution_count": 4,
   "metadata": {},
   "outputs": [],
   "source": [
    "    with open('../../data/blogger_com_data_19320_tsne3d.pkl', 'rb') as picklefile:\n",
    "        tsne = pickle.load(picklefile)"
   ]
  },
  {
   "cell_type": "code",
   "execution_count": 9,
   "metadata": {},
   "outputs": [
    {
     "data": {
      "text/html": [
       "<div>\n",
       "<style scoped>\n",
       "    .dataframe tbody tr th:only-of-type {\n",
       "        vertical-align: middle;\n",
       "    }\n",
       "\n",
       "    .dataframe tbody tr th {\n",
       "        vertical-align: top;\n",
       "    }\n",
       "\n",
       "    .dataframe thead th {\n",
       "        text-align: right;\n",
       "    }\n",
       "</style>\n",
       "<table border=\"1\" class=\"dataframe\">\n",
       "  <thead>\n",
       "    <tr style=\"text-align: right;\">\n",
       "      <th></th>\n",
       "      <th>blogger_id</th>\n",
       "      <th>prime_topic</th>\n",
       "      <th>gender</th>\n",
       "      <th>age</th>\n",
       "      <th>occupation</th>\n",
       "      <th>name</th>\n",
       "      <th>xs</th>\n",
       "      <th>ys</th>\n",
       "      <th>zs</th>\n",
       "    </tr>\n",
       "  </thead>\n",
       "  <tbody>\n",
       "    <tr>\n",
       "      <th>0</th>\n",
       "      <td>1000331</td>\n",
       "      <td>mundane</td>\n",
       "      <td>female</td>\n",
       "      <td>37</td>\n",
       "      <td>indUnk</td>\n",
       "      <td>Leo</td>\n",
       "      <td>0.281417</td>\n",
       "      <td>6.622975</td>\n",
       "      <td>-10.523910</td>\n",
       "    </tr>\n",
       "    <tr>\n",
       "      <th>1</th>\n",
       "      <td>1000866</td>\n",
       "      <td>mundane</td>\n",
       "      <td>female</td>\n",
       "      <td>17</td>\n",
       "      <td>Student</td>\n",
       "      <td>Libra</td>\n",
       "      <td>-12.260028</td>\n",
       "      <td>-7.769121</td>\n",
       "      <td>-12.416444</td>\n",
       "    </tr>\n",
       "    <tr>\n",
       "      <th>2</th>\n",
       "      <td>1004904</td>\n",
       "      <td>love_relationship</td>\n",
       "      <td>male</td>\n",
       "      <td>23</td>\n",
       "      <td>Arts</td>\n",
       "      <td>Capricorn</td>\n",
       "      <td>4.014722</td>\n",
       "      <td>-2.585350</td>\n",
       "      <td>18.365887</td>\n",
       "    </tr>\n",
       "    <tr>\n",
       "      <th>3</th>\n",
       "      <td>1005076</td>\n",
       "      <td>mundane</td>\n",
       "      <td>female</td>\n",
       "      <td>25</td>\n",
       "      <td>Arts</td>\n",
       "      <td>Cancer</td>\n",
       "      <td>2.535636</td>\n",
       "      <td>-7.212558</td>\n",
       "      <td>-11.414396</td>\n",
       "    </tr>\n",
       "    <tr>\n",
       "      <th>4</th>\n",
       "      <td>1005545</td>\n",
       "      <td>blogging</td>\n",
       "      <td>male</td>\n",
       "      <td>25</td>\n",
       "      <td>Engineering</td>\n",
       "      <td>Sagittarius</td>\n",
       "      <td>-11.344011</td>\n",
       "      <td>20.124655</td>\n",
       "      <td>-3.197232</td>\n",
       "    </tr>\n",
       "    <tr>\n",
       "      <th>...</th>\n",
       "      <td>...</td>\n",
       "      <td>...</td>\n",
       "      <td>...</td>\n",
       "      <td>...</td>\n",
       "      <td>...</td>\n",
       "      <td>...</td>\n",
       "      <td>...</td>\n",
       "      <td>...</td>\n",
       "      <td>...</td>\n",
       "    </tr>\n",
       "    <tr>\n",
       "      <th>19315</th>\n",
       "      <td>996147</td>\n",
       "      <td>mundane</td>\n",
       "      <td>female</td>\n",
       "      <td>36</td>\n",
       "      <td>Telecommunications</td>\n",
       "      <td>Leo</td>\n",
       "      <td>-6.202799</td>\n",
       "      <td>6.175335</td>\n",
       "      <td>-15.789851</td>\n",
       "    </tr>\n",
       "    <tr>\n",
       "      <th>19316</th>\n",
       "      <td>997488</td>\n",
       "      <td>love_relationship</td>\n",
       "      <td>male</td>\n",
       "      <td>25</td>\n",
       "      <td>indUnk</td>\n",
       "      <td>Cancer</td>\n",
       "      <td>-12.689223</td>\n",
       "      <td>-6.187814</td>\n",
       "      <td>7.715663</td>\n",
       "    </tr>\n",
       "    <tr>\n",
       "      <th>19317</th>\n",
       "      <td>998237</td>\n",
       "      <td>teen_fun_days</td>\n",
       "      <td>female</td>\n",
       "      <td>16</td>\n",
       "      <td>indUnk</td>\n",
       "      <td>Virgo</td>\n",
       "      <td>-8.577352</td>\n",
       "      <td>-19.395651</td>\n",
       "      <td>-3.846501</td>\n",
       "    </tr>\n",
       "    <tr>\n",
       "      <th>19318</th>\n",
       "      <td>998966</td>\n",
       "      <td>teen_fun_days</td>\n",
       "      <td>male</td>\n",
       "      <td>27</td>\n",
       "      <td>indUnk</td>\n",
       "      <td>Taurus</td>\n",
       "      <td>9.840730</td>\n",
       "      <td>-9.304145</td>\n",
       "      <td>0.778932</td>\n",
       "    </tr>\n",
       "    <tr>\n",
       "      <th>19319</th>\n",
       "      <td>999503</td>\n",
       "      <td>love_relationship</td>\n",
       "      <td>male</td>\n",
       "      <td>25</td>\n",
       "      <td>Internet</td>\n",
       "      <td>Cancer</td>\n",
       "      <td>-5.851444</td>\n",
       "      <td>1.147443</td>\n",
       "      <td>0.018549</td>\n",
       "    </tr>\n",
       "  </tbody>\n",
       "</table>\n",
       "<p>19320 rows × 9 columns</p>\n",
       "</div>"
      ],
      "text/plain": [
       "      blogger_id        prime_topic  gender age          occupation  \\\n",
       "0        1000331            mundane  female  37              indUnk   \n",
       "1        1000866            mundane  female  17             Student   \n",
       "2        1004904  love_relationship    male  23                Arts   \n",
       "3        1005076            mundane  female  25                Arts   \n",
       "4        1005545           blogging    male  25         Engineering   \n",
       "...          ...                ...     ...  ..                 ...   \n",
       "19315     996147            mundane  female  36  Telecommunications   \n",
       "19316     997488  love_relationship    male  25              indUnk   \n",
       "19317     998237      teen_fun_days  female  16              indUnk   \n",
       "19318     998966      teen_fun_days    male  27              indUnk   \n",
       "19319     999503  love_relationship    male  25            Internet   \n",
       "\n",
       "              name         xs         ys         zs  \n",
       "0              Leo   0.281417   6.622975 -10.523910  \n",
       "1            Libra -12.260028  -7.769121 -12.416444  \n",
       "2        Capricorn   4.014722  -2.585350  18.365887  \n",
       "3           Cancer   2.535636  -7.212558 -11.414396  \n",
       "4      Sagittarius -11.344011  20.124655  -3.197232  \n",
       "...            ...        ...        ...        ...  \n",
       "19315          Leo  -6.202799   6.175335 -15.789851  \n",
       "19316       Cancer -12.689223  -6.187814   7.715663  \n",
       "19317        Virgo  -8.577352 -19.395651  -3.846501  \n",
       "19318       Taurus   9.840730  -9.304145   0.778932  \n",
       "19319       Cancer  -5.851444   1.147443   0.018549  \n",
       "\n",
       "[19320 rows x 9 columns]"
      ]
     },
     "execution_count": 9,
     "metadata": {},
     "output_type": "execute_result"
    }
   ],
   "source": [
    "tsne"
   ]
  },
  {
   "cell_type": "code",
   "execution_count": 5,
   "metadata": {},
   "outputs": [],
   "source": [
    "new_df = pd.merge(df, tsne,  how='left', left_on=['blogger_id'], right_on = ['blogger_id'])"
   ]
  },
  {
   "cell_type": "code",
   "execution_count": 6,
   "metadata": {},
   "outputs": [
    {
     "data": {
      "text/plain": [
       "Index(['blogger_id', 'gender_x', 'age_x', 'occupation_x', 'name_x', 'post',\n",
       "       'prime_topic', 'gender_y', 'age_y', 'occupation_y', 'name_y', 'xs',\n",
       "       'ys', 'zs'],\n",
       "      dtype='object')"
      ]
     },
     "execution_count": 6,
     "metadata": {},
     "output_type": "execute_result"
    }
   ],
   "source": [
    "new_df.columns"
   ]
  },
  {
   "cell_type": "code",
   "execution_count": 17,
   "metadata": {},
   "outputs": [],
   "source": [
    "new_df = new_df[['blogger_id', 'post', 'prime_topic']]"
   ]
  },
  {
   "cell_type": "code",
   "execution_count": 9,
   "metadata": {},
   "outputs": [],
   "source": [
    "new_df_g = new_df.groupby(['prime_topic'])['post'].apply(' '.join).reset_index()"
   ]
  },
  {
   "cell_type": "code",
   "execution_count": 76,
   "metadata": {},
   "outputs": [],
   "source": [
    "test = new_df_g['post'][0][:500]"
   ]
  },
  {
   "cell_type": "code",
   "execution_count": 77,
   "metadata": {},
   "outputs": [
    {
     "data": {
      "text/plain": [
       "[['        Blogdex     Blogdex  is a research project of the MIT Media Laboratory tracking the diffusion of information through the weblog community'],\n",
       " [' Ideas can have very similar properties to a disease, spreading through the population like wildfire'],\n",
       " [' The goal of Blogdex is to explore what it is about information, people, and their relationships that allows for this contagious media'],\n",
       " ['  Blogdex crawls all of the weblogs in its database every time they are updated and collects the links that have been ']]"
      ]
     },
     "execution_count": 77,
     "metadata": {},
     "output_type": "execute_result"
    }
   ],
   "source": [
    "lemmatizer=WordNetLemmatizer()\n",
    "test = test.split('.')\n",
    "test=word_splt(test)\n",
    "test"
   ]
  },
  {
   "cell_type": "code",
   "execution_count": 79,
   "metadata": {},
   "outputs": [
    {
     "data": {
      "text/plain": [
       "list"
      ]
     },
     "execution_count": 79,
     "metadata": {},
     "output_type": "execute_result"
    }
   ],
   "source": [
    "tokens = [sub.split() for subl in  test for sub in subl] \n",
    "type(tokens[1])"
   ]
  },
  {
   "cell_type": "code",
   "execution_count": 80,
   "metadata": {},
   "outputs": [],
   "source": [
    "def lemmatize_sent(sent):\n",
    "    return [lemmatizer.lemmatize(word.lower()) for word in sent]"
   ]
  },
  {
   "cell_type": "code",
   "execution_count": 87,
   "metadata": {},
   "outputs": [],
   "source": [
    "#lemmatizer.lemmatize('allows')"
   ]
  },
  {
   "cell_type": "code",
   "execution_count": 85,
   "metadata": {},
   "outputs": [],
   "source": [
    "#tokens"
   ]
  },
  {
   "cell_type": "code",
   "execution_count": 82,
   "metadata": {},
   "outputs": [],
   "source": [
    "lemmatized = []\n",
    "for i in tokens:\n",
    "    lemmatized.append(lemmatize_sent(i))"
   ]
  },
  {
   "cell_type": "code",
   "execution_count": 88,
   "metadata": {},
   "outputs": [],
   "source": [
    "#lemmatized"
   ]
  },
  {
   "cell_type": "code",
   "execution_count": 50,
   "metadata": {},
   "outputs": [],
   "source": [
    "text0_l = text0.split('.')"
   ]
  },
  {
   "cell_type": "code",
   "execution_count": 88,
   "metadata": {},
   "outputs": [],
   "source": [
    "text0_l=extractDigits(text0_l)"
   ]
  },
  {
   "cell_type": "code",
   "execution_count": 76,
   "metadata": {},
   "outputs": [],
   "source": [
    "#test = text0_l[0:2]"
   ]
  },
  {
   "cell_type": "code",
   "execution_count": 77,
   "metadata": {},
   "outputs": [
    {
     "data": {
      "text/plain": [
       "[['        Blogdex     Blogdex  is a research project of the MIT Media Laboratory tracking the diffusion of information through the weblog community'],\n",
       " [' Ideas can have very similar properties to a disease, spreading through the population like wildfire']]"
      ]
     },
     "execution_count": 77,
     "metadata": {},
     "output_type": "execute_result"
    }
   ],
   "source": [
    "#test"
   ]
  },
  {
   "cell_type": "code",
   "execution_count": 62,
   "metadata": {},
   "outputs": [],
   "source": [
    "\n",
    "#newlist = [word for word in text0_l[0].split()]"
   ]
  },
  {
   "cell_type": "code",
   "execution_count": 80,
   "metadata": {},
   "outputs": [],
   "source": [
    "tokens = [sub.split() for subl in  text0_l for sub in subl] "
   ]
  },
  {
   "cell_type": "code",
   "execution_count": null,
   "metadata": {},
   "outputs": [],
   "source": []
  },
  {
   "cell_type": "code",
   "execution_count": null,
   "metadata": {},
   "outputs": [],
   "source": []
  },
  {
   "cell_type": "code",
   "execution_count": null,
   "metadata": {},
   "outputs": [],
   "source": []
  },
  {
   "cell_type": "code",
   "execution_count": 82,
   "metadata": {},
   "outputs": [],
   "source": [
    "embedding_dim=300"
   ]
  },
  {
   "cell_type": "code",
   "execution_count": 84,
   "metadata": {},
   "outputs": [],
   "source": [
    "w_v = Word2Vec(tokens, size=embedding_dim, window=5, \n",
    "               min_count=5, negative=15, iter=10, workers=multiprocessing.cpu_count())"
   ]
  },
  {
   "cell_type": "code",
   "execution_count": 85,
   "metadata": {},
   "outputs": [],
   "source": [
    "word_vectors = w_v.wv"
   ]
  },
  {
   "cell_type": "code",
   "execution_count": 92,
   "metadata": {},
   "outputs": [
    {
     "data": {
      "text/plain": [
       "gensim.models.keyedvectors.Word2VecKeyedVectors"
      ]
     },
     "execution_count": 92,
     "metadata": {},
     "output_type": "execute_result"
    }
   ],
   "source": [
    "type(word_vectors)"
   ]
  },
  {
   "cell_type": "code",
   "execution_count": 90,
   "metadata": {},
   "outputs": [],
   "source": [
    "result=word_vectors.similar_by_word('love')"
   ]
  },
  {
   "cell_type": "code",
   "execution_count": 91,
   "metadata": {},
   "outputs": [
    {
     "name": "stdout",
     "output_type": "stream",
     "text": [
      "Most similar to \"blog\":  [('hate', 0.7150373458862305), ('loved', 0.6365389823913574), ('love,', 0.6327400207519531)]\n"
     ]
    }
   ],
   "source": [
    "print('Most similar to \"blog\": ', result[:3])"
   ]
  },
  {
   "cell_type": "code",
   "execution_count": 101,
   "metadata": {},
   "outputs": [],
   "source": [
    "def lemmatize_sent(sent):\n",
    "    return [lemmatizer.lemmatize(word.lower()) for word in sent]\n",
    "\n",
    "def embedd_by_topic(ind):   \n",
    "    text0 = new_df_g['post'][ind]\n",
    "    \n",
    "    lemmatizer=WordNetLemmatizer()\n",
    "    \n",
    "    text0_l = text0.split('.')\n",
    "    text0_l=word_splt(text0_l)\n",
    "    tokens = [sub.split() for subl in  text0_l for sub in subl] \n",
    "    \n",
    "    lemmatized = []\n",
    "    for i in tokens:\n",
    "        lemmatized.append(lemmatize_sent(i))\n",
    "\n",
    "    \n",
    "    embedding_dim=300\n",
    "    \n",
    "    w_v = Word2Vec(lemmatized, size=embedding_dim, window=5, \n",
    "                   min_count=5, negative=15, iter=10, workers=multiprocessing.cpu_count())\n",
    "\n",
    "    word_vectors = w_v.wv\n",
    "    \n",
    "    return word_vectors\n",
    "    "
   ]
  },
  {
   "cell_type": "code",
   "execution_count": 102,
   "metadata": {},
   "outputs": [],
   "source": [
    "from collections import defaultdict\n",
    "\n",
    "embds = defaultdict()\n",
    "for i in range(new_df_g['post'].shape[0]):\n",
    "    embds[new_df_g['prime_topic'][i]] = embedd_by_topic(i)"
   ]
  },
  {
   "cell_type": "code",
   "execution_count": 98,
   "metadata": {},
   "outputs": [
    {
     "data": {
      "text/plain": [
       "defaultdict(None,\n",
       "            {'blogging': <gensim.models.keyedvectors.Word2VecKeyedVectors at 0x7fe8d1c134d0>})"
      ]
     },
     "execution_count": 98,
     "metadata": {},
     "output_type": "execute_result"
    }
   ],
   "source": [
    "embds"
   ]
  },
  {
   "cell_type": "code",
   "execution_count": 99,
   "metadata": {},
   "outputs": [
    {
     "data": {
      "text/plain": [
       "[('hate', 0.8322218656539917),\n",
       " ('appreciate', 0.6973381042480469),\n",
       " ('enjoy', 0.6760803461074829),\n",
       " ('loved', 0.66237473487854),\n",
       " ('prefer', 0.6567378044128418),\n",
       " ('miss', 0.6439168453216553),\n",
       " ('agree', 0.6215038299560547),\n",
       " ('hear', 0.6065900921821594),\n",
       " ('respect', 0.5917678475379944),\n",
       " ('thank', 0.5911786556243896)]"
      ]
     },
     "execution_count": 99,
     "metadata": {},
     "output_type": "execute_result"
    }
   ],
   "source": [
    "embds['blogging'].similar_by_word('love')"
   ]
  },
  {
   "cell_type": "code",
   "execution_count": 103,
   "metadata": {},
   "outputs": [],
   "source": [
    "with open('../../topic_embeds.pkl', 'wb') as picklefile:\n",
    "    pickle.dump(embds, picklefile)"
   ]
  },
  {
   "cell_type": "code",
   "execution_count": 110,
   "metadata": {},
   "outputs": [
    {
     "data": {
      "text/plain": [
       "[('philosophy', 0.6688308715820312),\n",
       " ('arts', 0.6319067478179932),\n",
       " ('ethics', 0.6257492303848267),\n",
       " ('homosexuality', 0.613933265209198),\n",
       " ('Islam', 0.6097513437271118),\n",
       " ('religion', 0.6044865846633911),\n",
       " ('politics,', 0.6029326915740967),\n",
       " ('sex,', 0.5849233865737915),\n",
       " ('divorce,', 0.583962082862854),\n",
       " ('forming', 0.5829131603240967)]"
      ]
     },
     "execution_count": 110,
     "metadata": {},
     "output_type": "execute_result"
    }
   ],
   "source": [
    "embds['faith'].similar_by_word('politics')"
   ]
  },
  {
   "cell_type": "code",
   "execution_count": 106,
   "metadata": {},
   "outputs": [
    {
     "data": {
      "text/plain": [
       "dict_keys(['blogging', 'faith', 'jargon', 'love_relationship', 'mundane', 'politics', 'teen_fun_days'])"
      ]
     },
     "execution_count": 106,
     "metadata": {},
     "output_type": "execute_result"
    }
   ],
   "source": [
    "embds.keys()"
   ]
  },
  {
   "cell_type": "code",
   "execution_count": 107,
   "metadata": {},
   "outputs": [
    {
     "data": {
      "text/plain": [
       "[('luv', 0.6231053471565247),\n",
       " ('LOVE', 0.5698900818824768),\n",
       " ('Love', 0.525988757610321),\n",
       " ('loved', 0.5163581967353821),\n",
       " ('hate', 0.5134645104408264),\n",
       " ('miss', 0.5131471157073975),\n",
       " ('owe', 0.4790663421154022),\n",
       " ('love,', 0.4725012183189392),\n",
       " ('thank', 0.4432137608528137),\n",
       " ('adore', 0.4408349394798279)]"
      ]
     },
     "execution_count": 107,
     "metadata": {},
     "output_type": "execute_result"
    }
   ],
   "source": [
    "embds['teen_fun_days'].similar_by_word('love')"
   ]
  },
  {
   "cell_type": "code",
   "execution_count": 108,
   "metadata": {},
   "outputs": [
    {
     "data": {
      "text/plain": [
       "[('hate', 0.5890721082687378),\n",
       " ('appreciate', 0.50534987449646),\n",
       " ('admire', 0.505074679851532),\n",
       " ('enjoy', 0.49496233463287354),\n",
       " ('miss', 0.4899393320083618),\n",
       " ('love,', 0.4881824851036072),\n",
       " ('liked', 0.4838865399360657),\n",
       " ('loved', 0.46844160556793213),\n",
       " ('prefer', 0.45760250091552734),\n",
       " ('loving', 0.4452415406703949)]"
      ]
     },
     "execution_count": 108,
     "metadata": {},
     "output_type": "execute_result"
    }
   ],
   "source": [
    "embds['politics'].similar_by_word('love')"
   ]
  },
  {
   "cell_type": "code",
   "execution_count": 109,
   "metadata": {},
   "outputs": [
    {
     "data": {
      "text/plain": [
       "[('luv', 0.6610651016235352),\n",
       " ('loved', 0.638775110244751),\n",
       " ('love,', 0.6320081949234009),\n",
       " ('loving', 0.6222937107086182),\n",
       " ('trust', 0.6064069271087646),\n",
       " ('Love', 0.5571303963661194),\n",
       " ('respect', 0.5389784574508667),\n",
       " ('appreciate', 0.5291538834571838),\n",
       " ('treasure', 0.5153064727783203),\n",
       " ('happiness', 0.4961586594581604)]"
      ]
     },
     "execution_count": 109,
     "metadata": {},
     "output_type": "execute_result"
    }
   ],
   "source": [
    "embds['jargon'].similar_by_word('love')"
   ]
  },
  {
   "cell_type": "code",
   "execution_count": null,
   "metadata": {},
   "outputs": [],
   "source": []
  }
 ],
 "metadata": {
  "kernelspec": {
   "display_name": "Python 3",
   "language": "python",
   "name": "python3"
  },
  "language_info": {
   "codemirror_mode": {
    "name": "ipython",
    "version": 3
   },
   "file_extension": ".py",
   "mimetype": "text/x-python",
   "name": "python",
   "nbconvert_exporter": "python",
   "pygments_lexer": "ipython3",
   "version": "3.7.7"
  }
 },
 "nbformat": 4,
 "nbformat_minor": 4
}
