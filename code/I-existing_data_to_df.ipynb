{
 "cells": [
  {
   "cell_type": "code",
   "execution_count": 2,
   "metadata": {},
   "outputs": [],
   "source": [
    "#!ls"
   ]
  },
  {
   "cell_type": "code",
   "execution_count": 3,
   "metadata": {},
   "outputs": [],
   "source": [
    "# from lxml import etree\n",
    "# parser = etree.XMLParser(recover=True)\n",
    "# doc = etree.fromstring('blogs/5114.male.25.indUnk.Scorpio.xml', parser=parser)"
   ]
  },
  {
   "cell_type": "code",
   "execution_count": 4,
   "metadata": {},
   "outputs": [],
   "source": [
    "from collections import defaultdict\n",
    "import pandas as pd\n",
    "from bs4 import BeautifulSoup\n",
    "import glob, os\n",
    "import pickle"
   ]
  },
  {
   "cell_type": "code",
   "execution_count": 5,
   "metadata": {},
   "outputs": [],
   "source": [
    "os.chdir(\"blogs\") #see current directory\n",
    "file_names = []\n",
    "for file in glob.glob(\"*.xml\"):\n",
    "    file_names.append(file)"
   ]
  },
  {
   "cell_type": "code",
   "execution_count": 6,
   "metadata": {},
   "outputs": [],
   "source": [
    "#file_names[2]"
   ]
  },
  {
   "cell_type": "code",
   "execution_count": 7,
   "metadata": {},
   "outputs": [],
   "source": [
    "#with open('3954575.female.23.BusinessServices.Gemini.xml',encoding='utf-8',\n",
    "#                 errors='ignore') as fp:\n",
    "#    soup = BeautifulSoup(fp, 'xml')\n",
    "#soup"
   ]
  },
  {
   "cell_type": "code",
   "execution_count": 8,
   "metadata": {},
   "outputs": [],
   "source": [
    "#length = soup.find_all('date')\n",
    "#length"
   ]
  },
  {
   "cell_type": "code",
   "execution_count": 9,
   "metadata": {},
   "outputs": [],
   "source": [
    "#length[0].text"
   ]
  },
  {
   "cell_type": "code",
   "execution_count": 10,
   "metadata": {},
   "outputs": [],
   "source": [
    "#data = defaultdict()\n",
    "#file_name = '5114.male.25.indUnk.Scorpio.xml'"
   ]
  },
  {
   "cell_type": "code",
   "execution_count": 11,
   "metadata": {},
   "outputs": [],
   "source": [
    "#file_names_toy = file_names[1:3]"
   ]
  },
  {
   "cell_type": "code",
   "execution_count": 12,
   "metadata": {},
   "outputs": [],
   "source": [
    "data = defaultdict()\n",
    "for file_name in file_names:\n",
    "    #print(file_name)\n",
    "\n",
    "    with open(file_name,encoding='utf-8',\n",
    "                     errors='ignore') as fp:\n",
    "        soup = BeautifulSoup(fp, 'xml')\n",
    "        length = soup.find_all('date')\n",
    "        contents_date = soup.find_all('date')\n",
    "        contents_post = soup.find_all('post')\n",
    "        temp = defaultdict()\n",
    "        for i in range(len(length)):\n",
    "\n",
    "            #if line[0] in years_dict:\n",
    "            temp[contents_date[i].text] = contents_post[i].text\n",
    "\n",
    "        data[file_name] = temp #[i] = i#{contents_date[i]: contents_post[i]}\n",
    "    #        data[file_name] = {i: contents_date[i]}\n",
    "#        data[file_name] = {contents_date[i]: contents_post[i]}"
   ]
  },
  {
   "cell_type": "code",
   "execution_count": 13,
   "metadata": {},
   "outputs": [],
   "source": [
    "# for line in list:\n",
    "#     if line[0] in years_dict:\n",
    "#         # append the new number to the existing array at this slot\n",
    "#         years_dict[line[0]].append(line[1])\n",
    "#     else:\n",
    "#         # create a new array in this slot\n",
    "#         years_dict[line[0]] = [line[1]]"
   ]
  },
  {
   "cell_type": "code",
   "execution_count": 14,
   "metadata": {},
   "outputs": [],
   "source": [
    "x = pd.DataFrame([data]).T"
   ]
  },
  {
   "cell_type": "code",
   "execution_count": 15,
   "metadata": {},
   "outputs": [],
   "source": [
    "#x"
   ]
  },
  {
   "cell_type": "code",
   "execution_count": 16,
   "metadata": {},
   "outputs": [],
   "source": [
    "x = x[0].apply(pd.Series)"
   ]
  },
  {
   "cell_type": "code",
   "execution_count": 17,
   "metadata": {},
   "outputs": [],
   "source": [
    "#x.reset_index(inplace=True)"
   ]
  },
  {
   "cell_type": "code",
   "execution_count": 18,
   "metadata": {},
   "outputs": [],
   "source": [
    "x = pd.DataFrame(x.unstack()).reset_index().dropna(axis=0)#.info()"
   ]
  },
  {
   "cell_type": "code",
   "execution_count": 19,
   "metadata": {},
   "outputs": [
    {
     "data": {
      "text/html": [
       "<div>\n",
       "<style scoped>\n",
       "    .dataframe tbody tr th:only-of-type {\n",
       "        vertical-align: middle;\n",
       "    }\n",
       "\n",
       "    .dataframe tbody tr th {\n",
       "        vertical-align: top;\n",
       "    }\n",
       "\n",
       "    .dataframe thead th {\n",
       "        text-align: right;\n",
       "    }\n",
       "</style>\n",
       "<table border=\"1\" class=\"dataframe\">\n",
       "  <thead>\n",
       "    <tr style=\"text-align: right;\">\n",
       "      <th></th>\n",
       "      <th>level_0</th>\n",
       "      <th>level_1</th>\n",
       "      <th>0</th>\n",
       "    </tr>\n",
       "  </thead>\n",
       "  <tbody>\n",
       "    <tr>\n",
       "      <td>0</td>\n",
       "      <td>19,August,2004</td>\n",
       "      <td>4162441.male.16.Student.Sagittarius.xml</td>\n",
       "      <td>\\n\\n\\t \\n         DESTINY...       you might n...</td>\n",
       "    </tr>\n",
       "    <tr>\n",
       "      <td>13</td>\n",
       "      <td>19,August,2004</td>\n",
       "      <td>4157968.male.16.Student.Pisces.xml</td>\n",
       "      <td>\\n\\n\\t \\n       As I strolled into the mall ye...</td>\n",
       "    </tr>\n",
       "    <tr>\n",
       "      <td>17</td>\n",
       "      <td>19,August,2004</td>\n",
       "      <td>4278694.female.24.Technology.Virgo.xml</td>\n",
       "      <td>\\n\\n\\n       \\n       I've never really had a ...</td>\n",
       "    </tr>\n",
       "    <tr>\n",
       "      <td>69</td>\n",
       "      <td>19,August,2004</td>\n",
       "      <td>4261114.female.40.indUnk.Gemini.xml</td>\n",
       "      <td>\\n\\n    \\n       \\n         I love to read nov...</td>\n",
       "    </tr>\n",
       "    <tr>\n",
       "      <td>79</td>\n",
       "      <td>19,August,2004</td>\n",
       "      <td>4215047.male.17.Student.Aquarius.xml</td>\n",
       "      <td>\\n\\n\\t \\n                today.. really a very...</td>\n",
       "    </tr>\n",
       "  </tbody>\n",
       "</table>\n",
       "</div>"
      ],
      "text/plain": [
       "           level_0                                  level_1  \\\n",
       "0   19,August,2004  4162441.male.16.Student.Sagittarius.xml   \n",
       "13  19,August,2004       4157968.male.16.Student.Pisces.xml   \n",
       "17  19,August,2004   4278694.female.24.Technology.Virgo.xml   \n",
       "69  19,August,2004      4261114.female.40.indUnk.Gemini.xml   \n",
       "79  19,August,2004     4215047.male.17.Student.Aquarius.xml   \n",
       "\n",
       "                                                    0  \n",
       "0   \\n\\n\\t \\n         DESTINY...       you might n...  \n",
       "13  \\n\\n\\t \\n       As I strolled into the mall ye...  \n",
       "17  \\n\\n\\n       \\n       I've never really had a ...  \n",
       "69  \\n\\n    \\n       \\n         I love to read nov...  \n",
       "79  \\n\\n\\t \\n                today.. really a very...  "
      ]
     },
     "execution_count": 19,
     "metadata": {},
     "output_type": "execute_result"
    }
   ],
   "source": [
    "x.head()"
   ]
  },
  {
   "cell_type": "code",
   "execution_count": 20,
   "metadata": {},
   "outputs": [],
   "source": [
    "x.rename(columns={0:'post'}, inplace=True)"
   ]
  },
  {
   "cell_type": "code",
   "execution_count": 21,
   "metadata": {},
   "outputs": [],
   "source": [
    "#x[0], x[1], x[2], x[3], x[4], x[5] = x['level_1'].str.split('.', expand=True)"
   ]
  },
  {
   "cell_type": "code",
   "execution_count": 22,
   "metadata": {},
   "outputs": [],
   "source": [
    "y = x['level_1'].str.split('.', expand=True)"
   ]
  },
  {
   "cell_type": "code",
   "execution_count": 23,
   "metadata": {},
   "outputs": [],
   "source": [
    "x = pd.concat([x,y], axis=1)"
   ]
  },
  {
   "cell_type": "code",
   "execution_count": 24,
   "metadata": {},
   "outputs": [
    {
     "data": {
      "text/html": [
       "<div>\n",
       "<style scoped>\n",
       "    .dataframe tbody tr th:only-of-type {\n",
       "        vertical-align: middle;\n",
       "    }\n",
       "\n",
       "    .dataframe tbody tr th {\n",
       "        vertical-align: top;\n",
       "    }\n",
       "\n",
       "    .dataframe thead th {\n",
       "        text-align: right;\n",
       "    }\n",
       "</style>\n",
       "<table border=\"1\" class=\"dataframe\">\n",
       "  <thead>\n",
       "    <tr style=\"text-align: right;\">\n",
       "      <th></th>\n",
       "      <th>level_0</th>\n",
       "      <th>level_1</th>\n",
       "      <th>post</th>\n",
       "      <th>0</th>\n",
       "      <th>1</th>\n",
       "      <th>2</th>\n",
       "      <th>3</th>\n",
       "      <th>4</th>\n",
       "      <th>5</th>\n",
       "    </tr>\n",
       "  </thead>\n",
       "  <tbody>\n",
       "    <tr>\n",
       "      <td>206481</td>\n",
       "      <td>27,June,2004</td>\n",
       "      <td>3696461.male.16.Student.Capricorn.xml</td>\n",
       "      <td>\\n\\n     \\n      im quite steady fishing but n...</td>\n",
       "      <td>3696461</td>\n",
       "      <td>male</td>\n",
       "      <td>16</td>\n",
       "      <td>Student</td>\n",
       "      <td>Capricorn</td>\n",
       "      <td>xml</td>\n",
       "    </tr>\n",
       "    <tr>\n",
       "      <td>1153900</td>\n",
       "      <td>22,June,2004</td>\n",
       "      <td>2089678.male.25.Technology.Pisces.xml</td>\n",
       "      <td>\\n\\n     \\n      Responding to the impending p...</td>\n",
       "      <td>2089678</td>\n",
       "      <td>male</td>\n",
       "      <td>25</td>\n",
       "      <td>Technology</td>\n",
       "      <td>Pisces</td>\n",
       "      <td>xml</td>\n",
       "    </tr>\n",
       "    <tr>\n",
       "      <td>42240711</td>\n",
       "      <td>03,May,2000</td>\n",
       "      <td>1672374.female.37.Arts.Scorpio.xml</td>\n",
       "      <td>\\n\\n\\t \\n       I was sitting in my living roo...</td>\n",
       "      <td>1672374</td>\n",
       "      <td>female</td>\n",
       "      <td>37</td>\n",
       "      <td>Arts</td>\n",
       "      <td>Scorpio</td>\n",
       "      <td>xml</td>\n",
       "    </tr>\n",
       "    <tr>\n",
       "      <td>24995819</td>\n",
       "      <td>09,August,2003</td>\n",
       "      <td>698753.female.24.indUnk.Libra.xml</td>\n",
       "      <td>\\n\\n\\n       \\n       Grahgh..  I found out la...</td>\n",
       "      <td>698753</td>\n",
       "      <td>female</td>\n",
       "      <td>24</td>\n",
       "      <td>indUnk</td>\n",
       "      <td>Libra</td>\n",
       "      <td>xml</td>\n",
       "    </tr>\n",
       "  </tbody>\n",
       "</table>\n",
       "</div>"
      ],
      "text/plain": [
       "                 level_0                                level_1  \\\n",
       "206481      27,June,2004  3696461.male.16.Student.Capricorn.xml   \n",
       "1153900     22,June,2004  2089678.male.25.Technology.Pisces.xml   \n",
       "42240711     03,May,2000     1672374.female.37.Arts.Scorpio.xml   \n",
       "24995819  09,August,2003      698753.female.24.indUnk.Libra.xml   \n",
       "\n",
       "                                                       post        0       1  \\\n",
       "206481    \\n\\n     \\n      im quite steady fishing but n...  3696461    male   \n",
       "1153900   \\n\\n     \\n      Responding to the impending p...  2089678    male   \n",
       "42240711  \\n\\n\\t \\n       I was sitting in my living roo...  1672374  female   \n",
       "24995819  \\n\\n\\n       \\n       Grahgh..  I found out la...   698753  female   \n",
       "\n",
       "           2           3          4    5  \n",
       "206481    16     Student  Capricorn  xml  \n",
       "1153900   25  Technology     Pisces  xml  \n",
       "42240711  37        Arts    Scorpio  xml  \n",
       "24995819  24      indUnk      Libra  xml  "
      ]
     },
     "execution_count": 24,
     "metadata": {},
     "output_type": "execute_result"
    }
   ],
   "source": [
    "x.sample(4)"
   ]
  },
  {
   "cell_type": "code",
   "execution_count": 25,
   "metadata": {},
   "outputs": [],
   "source": [
    "x.rename(columns={'level_0':'date', 0:'blogger_id', 1:'gender', 2:'age', 3:'occupation', 4:'name'}, inplace=True)"
   ]
  },
  {
   "cell_type": "code",
   "execution_count": 26,
   "metadata": {},
   "outputs": [],
   "source": [
    "x['post'] = x['post'].str.replace('\\n','').str.replace('\\t','').str.replace('urlLink', '')"
   ]
  },
  {
   "cell_type": "code",
   "execution_count": 27,
   "metadata": {},
   "outputs": [],
   "source": [
    "#x.columns"
   ]
  },
  {
   "cell_type": "code",
   "execution_count": 28,
   "metadata": {},
   "outputs": [],
   "source": [
    "x_fin = x[['date', 'blogger_id', 'gender', 'age', 'occupation', 'name', 'post']]"
   ]
  },
  {
   "cell_type": "code",
   "execution_count": 30,
   "metadata": {},
   "outputs": [
    {
     "data": {
      "text/html": [
       "<div>\n",
       "<style scoped>\n",
       "    .dataframe tbody tr th:only-of-type {\n",
       "        vertical-align: middle;\n",
       "    }\n",
       "\n",
       "    .dataframe tbody tr th {\n",
       "        vertical-align: top;\n",
       "    }\n",
       "\n",
       "    .dataframe thead th {\n",
       "        text-align: right;\n",
       "    }\n",
       "</style>\n",
       "<table border=\"1\" class=\"dataframe\">\n",
       "  <thead>\n",
       "    <tr style=\"text-align: right;\">\n",
       "      <th></th>\n",
       "      <th>date</th>\n",
       "      <th>blogger_id</th>\n",
       "      <th>gender</th>\n",
       "      <th>age</th>\n",
       "      <th>occupation</th>\n",
       "      <th>name</th>\n",
       "      <th>post</th>\n",
       "    </tr>\n",
       "  </thead>\n",
       "  <tbody>\n",
       "    <tr>\n",
       "      <td>0</td>\n",
       "      <td>19,August,2004</td>\n",
       "      <td>4162441</td>\n",
       "      <td>male</td>\n",
       "      <td>16</td>\n",
       "      <td>Student</td>\n",
       "      <td>Sagittarius</td>\n",
       "      <td>DESTINY...       you might not say a...</td>\n",
       "    </tr>\n",
       "    <tr>\n",
       "      <td>13</td>\n",
       "      <td>19,August,2004</td>\n",
       "      <td>4157968</td>\n",
       "      <td>male</td>\n",
       "      <td>16</td>\n",
       "      <td>Student</td>\n",
       "      <td>Pisces</td>\n",
       "      <td>As I strolled into the mall yesterday,...</td>\n",
       "    </tr>\n",
       "    <tr>\n",
       "      <td>17</td>\n",
       "      <td>19,August,2004</td>\n",
       "      <td>4278694</td>\n",
       "      <td>female</td>\n",
       "      <td>24</td>\n",
       "      <td>Technology</td>\n",
       "      <td>Virgo</td>\n",
       "      <td>I've never really had a blog bef...</td>\n",
       "    </tr>\n",
       "    <tr>\n",
       "      <td>69</td>\n",
       "      <td>19,August,2004</td>\n",
       "      <td>4261114</td>\n",
       "      <td>female</td>\n",
       "      <td>40</td>\n",
       "      <td>indUnk</td>\n",
       "      <td>Gemini</td>\n",
       "      <td>I love to read novels. I l...</td>\n",
       "    </tr>\n",
       "    <tr>\n",
       "      <td>79</td>\n",
       "      <td>19,August,2004</td>\n",
       "      <td>4215047</td>\n",
       "      <td>male</td>\n",
       "      <td>17</td>\n",
       "      <td>Student</td>\n",
       "      <td>Aquarius</td>\n",
       "      <td>today.. really a very sad day...</td>\n",
       "    </tr>\n",
       "    <tr>\n",
       "      <td>...</td>\n",
       "      <td>...</td>\n",
       "      <td>...</td>\n",
       "      <td>...</td>\n",
       "      <td>...</td>\n",
       "      <td>...</td>\n",
       "      <td>...</td>\n",
       "      <td>...</td>\n",
       "    </tr>\n",
       "    <tr>\n",
       "      <td>50463676</td>\n",
       "      <td>12,February,1999</td>\n",
       "      <td>2999514</td>\n",
       "      <td>male</td>\n",
       "      <td>27</td>\n",
       "      <td>Engineering</td>\n",
       "      <td>Pisces</td>\n",
       "      <td>[detail]           Propog...</td>\n",
       "    </tr>\n",
       "    <tr>\n",
       "      <td>50482996</td>\n",
       "      <td>01,April,1999</td>\n",
       "      <td>2999514</td>\n",
       "      <td>male</td>\n",
       "      <td>27</td>\n",
       "      <td>Engineering</td>\n",
       "      <td>Pisces</td>\n",
       "      <td>[detail]         I actually...</td>\n",
       "    </tr>\n",
       "    <tr>\n",
       "      <td>50502316</td>\n",
       "      <td>05,June,1999</td>\n",
       "      <td>2999514</td>\n",
       "      <td>male</td>\n",
       "      <td>27</td>\n",
       "      <td>Engineering</td>\n",
       "      <td>Pisces</td>\n",
       "      <td>[detail]           A tria...</td>\n",
       "    </tr>\n",
       "    <tr>\n",
       "      <td>50521636</td>\n",
       "      <td>16,December,1999</td>\n",
       "      <td>2999514</td>\n",
       "      <td>male</td>\n",
       "      <td>27</td>\n",
       "      <td>Engineering</td>\n",
       "      <td>Pisces</td>\n",
       "      <td>[detail]           Points...</td>\n",
       "    </tr>\n",
       "    <tr>\n",
       "      <td>50541018</td>\n",
       "      <td>23,August,2006</td>\n",
       "      <td>4246739</td>\n",
       "      <td>female</td>\n",
       "      <td>36</td>\n",
       "      <td>Arts</td>\n",
       "      <td>Scorpio</td>\n",
       "      <td>This is a picture of my mom ...</td>\n",
       "    </tr>\n",
       "  </tbody>\n",
       "</table>\n",
       "<p>330677 rows × 7 columns</p>\n",
       "</div>"
      ],
      "text/plain": [
       "                      date blogger_id  gender age   occupation         name  \\\n",
       "0           19,August,2004    4162441    male  16      Student  Sagittarius   \n",
       "13          19,August,2004    4157968    male  16      Student       Pisces   \n",
       "17          19,August,2004    4278694  female  24   Technology        Virgo   \n",
       "69          19,August,2004    4261114  female  40       indUnk       Gemini   \n",
       "79          19,August,2004    4215047    male  17      Student     Aquarius   \n",
       "...                    ...        ...     ...  ..          ...          ...   \n",
       "50463676  12,February,1999    2999514    male  27  Engineering       Pisces   \n",
       "50482996     01,April,1999    2999514    male  27  Engineering       Pisces   \n",
       "50502316      05,June,1999    2999514    male  27  Engineering       Pisces   \n",
       "50521636  16,December,1999    2999514    male  27  Engineering       Pisces   \n",
       "50541018    23,August,2006    4246739  female  36         Arts      Scorpio   \n",
       "\n",
       "                                                       post  \n",
       "0                   DESTINY...       you might not say a...  \n",
       "13                As I strolled into the mall yesterday,...  \n",
       "17                      I've never really had a blog bef...  \n",
       "69                            I love to read novels. I l...  \n",
       "79                         today.. really a very sad day...  \n",
       "...                                                     ...  \n",
       "50463676                       [detail]           Propog...  \n",
       "50482996                     [detail]         I actually...  \n",
       "50502316                       [detail]           A tria...  \n",
       "50521636                       [detail]           Points...  \n",
       "50541018                    This is a picture of my mom ...  \n",
       "\n",
       "[330677 rows x 7 columns]"
      ]
     },
     "execution_count": 30,
     "metadata": {},
     "output_type": "execute_result"
    }
   ],
   "source": [
    "x_fin"
   ]
  },
  {
   "cell_type": "code",
   "execution_count": 252,
   "metadata": {},
   "outputs": [],
   "source": [
    "with open('blogger_com_data_330677_7.pkl', 'wb') as pf:\n",
    "    pickle.dump(x_fin, pf)"
   ]
  },
  {
   "cell_type": "code",
   "execution_count": 265,
   "metadata": {},
   "outputs": [],
   "source": [
    "#x_fin.groupby(['blogger_id', 'gender', 'age', 'occupation', 'name','date'])['post'].transform(lambda x: ' '.join(x))"
   ]
  },
  {
   "cell_type": "code",
   "execution_count": 31,
   "metadata": {},
   "outputs": [],
   "source": [
    "user_based_x_fin = pd.DataFrame(x_fin.groupby(['blogger_id','gender', 'age', 'occupation', 'name'])['post'].apply(' '.join))"
   ]
  },
  {
   "cell_type": "code",
   "execution_count": 32,
   "metadata": {},
   "outputs": [],
   "source": [
    "user_based_x_fin.reset_index(inplace=True)"
   ]
  },
  {
   "cell_type": "code",
   "execution_count": 33,
   "metadata": {},
   "outputs": [
    {
     "data": {
      "text/html": [
       "<div>\n",
       "<style scoped>\n",
       "    .dataframe tbody tr th:only-of-type {\n",
       "        vertical-align: middle;\n",
       "    }\n",
       "\n",
       "    .dataframe tbody tr th {\n",
       "        vertical-align: top;\n",
       "    }\n",
       "\n",
       "    .dataframe thead th {\n",
       "        text-align: right;\n",
       "    }\n",
       "</style>\n",
       "<table border=\"1\" class=\"dataframe\">\n",
       "  <thead>\n",
       "    <tr style=\"text-align: right;\">\n",
       "      <th></th>\n",
       "      <th>blogger_id</th>\n",
       "      <th>gender</th>\n",
       "      <th>age</th>\n",
       "      <th>occupation</th>\n",
       "      <th>name</th>\n",
       "      <th>post</th>\n",
       "    </tr>\n",
       "  </thead>\n",
       "  <tbody>\n",
       "    <tr>\n",
       "      <td>0</td>\n",
       "      <td>1000331</td>\n",
       "      <td>female</td>\n",
       "      <td>37</td>\n",
       "      <td>indUnk</td>\n",
       "      <td>Leo</td>\n",
       "      <td>My four-year old never stops talking.  ...</td>\n",
       "    </tr>\n",
       "    <tr>\n",
       "      <td>1</td>\n",
       "      <td>1000866</td>\n",
       "      <td>female</td>\n",
       "      <td>17</td>\n",
       "      <td>Student</td>\n",
       "      <td>Libra</td>\n",
       "      <td>Yes, I did say goodbye to my friends an...</td>\n",
       "    </tr>\n",
       "    <tr>\n",
       "      <td>2</td>\n",
       "      <td>1004904</td>\n",
       "      <td>male</td>\n",
       "      <td>23</td>\n",
       "      <td>Arts</td>\n",
       "      <td>Capricorn</td>\n",
       "      <td>if she wants me too then I will go to h...</td>\n",
       "    </tr>\n",
       "    <tr>\n",
       "      <td>3</td>\n",
       "      <td>1005076</td>\n",
       "      <td>female</td>\n",
       "      <td>25</td>\n",
       "      <td>Arts</td>\n",
       "      <td>Cancer</td>\n",
       "      <td>The following things about last night \"...</td>\n",
       "    </tr>\n",
       "    <tr>\n",
       "      <td>4</td>\n",
       "      <td>1005545</td>\n",
       "      <td>male</td>\n",
       "      <td>25</td>\n",
       "      <td>Engineering</td>\n",
       "      <td>Sagittarius</td>\n",
       "      <td>Blogdex     Blogdex  is a research pro...</td>\n",
       "    </tr>\n",
       "    <tr>\n",
       "      <td>...</td>\n",
       "      <td>...</td>\n",
       "      <td>...</td>\n",
       "      <td>...</td>\n",
       "      <td>...</td>\n",
       "      <td>...</td>\n",
       "      <td>...</td>\n",
       "    </tr>\n",
       "    <tr>\n",
       "      <td>19315</td>\n",
       "      <td>996147</td>\n",
       "      <td>female</td>\n",
       "      <td>36</td>\n",
       "      <td>Telecommunications</td>\n",
       "      <td>Leo</td>\n",
       "      <td>Ho hum....  Vacationed in Haw...</td>\n",
       "    </tr>\n",
       "    <tr>\n",
       "      <td>19316</td>\n",
       "      <td>997488</td>\n",
       "      <td>male</td>\n",
       "      <td>25</td>\n",
       "      <td>indUnk</td>\n",
       "      <td>Cancer</td>\n",
       "      <td>i've come back to blogs  fire truck...</td>\n",
       "    </tr>\n",
       "    <tr>\n",
       "      <td>19317</td>\n",
       "      <td>998237</td>\n",
       "      <td>female</td>\n",
       "      <td>16</td>\n",
       "      <td>indUnk</td>\n",
       "      <td>Virgo</td>\n",
       "      <td>well hey look who it is...  im actually...</td>\n",
       "    </tr>\n",
       "    <tr>\n",
       "      <td>19318</td>\n",
       "      <td>998966</td>\n",
       "      <td>male</td>\n",
       "      <td>27</td>\n",
       "      <td>indUnk</td>\n",
       "      <td>Taurus</td>\n",
       "      <td>Finally, a green pepper is g...</td>\n",
       "    </tr>\n",
       "    <tr>\n",
       "      <td>19319</td>\n",
       "      <td>999503</td>\n",
       "      <td>male</td>\n",
       "      <td>25</td>\n",
       "      <td>Internet</td>\n",
       "      <td>Cancer</td>\n",
       "      <td>I have done such a good job for s...</td>\n",
       "    </tr>\n",
       "  </tbody>\n",
       "</table>\n",
       "<p>19320 rows × 6 columns</p>\n",
       "</div>"
      ],
      "text/plain": [
       "      blogger_id  gender age          occupation         name  \\\n",
       "0        1000331  female  37              indUnk          Leo   \n",
       "1        1000866  female  17             Student        Libra   \n",
       "2        1004904    male  23                Arts    Capricorn   \n",
       "3        1005076  female  25                Arts       Cancer   \n",
       "4        1005545    male  25         Engineering  Sagittarius   \n",
       "...          ...     ...  ..                 ...          ...   \n",
       "19315     996147  female  36  Telecommunications          Leo   \n",
       "19316     997488    male  25              indUnk       Cancer   \n",
       "19317     998237  female  16              indUnk        Virgo   \n",
       "19318     998966    male  27              indUnk       Taurus   \n",
       "19319     999503    male  25            Internet       Cancer   \n",
       "\n",
       "                                                    post  \n",
       "0             My four-year old never stops talking.  ...  \n",
       "1             Yes, I did say goodbye to my friends an...  \n",
       "2             if she wants me too then I will go to h...  \n",
       "3             The following things about last night \"...  \n",
       "4              Blogdex     Blogdex  is a research pro...  \n",
       "...                                                  ...  \n",
       "19315                   Ho hum....  Vacationed in Haw...  \n",
       "19316             i've come back to blogs  fire truck...  \n",
       "19317         well hey look who it is...  im actually...  \n",
       "19318                    Finally, a green pepper is g...  \n",
       "19319               I have done such a good job for s...  \n",
       "\n",
       "[19320 rows x 6 columns]"
      ]
     },
     "execution_count": 33,
     "metadata": {},
     "output_type": "execute_result"
    }
   ],
   "source": [
    "user_based_x_fin"
   ]
  },
  {
   "cell_type": "code",
   "execution_count": 35,
   "metadata": {},
   "outputs": [],
   "source": [
    "with open('blogger_com_data_19320_6_v2.pkl', 'wb') as pf:\n",
    "    pickle.dump(user_based_x_fin, pf)"
   ]
  },
  {
   "cell_type": "code",
   "execution_count": null,
   "metadata": {},
   "outputs": [],
   "source": []
  },
  {
   "cell_type": "code",
   "execution_count": null,
   "metadata": {},
   "outputs": [],
   "source": []
  }
 ],
 "metadata": {
  "kernelspec": {
   "display_name": "Python 3",
   "language": "python",
   "name": "python3"
  },
  "language_info": {
   "codemirror_mode": {
    "name": "ipython",
    "version": 3
   },
   "file_extension": ".py",
   "mimetype": "text/x-python",
   "name": "python",
   "nbconvert_exporter": "python",
   "pygments_lexer": "ipython3",
   "version": "3.7.4"
  }
 },
 "nbformat": 4,
 "nbformat_minor": 2
}
